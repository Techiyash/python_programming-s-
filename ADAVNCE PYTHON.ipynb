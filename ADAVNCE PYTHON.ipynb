{
 "cells": [
  {
   "cell_type": "code",
   "execution_count": 27,
   "id": "71fe73ea",
   "metadata": {},
   "outputs": [
    {
     "name": "stdout",
     "output_type": "stream",
     "text": [
      "Data science\n"
     ]
    }
   ],
   "source": [
    "if True:# indentation is always4 spaces\n",
    "    print('Data science')\n"
   ]
  },
  {
   "cell_type": "code",
   "execution_count": 28,
   "id": "f61f8060",
   "metadata": {},
   "outputs": [
    {
     "name": "stdout",
     "output_type": "stream",
     "text": [
      "Data Science\n",
      "Need to spend 12 - 14 hours a day\n"
     ]
    }
   ],
   "source": [
    "if True:\n",
    "    print(\"Data Science\")\n",
    "    print(\"Need to spend 12 - 14 hours a day\")"
   ]
  },
  {
   "cell_type": "code",
   "execution_count": 29,
   "id": "f95e8c48",
   "metadata": {},
   "outputs": [
    {
     "name": "stdout",
     "output_type": "stream",
     "text": [
      "Good Bye\n"
     ]
    }
   ],
   "source": [
    "if False:\n",
    "     print(\"Data Science\")\n",
    "print(\"Good Bye\")"
   ]
  },
  {
   "cell_type": "code",
   "execution_count": 30,
   "id": "4144415a",
   "metadata": {},
   "outputs": [
    {
     "name": "stdout",
     "output_type": "stream",
     "text": [
      "Data Science\n"
     ]
    }
   ],
   "source": [
    "if True:\n",
    "    print(\"Data Science\")\n",
    "else:\n",
    "    print(\"Good Bye\")"
   ]
  },
  {
   "cell_type": "markdown",
   "id": "ec6afb01",
   "metadata": {},
   "source": [
    "# i want to print only even nymbers"
   ]
  },
  {
   "cell_type": "code",
   "execution_count": 31,
   "id": "53816859",
   "metadata": {},
   "outputs": [
    {
     "name": "stdout",
     "output_type": "stream",
     "text": [
      "Even Number \n"
     ]
    }
   ],
   "source": [
    "x = 4\n",
    "r = x%2\n",
    "\n",
    "if r == 0:\n",
    "    print(\"Even Number \")"
   ]
  },
  {
   "cell_type": "code",
   "execution_count": 32,
   "id": "50d6eee2",
   "metadata": {},
   "outputs": [
    {
     "name": "stdout",
     "output_type": "stream",
     "text": [
      "Odd Number \n"
     ]
    }
   ],
   "source": [
    "x = 7\n",
    "r = x%2\n",
    "\n",
    "if r == 0:\n",
    "    print(\"Even Number \")\n",
    "if r == 1:\n",
    "    print(\"Odd Number \")"
   ]
  },
  {
   "cell_type": "code",
   "execution_count": 33,
   "id": "154c46cc",
   "metadata": {},
   "outputs": [
    {
     "name": "stdout",
     "output_type": "stream",
     "text": [
      "Odd Number \n"
     ]
    }
   ],
   "source": [
    "x = 9\n",
    "r = x%2\n",
    "\n",
    "if r == 0:\n",
    "    print(\"Even Number \")\n",
    "if r == 1:\n",
    "    print(\"Odd Number \")"
   ]
  },
  {
   "cell_type": "code",
   "execution_count": 34,
   "id": "b768250a",
   "metadata": {},
   "outputs": [
    {
     "name": "stdout",
     "output_type": "stream",
     "text": [
      "Even Number \n"
     ]
    }
   ],
   "source": [
    "x = 10\n",
    "r = x%2\n",
    "\n",
    "if r == 0:\n",
    "    print(\"Even Number \")\n",
    "if r == 1:\n",
    "    print(\"Odd Number \")"
   ]
  },
  {
   "cell_type": "code",
   "execution_count": 35,
   "id": "76368f5e",
   "metadata": {},
   "outputs": [
    {
     "name": "stdout",
     "output_type": "stream",
     "text": [
      "Even Number \n"
     ]
    }
   ],
   "source": [
    "x = 22\n",
    "r = x%2\n",
    "\n",
    "if r == 0:\n",
    "    print(\"Even Number \")\n",
    "else:\n",
    "    print(\"Odd Number \")\n",
    "    # always write this code dont always usded if , if  "
   ]
  },
  {
   "cell_type": "code",
   "execution_count": 36,
   "id": "ff39a8da",
   "metadata": {},
   "outputs": [
    {
     "name": "stdout",
     "output_type": "stream",
     "text": [
      "Even Number \n"
     ]
    }
   ],
   "source": [
    "x = 0\n",
    "r = x%2\n",
    "\n",
    "if r == 0:\n",
    "    print(\"Even Number \")\n",
    "if r !=0:# this is not equal to 0 , we used in that replacement of ==1 \n",
    "    print(\"Odd Number \") "
   ]
  },
  {
   "cell_type": "code",
   "execution_count": 37,
   "id": "ba60d6af",
   "metadata": {},
   "outputs": [
    {
     "name": "stdout",
     "output_type": "stream",
     "text": [
      "Odd Number \n"
     ]
    }
   ],
   "source": [
    "# 2 condtion are used its nasted if type problem\n",
    "x = 15\n",
    "r = x%2\n",
    "\n",
    "if r == 0:\n",
    "    print(\"Even Number \")\n",
    "    if x>5:\n",
    "        print('greater number')\n",
    "        \n",
    "    \n",
    "    \n",
    "    \n",
    "    \n",
    "    \n",
    "    \n",
    "    \n",
    "else:\n",
    "    print(\"Odd Number \")"
   ]
  },
  {
   "cell_type": "code",
   "execution_count": 38,
   "id": "a27da379",
   "metadata": {},
   "outputs": [
    {
     "name": "stdout",
     "output_type": "stream",
     "text": [
      "Even Number \n",
      "greater number\n"
     ]
    }
   ],
   "source": [
    "# 2 condtion are used its nasted if type problem\n",
    "x = 10\n",
    "r = x%2\n",
    "\n",
    "if r == 0:\n",
    "    print(\"Even Number \")\n",
    "    if x>5:\n",
    "        print('greater number')\n",
    "        \n",
    "    \n",
    "else:\n",
    "    print(\"Odd Number \")"
   ]
  },
  {
   "cell_type": "code",
   "execution_count": 40,
   "id": "c7dff17f",
   "metadata": {},
   "outputs": [
    {
     "name": "stdout",
     "output_type": "stream",
     "text": [
      "Even Number \n",
      "not greater\n"
     ]
    }
   ],
   "source": [
    "x = 4\n",
    "r = x%2\n",
    "\n",
    "if r == 0:\n",
    "    print(\"Even Number \")\n",
    "    if x>5:\n",
    "        print('greater number')\n",
    "    else:\n",
    "        print(\"not greater\")   \n",
    "    \n",
    "else:\n",
    "    print(\"Odd Number \")"
   ]
  },
  {
   "cell_type": "code",
   "execution_count": 41,
   "id": "5275569b",
   "metadata": {},
   "outputs": [
    {
     "name": "stdout",
     "output_type": "stream",
     "text": [
      "two\n"
     ]
    }
   ],
   "source": [
    "# if , elif , else we used that \n",
    "x = 2\n",
    "if(x==1):\n",
    "    print('one')\n",
    "elif(x==2):\n",
    "    print('two')\n",
    "elif(x==3):\n",
    "    print('three')\n",
    "elif(x==4):\n",
    "    print('four')\n",
    "    \n",
    "else:\n",
    "    print('Out of Range')\n",
    "\n",
    "  \n"
   ]
  },
  {
   "cell_type": "code",
   "execution_count": 42,
   "id": "8b28d5e3",
   "metadata": {},
   "outputs": [
    {
     "name": "stdout",
     "output_type": "stream",
     "text": [
      "Out of Range\n"
     ]
    }
   ],
   "source": [
    "# if , elif , else we used that \n",
    "x = 10\n",
    "if(x==1):\n",
    "    print('one')\n",
    "elif(x==2):\n",
    "    print('two')\n",
    "elif(x==3):\n",
    "    print('three')\n",
    "elif(x==4):\n",
    "    print('four')\n",
    "    \n",
    "else:\n",
    "    print('Out of Range')\n",
    "\n",
    "  \n"
   ]
  },
  {
   "cell_type": "code",
   "execution_count": 43,
   "id": "4aca3fe0",
   "metadata": {},
   "outputs": [
    {
     "name": "stdout",
     "output_type": "stream",
     "text": [
      "four\n"
     ]
    }
   ],
   "source": [
    "# if , elif , else we used that \n",
    "x = 4\n",
    "if(x==1):\n",
    "    print('one')\n",
    "elif(x==2):\n",
    "    print('two')\n",
    "elif(x==3):\n",
    "    print('three')\n",
    "elif(x==4):\n",
    "    print('four')\n",
    "    \n",
    "else:\n",
    "    print('Out of Range')\n",
    "\n",
    "  \n"
   ]
  },
  {
   "cell_type": "code",
   "execution_count": null,
   "id": "35ea5ba8",
   "metadata": {},
   "outputs": [],
   "source": []
  }
 ],
 "metadata": {
  "kernelspec": {
   "display_name": "base",
   "language": "python",
   "name": "python3"
  },
  "language_info": {
   "codemirror_mode": {
    "name": "ipython",
    "version": 3
   },
   "file_extension": ".py",
   "mimetype": "text/x-python",
   "name": "python",
   "nbconvert_exporter": "python",
   "pygments_lexer": "ipython3",
   "version": "3.12.7"
  }
 },
 "nbformat": 4,
 "nbformat_minor": 5
}
