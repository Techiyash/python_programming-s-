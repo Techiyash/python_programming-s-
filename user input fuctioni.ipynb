{
 "cells": [
  {
   "cell_type": "markdown",
   "id": "0a148974",
   "metadata": {},
   "source": [
    "# user input function in python || command line input\n",
    "_how to get input from user"
   ]
  },
  {
   "cell_type": "code",
   "execution_count": 3,
   "id": "025c0d42",
   "metadata": {},
   "outputs": [
    {
     "data": {
      "text/plain": [
       "'5'"
      ]
     },
     "execution_count": 3,
     "metadata": {},
     "output_type": "execute_result"
    }
   ],
   "source": [
    "x = input()\n",
    "x"
   ]
  },
  {
   "cell_type": "code",
   "execution_count": null,
   "id": "3f114f53",
   "metadata": {},
   "outputs": [
    {
     "name": "stdout",
     "output_type": "stream",
     "text": [
      "96\n"
     ]
    }
   ],
   "source": [
    "x = input()\n",
    "y = input()\n",
    "z = x + y \n",
    "print(z) # console is wating for user to enter input\n",
    "#also if you work in idle then you can use input() function to get input from user"
   ]
  },
  {
   "cell_type": "code",
   "execution_count": 7,
   "id": "507e8335",
   "metadata": {},
   "outputs": [
    {
     "data": {
      "text/plain": [
       "str"
      ]
     },
     "execution_count": 7,
     "metadata": {},
     "output_type": "execute_result"
    }
   ],
   "source": [
    "type(z)"
   ]
  },
  {
   "cell_type": "code",
   "execution_count": 8,
   "id": "c7d94d8b",
   "metadata": {},
   "outputs": [
    {
     "data": {
      "text/plain": [
       "str"
      ]
     },
     "execution_count": 8,
     "metadata": {},
     "output_type": "execute_result"
    }
   ],
   "source": [
    "type(x)"
   ]
  },
  {
   "cell_type": "code",
   "execution_count": 9,
   "id": "3c537405",
   "metadata": {},
   "outputs": [
    {
     "name": "stdout",
     "output_type": "stream",
     "text": [
      "2378\n"
     ]
    }
   ],
   "source": [
    "x1 = input(\"Enter first number: \")\n",
    "y1 = input(\"Enter second number: \") \n",
    "z1 = x1 + y1\n",
    "print(z1) # this will print the concatenated string of x1 and y1"
   ]
  },
  {
   "cell_type": "code",
   "execution_count": null,
   "id": "46262e40",
   "metadata": {},
   "outputs": [
    {
     "name": "stdout",
     "output_type": "stream",
     "text": [
      "24\n"
     ]
    }
   ],
   "source": [
    "x1 = input(\"Enter first number: \")\n",
    "a1 = int(x1) # by using typecasting we coverted string to th integer\n",
    "x2 = input(\"Enter second number: \")\n",
    "a2 = int(x2) # by using typecasting we coverted string to th integer\n",
    "z1 = a1 + a1 \n",
    "print(z1)"
   ]
  },
  {
   "cell_type": "code",
   "execution_count": 13,
   "id": "cdfca47a",
   "metadata": {},
   "outputs": [
    {
     "data": {
      "text/plain": [
       "int"
      ]
     },
     "execution_count": 13,
     "metadata": {},
     "output_type": "execute_result"
    }
   ],
   "source": [
    "type(z1)"
   ]
  },
  {
   "cell_type": "code",
   "execution_count": 15,
   "id": "241be3e9",
   "metadata": {},
   "outputs": [
    {
     "name": "stdout",
     "output_type": "stream",
     "text": [
      "4\n"
     ]
    }
   ],
   "source": [
    "x1 = int(input(\"Enter first number: \"))\n",
    "x2 = int(input(\"Enter second number: \"))\n",
    "z1 = x1 + x2\n",
    "print(z1) # this will print the sum of x1 and x2 as integers\n",
    "#in that we reduced the code by using typecasting in input function"
   ]
  },
  {
   "cell_type": "code",
   "execution_count": 16,
   "id": "c2c4d82e",
   "metadata": {},
   "outputs": [
    {
     "data": {
      "text/plain": [
       "'Hello'"
      ]
     },
     "execution_count": 16,
     "metadata": {},
     "output_type": "execute_result"
    }
   ],
   "source": [
    "st = input(\"Enter a string: \")\n",
    "st"
   ]
  },
  {
   "cell_type": "code",
   "execution_count": 18,
   "id": "10959a89",
   "metadata": {},
   "outputs": [
    {
     "name": "stdout",
     "output_type": "stream",
     "text": [
      "H\n"
     ]
    }
   ],
   "source": [
    "print(st[0])"
   ]
  },
  {
   "cell_type": "code",
   "execution_count": 19,
   "id": "7452a011",
   "metadata": {},
   "outputs": [
    {
     "name": "stdout",
     "output_type": "stream",
     "text": [
      "He\n"
     ]
    }
   ],
   "source": [
    "print(st[0 : 2])"
   ]
  },
  {
   "cell_type": "code",
   "execution_count": 20,
   "id": "a9364c59",
   "metadata": {},
   "outputs": [
    {
     "name": "stdout",
     "output_type": "stream",
     "text": [
      "e\n"
     ]
    }
   ],
   "source": [
    "print(st[1])"
   ]
  },
  {
   "cell_type": "code",
   "execution_count": 21,
   "id": "6e3b463a",
   "metadata": {},
   "outputs": [
    {
     "name": "stdout",
     "output_type": "stream",
     "text": [
      "o\n"
     ]
    }
   ],
   "source": [
    "print(st[-1])"
   ]
  },
  {
   "cell_type": "code",
   "execution_count": 22,
   "id": "f98d76e6",
   "metadata": {},
   "outputs": [
    {
     "data": {
      "text/plain": [
       "'H'"
      ]
     },
     "execution_count": 22,
     "metadata": {},
     "output_type": "execute_result"
    }
   ],
   "source": [
    "st = input(\"enter a string\")[0]\n",
    "st"
   ]
  },
  {
   "cell_type": "code",
   "execution_count": 23,
   "id": "9aa41217",
   "metadata": {},
   "outputs": [
    {
     "data": {
      "text/plain": [
       "'t'"
      ]
     },
     "execution_count": 23,
     "metadata": {},
     "output_type": "execute_result"
    }
   ],
   "source": [
    "st = input(\"enter a string\")[1]\n",
    "st"
   ]
  },
  {
   "cell_type": "code",
   "execution_count": 24,
   "id": "5862cdd4",
   "metadata": {},
   "outputs": [
    {
     "data": {
      "text/plain": [
       "'Ma'"
      ]
     },
     "execution_count": 24,
     "metadata": {},
     "output_type": "execute_result"
    }
   ],
   "source": [
    "st = input(\"enter a string\")[0 : 2]\n",
    "st"
   ]
  },
  {
   "cell_type": "code",
   "execution_count": 25,
   "id": "09242917",
   "metadata": {},
   "outputs": [
    {
     "name": "stdout",
     "output_type": "stream",
     "text": [
      "12+11-12\n",
      "<class 'str'>\n"
     ]
    }
   ],
   "source": [
    "result = input (\"enter a expression\")\n",
    "print(result)\n",
    "print(type(result))"
   ]
  },
  {
   "cell_type": "code",
   "execution_count": 31,
   "id": "65635e48",
   "metadata": {},
   "outputs": [
    {
     "name": "stdout",
     "output_type": "stream",
     "text": [
      "12+23-12\n",
      "<class 'str'>\n"
     ]
    }
   ],
   "source": [
    "result = (input (\"enter a expression\"))\n",
    "print(result)\n",
    "print(type(result))"
   ]
  },
  {
   "cell_type": "code",
   "execution_count": 35,
   "id": "ebdb3be7",
   "metadata": {},
   "outputs": [
    {
     "name": "stdout",
     "output_type": "stream",
     "text": [
      "24\n",
      "<class 'int'>\n"
     ]
    }
   ],
   "source": [
    "result = int(input (\"enter a expression\"))\n",
    "print(result)\n",
    "print(type(result))"
   ]
  },
  {
   "cell_type": "code",
   "execution_count": 36,
   "id": "00fc73f4",
   "metadata": {},
   "outputs": [
    {
     "name": "stdout",
     "output_type": "stream",
     "text": [
      "0\n"
     ]
    }
   ],
   "source": [
    "result = eval(input (\"enter a expression\"))\n",
    "print(result)"
   ]
  },
  {
   "cell_type": "code",
   "execution_count": null,
   "id": "a6d85f1f",
   "metadata": {},
   "outputs": [],
   "source": []
  }
 ],
 "metadata": {
  "kernelspec": {
   "display_name": "Python 3",
   "language": "python",
   "name": "python3"
  },
  "language_info": {
   "codemirror_mode": {
    "name": "ipython",
    "version": 3
   },
   "file_extension": ".py",
   "mimetype": "text/x-python",
   "name": "python",
   "nbconvert_exporter": "python",
   "pygments_lexer": "ipython3",
   "version": "3.12.1"
  }
 },
 "nbformat": 4,
 "nbformat_minor": 5
}
