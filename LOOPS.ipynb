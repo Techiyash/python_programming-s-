{
 "cells": [
  {
   "cell_type": "code",
   "execution_count": 1,
   "id": "29a63460",
   "metadata": {},
   "outputs": [
    {
     "name": "stdout",
     "output_type": "stream",
     "text": [
      "Yash Gupta\n",
      "Yash Gupta\n",
      "Yash Gupta\n",
      "Yash Gupta\n",
      "Yash Gupta\n"
     ]
    }
   ],
   "source": [
    "i=1 # Initialize i to 1\n",
    "while i<=5: # This loop will not execute because i is initialized to 1 and the condition is i >= 5\n",
    "    print('Yash Gupta')\n",
    "    i = i + 1 #increment i by 1"
   ]
  },
  {
   "cell_type": "code",
   "execution_count": 2,
   "id": "cb78115e",
   "metadata": {},
   "outputs": [
    {
     "name": "stdout",
     "output_type": "stream",
     "text": [
      "Yash Gupta\n",
      "Yash Gupta\n",
      "Yash Gupta\n",
      "Yash Gupta\n",
      "Yash Gupta\n"
     ]
    }
   ],
   "source": [
    "i=1 \n",
    "while 5 >= i: # This loop will execute as long as i is less than or equal to 5\n",
    "    print('Yash Gupta')\n",
    "    i = i + 1"
   ]
  },
  {
   "cell_type": "code",
   "execution_count": 3,
   "id": "7407a651",
   "metadata": {},
   "outputs": [
    {
     "name": "stdout",
     "output_type": "stream",
     "text": [
      "Yash Gupta\n",
      "Yash Gupta\n",
      "Yash Gupta\n",
      "Yash Gupta\n",
      "Yash Gupta\n"
     ]
    }
   ],
   "source": [
    "i=1 \n",
    "while 5 >= i: # This loop will execute as long as i is less than or equal to 5\n",
    "    print('Yash Gupta')\n",
    "    i = i + 1"
   ]
  },
  {
   "cell_type": "code",
   "execution_count": 4,
   "id": "8301236d",
   "metadata": {},
   "outputs": [
    {
     "name": "stdout",
     "output_type": "stream",
     "text": [
      "Yash Gupta\n",
      "V.D\n",
      "V.D\n",
      "V.D\n",
      "V.D\n",
      "Yash Gupta\n",
      "V.D\n",
      "V.D\n",
      "V.D\n",
      "V.D\n",
      "Yash Gupta\n",
      "V.D\n",
      "V.D\n",
      "V.D\n",
      "V.D\n",
      "Yash Gupta\n",
      "V.D\n",
      "V.D\n",
      "V.D\n",
      "V.D\n",
      "Yash Gupta\n",
      "V.D\n",
      "V.D\n",
      "V.D\n",
      "V.D\n"
     ]
    }
   ],
   "source": [
    "i=1 \n",
    "while i<= 5:\n",
    "    print('Yash Gupta')\n",
    "    j=1\n",
    "    while j<=4:\n",
    "        print('V.D')\n",
    "        j=j + 1\n",
    "    i = i + 1"
   ]
  },
  {
   "cell_type": "code",
   "execution_count": 5,
   "id": "9c26d24b",
   "metadata": {},
   "outputs": [
    {
     "name": "stdout",
     "output_type": "stream",
     "text": [
      "Yash Gupta V.D V.D V.D V.D \n",
      "Yash Gupta V.D V.D V.D V.D \n",
      "Yash Gupta V.D V.D V.D V.D \n",
      "Yash Gupta V.D V.D V.D V.D \n",
      "Yash Gupta V.D V.D V.D V.D \n"
     ]
    }
   ],
   "source": [
    "i=1 \n",
    "while i<= 5:\n",
    "    print('Yash Gupta' , end=' ')#when we mention end then new line will not created \n",
    "    j=1\n",
    "    while j<=4:\n",
    "        print('V.D' , end=' ')\n",
    "        j=j + 1\n",
    "    i = i + 1\n",
    "    print()"
   ]
  },
  {
   "cell_type": "code",
   "execution_count": 6,
   "id": "4ebb6f41",
   "metadata": {},
   "outputs": [
    {
     "name": "stdout",
     "output_type": "stream",
     "text": [
      "Yash Gupta *V.D* V.D* V.D* V.D* \n",
      "Yash Gupta *V.D* V.D* V.D* V.D* \n",
      "Yash Gupta *V.D* V.D* V.D* V.D* \n",
      "Yash Gupta *V.D* V.D* V.D* V.D* \n",
      "Yash Gupta *V.D* V.D* V.D* V.D* \n"
     ]
    }
   ],
   "source": [
    "i=1 \n",
    "while i<= 5:\n",
    "    print('Yash Gupta' , end=' *')#when we mention end then new line will not created \n",
    "    j=1\n",
    "    while j<=4:\n",
    "        print('V.D' , end='* ')\n",
    "        j=j + 1\n",
    "    i = i + 1\n",
    "    print()"
   ]
  },
  {
   "cell_type": "code",
   "execution_count": 7,
   "id": "0e38838b",
   "metadata": {},
   "outputs": [
    {
     "name": "stdout",
     "output_type": "stream",
     "text": [
      "0123\n",
      "0246\n",
      "0369\n",
      "04812\n"
     ]
    }
   ],
   "source": [
    "i = 1\n",
    "while i <=4:\n",
    "    j = 0\n",
    "    while j<= 3:\n",
    "        print(i*j, end=\"\")\n",
    "        j+= 1\n",
    "    print()  # Print a new line after each inner loop completes\n",
    "    i += 1\n",
    "\n"
   ]
  },
  {
   "cell_type": "code",
   "execution_count": 8,
   "id": "fd151d18",
   "metadata": {},
   "outputs": [],
   "source": [
    "# for Loops - normally while loops are work with condition but for loop it will work with sequence(list,string,integer)"
   ]
  },
  {
   "cell_type": "markdown",
   "id": "52952d2a",
   "metadata": {},
   "source": []
  },
  {
   "cell_type": "code",
   "execution_count": 9,
   "id": "e3e69d41",
   "metadata": {},
   "outputs": [
    {
     "name": "stdout",
     "output_type": "stream",
     "text": [
      "y\n",
      "r\n",
      "g\n"
     ]
    }
   ],
   "source": [
    "name = \"yrg\"\n",
    "for i in name:\n",
    "    print(i)"
   ]
  },
  {
   "cell_type": "code",
   "execution_count": 10,
   "id": "c23fb531",
   "metadata": {},
   "outputs": [
    {
     "name": "stdout",
     "output_type": "stream",
     "text": [
      "1\n",
      "3.5\n",
      "hello\n"
     ]
    }
   ],
   "source": [
    "name1 = [1, 3.5, 'hello']\n",
    "for i in name1:\n",
    "    print(i)"
   ]
  },
  {
   "cell_type": "code",
   "execution_count": 11,
   "id": "00a1b791",
   "metadata": {},
   "outputs": [
    {
     "name": "stdout",
     "output_type": "stream",
     "text": [
      "2\n",
      "3\n",
      "7.8\n",
      "hi\n"
     ]
    }
   ],
   "source": [
    "for i in [2,3,7.8,'hi']:\n",
    "    print(i)"
   ]
  },
  {
   "cell_type": "code",
   "execution_count": 12,
   "id": "f3bda674",
   "metadata": {},
   "outputs": [
    {
     "name": "stdout",
     "output_type": "stream",
     "text": [
      "0\n",
      "1\n",
      "2\n",
      "3\n",
      "4\n"
     ]
    }
   ],
   "source": [
    "for i in range(5):\n",
    "    print(i)"
   ]
  },
  {
   "cell_type": "code",
   "execution_count": 13,
   "id": "837f0a54",
   "metadata": {},
   "outputs": [
    {
     "name": "stdout",
     "output_type": "stream",
     "text": [
      "1\n",
      "2\n",
      "3\n",
      "4\n"
     ]
    }
   ],
   "source": [
    "for i in range(1,5):\n",
    "    print(i)"
   ]
  },
  {
   "cell_type": "code",
   "execution_count": 14,
   "id": "06e5f899",
   "metadata": {},
   "outputs": [
    {
     "name": "stdout",
     "output_type": "stream",
     "text": [
      "1\n",
      "4\n",
      "7\n"
     ]
    }
   ],
   "source": [
    "for i in range(1,10,3):\n",
    "    print(i)"
   ]
  },
  {
   "cell_type": "code",
   "execution_count": 15,
   "id": "82787b7d",
   "metadata": {},
   "outputs": [
    {
     "name": "stdout",
     "output_type": "stream",
     "text": [
      "5\n",
      "10\n",
      "15\n",
      "20\n",
      "25\n",
      "30\n",
      "35\n",
      "40\n",
      "45\n",
      "50\n"
     ]
    }
   ],
   "source": [
    "# can you write the python code for 5 multiplication table \n",
    "for i in range (1,51):\n",
    "    if i%5 == 0:\n",
    "        print(i)"
   ]
  },
  {
   "cell_type": "code",
   "execution_count": 16,
   "id": "6f9a29cc",
   "metadata": {},
   "outputs": [
    {
     "name": "stdout",
     "output_type": "stream",
     "text": [
      "1\n",
      "2\n",
      "3\n",
      "4\n",
      "6\n",
      "7\n",
      "8\n",
      "9\n",
      "11\n",
      "12\n",
      "13\n",
      "14\n",
      "16\n",
      "17\n",
      "18\n",
      "19\n",
      "21\n",
      "22\n",
      "23\n",
      "24\n",
      "26\n",
      "27\n",
      "28\n",
      "29\n",
      "31\n",
      "32\n",
      "33\n",
      "34\n",
      "36\n",
      "37\n",
      "38\n",
      "39\n",
      "41\n",
      "42\n",
      "43\n",
      "44\n",
      "46\n",
      "47\n",
      "48\n",
      "49\n"
     ]
    }
   ],
   "source": [
    "#in that case we want to print the numbers which are not divisible by 5\n",
    "for i in range (1,51):\n",
    "    if i%5 != 0:\n",
    "        print(i)"
   ]
  },
  {
   "cell_type": "code",
   "execution_count": 17,
   "id": "01cb51e9",
   "metadata": {},
   "outputs": [
    {
     "name": "stdout",
     "output_type": "stream",
     "text": [
      "1\n",
      "2\n",
      "3\n",
      "4\n",
      "5\n",
      "6\n",
      "7\n",
      "8\n",
      "9\n",
      "10\n"
     ]
    }
   ],
   "source": [
    "for i in range(1, 11):\n",
    "    print(i)"
   ]
  },
  {
   "cell_type": "code",
   "execution_count": 18,
   "id": "e7d1d5ca",
   "metadata": {},
   "outputs": [
    {
     "name": "stdout",
     "output_type": "stream",
     "text": [
      "1\n",
      "2\n",
      "3\n",
      "4\n"
     ]
    }
   ],
   "source": [
    "for i in range(1, 11):\n",
    "    if i == 5:\n",
    "        break  # This will exit the loop when i is 5\n",
    "    print(i)"
   ]
  },
  {
   "cell_type": "code",
   "execution_count": 19,
   "id": "78206bcd",
   "metadata": {},
   "outputs": [
    {
     "name": "stdout",
     "output_type": "stream",
     "text": [
      "1\n",
      "2\n",
      "3\n",
      "4\n",
      "5\n",
      "6\n"
     ]
    }
   ],
   "source": [
    "for i in range(1, 11):\n",
    "    if i == 7:\n",
    "        break  # This will exit the loop when i is 5\n",
    "    print(i)"
   ]
  },
  {
   "cell_type": "code",
   "execution_count": 20,
   "id": "6111ebf9",
   "metadata": {},
   "outputs": [
    {
     "name": "stdout",
     "output_type": "stream",
     "text": [
      "1\n",
      "2\n",
      "3\n",
      "4\n",
      "5\n",
      "6\n",
      "8\n",
      "9\n",
      "10\n"
     ]
    }
   ],
   "source": [
    "for i in range(1, 11):\n",
    "    if i == 7:\n",
    "        continue  # This will skip the iteration when i is 7\n",
    "    print(i)"
   ]
  },
  {
   "cell_type": "code",
   "execution_count": 21,
   "id": "00adf198",
   "metadata": {},
   "outputs": [
    {
     "name": "stdout",
     "output_type": "stream",
     "text": [
      "1\n",
      "2\n",
      "3\n",
      "4\n",
      "5\n",
      "6\n",
      "7\n",
      "8\n",
      "10\n"
     ]
    }
   ],
   "source": [
    "for i in range(1, 11):\n",
    "    if i == 9:\n",
    "        continue  # This will skip the iteration when i is 7\n",
    "    print(i)"
   ]
  },
  {
   "cell_type": "code",
   "execution_count": 22,
   "id": "57601aa2",
   "metadata": {},
   "outputs": [],
   "source": [
    "for i in range(1,11):\n",
    "    pass # This will do nothing and continue to the next iteration"
   ]
  },
  {
   "cell_type": "code",
   "execution_count": 23,
   "id": "e961db2a",
   "metadata": {},
   "outputs": [
    {
     "name": "stdout",
     "output_type": "stream",
     "text": [
      "####\n",
      "####\n",
      "####\n",
      "####\n"
     ]
    }
   ],
   "source": [
    "for i in range(4):\n",
    "    for j in range(4):\n",
    "        print('#', end='')\n",
    "    print()  # Move to the next line after each row"
   ]
  },
  {
   "cell_type": "code",
   "execution_count": 1,
   "id": "763732d5",
   "metadata": {},
   "outputs": [
    {
     "name": "stdout",
     "output_type": "stream",
     "text": [
      "****\n",
      "***\n",
      "**\n",
      "*\n",
      "\n"
     ]
    }
   ],
   "source": [
    "for i in range(5):\n",
    "    for j in range(4-i):\n",
    "        print('*', end='')\n",
    "    print() "
   ]
  },
  {
   "cell_type": "markdown",
   "id": "04cdcbc7",
   "metadata": {},
   "source": []
  },
  {
   "cell_type": "markdown",
   "id": "1d6bc267",
   "metadata": {},
   "source": [
    "# FOR |ELSE IN PYTHON"
   ]
  },
  {
   "cell_type": "code",
   "execution_count": 2,
   "id": "876afb8b",
   "metadata": {},
   "outputs": [
    {
     "name": "stdout",
     "output_type": "stream",
     "text": [
      "15\n"
     ]
    }
   ],
   "source": [
    "num = [12,23,14,15,32,56]\n",
    "for num in num:\n",
    "  if num %5 == 0:\n",
    "     print(num)"
   ]
  },
  {
   "cell_type": "code",
   "execution_count": 3,
   "id": "3fad413b",
   "metadata": {},
   "outputs": [
    {
     "name": "stdout",
     "output_type": "stream",
     "text": [
      "15\n",
      "60\n",
      "65\n"
     ]
    }
   ],
   "source": [
    "num = [12,23,14,15,32,56,60,64,65]\n",
    "for num in num:\n",
    "  if num %5 == 0:\n",
    "     print(num)"
   ]
  },
  {
   "cell_type": "code",
   "execution_count": 4,
   "id": "d128641f",
   "metadata": {},
   "outputs": [
    {
     "name": "stdout",
     "output_type": "stream",
     "text": [
      "15\n"
     ]
    }
   ],
   "source": [
    "num = [12,23,14,15,32,56,60,64,65]\n",
    "for num in num:\n",
    "  if num %5 == 0:\n",
    "     print(num)\n",
    "     break# This will exit the loop after printing the first number divisible by 5"
   ]
  },
  {
   "cell_type": "code",
   "execution_count": 6,
   "id": "493d5994",
   "metadata": {},
   "outputs": [],
   "source": [
    "num = [12,23,14,32,56]\n",
    "for num in num:\n",
    "  if num %5 == 0:\n",
    "     print(num)\n",
    "     # IN THAT THERE I S  ANO NUMBER DIVISIBLE BY 5 SO NOTHING WILL BE PRINTED"
   ]
  },
  {
   "cell_type": "code",
   "execution_count": 9,
   "id": "30479e24",
   "metadata": {},
   "outputs": [
    {
     "name": "stdout",
     "output_type": "stream",
     "text": [
      "Number not found\n"
     ]
    }
   ],
   "source": [
    "num = [12,23,14,32,56]\n",
    "for n in num:\n",
    "    if n % 5 == 0:\n",
    "        print(n)\n",
    "        break\n",
    "else:\n",
    "    print('Number not found')"
   ]
  },
  {
   "cell_type": "code",
   "execution_count": 10,
   "id": "76cd7bde",
   "metadata": {},
   "outputs": [
    {
     "name": "stdout",
     "output_type": "stream",
     "text": [
      "not prime number\n"
     ]
    }
   ],
   "source": [
    "num = 45\n",
    "for i in range (2,num):\n",
    "    if num %1 == 0:\n",
    "        print('not prime number')\n",
    "        break\n",
    "else:\n",
    "    print('prime number')"
   ]
  },
  {
   "cell_type": "code",
   "execution_count": 11,
   "id": "544df64e",
   "metadata": {},
   "outputs": [
    {
     "name": "stdout",
     "output_type": "stream",
     "text": [
      "not prime number\n"
     ]
    }
   ],
   "source": [
    "num = 11\n",
    "for i in range (2,num):\n",
    "    if num %1 == 0:\n",
    "        print('not prime number')\n",
    "        break\n",
    "else:\n",
    "    print('prime number')"
   ]
  },
  {
   "cell_type": "code",
   "execution_count": 12,
   "id": "f16f8a0a",
   "metadata": {},
   "outputs": [
    {
     "name": "stdout",
     "output_type": "stream",
     "text": [
      "not prime number\n"
     ]
    }
   ],
   "source": [
    "num = 13\n",
    "for i in range (2,num):\n",
    "    if num %1 == 0:\n",
    "        print('not prime number')\n",
    "        break\n",
    "else:\n",
    "    print('prime number')"
   ]
  },
  {
   "cell_type": "code",
   "execution_count": null,
   "id": "c79211a1",
   "metadata": {},
   "outputs": [],
   "source": []
  }
 ],
 "metadata": {
  "kernelspec": {
   "display_name": "base",
   "language": "python",
   "name": "python3"
  },
  "language_info": {
   "codemirror_mode": {
    "name": "ipython",
    "version": 3
   },
   "file_extension": ".py",
   "mimetype": "text/x-python",
   "name": "python",
   "nbconvert_exporter": "python",
   "pygments_lexer": "ipython3",
   "version": "3.12.7"
  }
 },
 "nbformat": 4,
 "nbformat_minor": 5
}
