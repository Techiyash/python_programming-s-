{
 "cells": [
  {
   "cell_type": "code",
   "execution_count": 3,
   "id": "872b0369",
   "metadata": {},
   "outputs": [
    {
     "name": "stdout",
     "output_type": "stream",
     "text": [
      "15\n"
     ]
    }
   ],
   "source": [
    "nums= [12,15,18,21,28]\n",
    "for num in nums:\n",
    "    if num % 5 == 0:\n",
    "        print(num)"
   ]
  },
  {
   "cell_type": "code",
   "execution_count": 4,
   "id": "122414fc",
   "metadata": {},
   "outputs": [
    {
     "name": "stdout",
     "output_type": "stream",
     "text": [
      "12\n",
      "15\n",
      "18\n",
      "21\n",
      "30\n",
      "45\n"
     ]
    }
   ],
   "source": [
    "nums= [12,15,18,21,28,30,35,40,45,50]\n",
    "for num in nums:\n",
    "    if num % 3 == 0:\n",
    "        print(num)"
   ]
  },
  {
   "cell_type": "code",
   "execution_count": 5,
   "id": "3c580a1f",
   "metadata": {},
   "outputs": [
    {
     "name": "stdout",
     "output_type": "stream",
     "text": [
      "12\n",
      "15\n",
      "18\n",
      "21\n",
      "30\n",
      "45\n"
     ]
    }
   ],
   "source": [
    "nums= [12,15,18,21,28,30,35,40,45,50]\n",
    "for num in nums:\n",
    "    if num % 3 == 0:\n",
    "        print(num)"
   ]
  },
  {
   "cell_type": "code",
   "execution_count": 6,
   "id": "cdf3006f",
   "metadata": {},
   "outputs": [
    {
     "name": "stdout",
     "output_type": "stream",
     "text": [
      "12\n"
     ]
    }
   ],
   "source": [
    "nums= [12,15,18,21,28,30,35,40,45,50]\n",
    "for num in nums:\n",
    "    if num % 3 == 0:\n",
    "        print(num)\n",
    "        break"
   ]
  },
  {
   "cell_type": "code",
   "execution_count": 7,
   "id": "2053b17c",
   "metadata": {},
   "outputs": [
    {
     "name": "stdout",
     "output_type": "stream",
     "text": [
      "12\n",
      "15\n",
      "18\n",
      "21\n",
      "30\n",
      "45\n"
     ]
    }
   ],
   "source": [
    "nums= [12,15,18,21,28,30,35,40,45,50]\n",
    "for num in nums:\n",
    "    if num % 3 == 0:\n",
    "        print(num)\n",
    "        continue"
   ]
  },
  {
   "cell_type": "code",
   "execution_count": 8,
   "id": "0ac27f9e",
   "metadata": {},
   "outputs": [
    {
     "name": "stdout",
     "output_type": "stream",
     "text": [
      "12\n",
      "15\n",
      "18\n",
      "21\n",
      "The Number is notdivisible by 3\n",
      "30\n",
      "The Number is notdivisible by 3\n",
      "The Number is notdivisible by 3\n",
      "45\n",
      "The Number is notdivisible by 3\n"
     ]
    }
   ],
   "source": [
    "nums= [12,15,18,21,28,30,35,40,45,50]\n",
    "for num in nums:\n",
    "    if num % 3 == 0:\n",
    "        print(num)\n",
    "    else:\n",
    "        print(\"The Number is notdivisible by 3\")\n",
    "        "
   ]
  },
  {
   "cell_type": "code",
   "execution_count": 9,
   "id": "4c10fab8",
   "metadata": {},
   "outputs": [
    {
     "name": "stdout",
     "output_type": "stream",
     "text": [
      "12\n",
      "15\n",
      "18\n",
      "21\n",
      "30\n",
      "45\n",
      "The Number are no found\n"
     ]
    }
   ],
   "source": [
    "nums= [12,15,18,21,28,30,35,40,45,50]\n",
    "for num in nums:\n",
    "    if num % 3 == 0:\n",
    "        print(num)\n",
    "else:\n",
    "        print(\"The Number are no found\")\n",
    "        "
   ]
  },
  {
   "cell_type": "code",
   "execution_count": 11,
   "id": "424288e4",
   "metadata": {},
   "outputs": [
    {
     "name": "stdout",
     "output_type": "stream",
     "text": [
      "Prime Number\n"
     ]
    }
   ],
   "source": [
    "num = 11\n",
    "for i in range(2, num):\n",
    "    if num % i == 0:\n",
    "        print(\"not found Number\")\n",
    "        break\n",
    "else:\n",
    "    print(\"Prime Number\")"
   ]
  },
  {
   "cell_type": "code",
   "execution_count": 12,
   "id": "a32d41b9",
   "metadata": {},
   "outputs": [
    {
     "name": "stdout",
     "output_type": "stream",
     "text": [
      "not found Number\n"
     ]
    }
   ],
   "source": [
    "num = 15\n",
    "for i in range(2, num):\n",
    "    if num % i == 0:\n",
    "        print(\"not found Number\")\n",
    "        break\n",
    "else:\n",
    "    print(\"Prime Number\")"
   ]
  },
  {
   "cell_type": "code",
   "execution_count": null,
   "id": "17893fc5",
   "metadata": {},
   "outputs": [],
   "source": []
  }
 ],
 "metadata": {
  "kernelspec": {
   "display_name": "base",
   "language": "python",
   "name": "python3"
  },
  "language_info": {
   "codemirror_mode": {
    "name": "ipython",
    "version": 3
   },
   "file_extension": ".py",
   "mimetype": "text/x-python",
   "name": "python",
   "nbconvert_exporter": "python",
   "pygments_lexer": "ipython3",
   "version": "3.12.7"
  }
 },
 "nbformat": 4,
 "nbformat_minor": 5
}
