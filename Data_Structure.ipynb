{
 "cells": [
  {
   "cell_type": "markdown",
   "id": "a932d3d2-ad28-4695-8bbf-04a8adb09a46",
   "metadata": {},
   "source": [
    "# Data Structure "
   ]
  },
  {
   "cell_type": "markdown",
   "id": "6883206c-1522-45d9-9510-d4bb886e0b24",
   "metadata": {},
   "source": [
    "# data_structure - user will define the value more than one data type \n",
    "- list\n",
    "- tuple\n",
    "- set\n",
    "- dict"
   ]
  },
  {
   "cell_type": "code",
   "execution_count": 2,
   "id": "26793db4-118e-4705-ac50-9453203402ec",
   "metadata": {},
   "outputs": [
    {
     "data": {
      "text/plain": [
       "[]"
      ]
     },
     "execution_count": 2,
     "metadata": {},
     "output_type": "execute_result"
    }
   ],
   "source": [
    "l =[]\n",
    "l"
   ]
  },
  {
   "cell_type": "code",
   "execution_count": 3,
   "id": "9f15c392-15d6-4aef-9f42-6ce6aaf19d9c",
   "metadata": {},
   "outputs": [
    {
     "data": {
      "text/plain": [
       "0"
      ]
     },
     "execution_count": 3,
     "metadata": {},
     "output_type": "execute_result"
    }
   ],
   "source": [
    "len(l)"
   ]
  },
  {
   "cell_type": "code",
   "execution_count": 4,
   "id": "f35dfcb5-fc51-4458-a0e5-021502a691be",
   "metadata": {},
   "outputs": [],
   "source": [
    "l.append(10)"
   ]
  },
  {
   "cell_type": "code",
   "execution_count": 5,
   "id": "91877c80-c92f-4863-abe5-8d1516b2bd5c",
   "metadata": {},
   "outputs": [
    {
     "data": {
      "text/plain": [
       "[10]"
      ]
     },
     "execution_count": 5,
     "metadata": {},
     "output_type": "execute_result"
    }
   ],
   "source": [
    "l"
   ]
  },
  {
   "cell_type": "code",
   "execution_count": 6,
   "id": "c235d9db-2082-447f-9c8d-6a3e8c52f5d4",
   "metadata": {},
   "outputs": [
    {
     "data": {
      "text/plain": [
       "1"
      ]
     },
     "execution_count": 6,
     "metadata": {},
     "output_type": "execute_result"
    }
   ],
   "source": [
    "len(l)"
   ]
  },
  {
   "cell_type": "code",
   "execution_count": 7,
   "id": "4056ae2d-0ce6-4e3b-a503-cfe8d2e42d94",
   "metadata": {},
   "outputs": [],
   "source": [
    "l.append(1)\n",
    "l.append(2)\n",
    "l.append(3)\n",
    "l.append(4)\n",
    "l.append(5)"
   ]
  },
  {
   "cell_type": "code",
   "execution_count": 8,
   "id": "5b8f2829-0748-4e12-beed-4938f2e105f1",
   "metadata": {},
   "outputs": [
    {
     "data": {
      "text/plain": [
       "[10, 1, 2, 3, 4, 5]"
      ]
     },
     "execution_count": 8,
     "metadata": {},
     "output_type": "execute_result"
    }
   ],
   "source": [
    "l"
   ]
  },
  {
   "cell_type": "code",
   "execution_count": 9,
   "id": "7ca790d0-a138-4e5f-a3bb-746ce4ccaba8",
   "metadata": {},
   "outputs": [
    {
     "data": {
      "text/plain": [
       "6"
      ]
     },
     "execution_count": 9,
     "metadata": {},
     "output_type": "execute_result"
    }
   ],
   "source": [
    "len(l)"
   ]
  },
  {
   "cell_type": "code",
   "execution_count": 10,
   "id": "82473021-02ac-42e3-ab68-7396793c3a88",
   "metadata": {},
   "outputs": [
    {
     "data": {
      "text/plain": [
       "2471590564800"
      ]
     },
     "execution_count": 10,
     "metadata": {},
     "output_type": "execute_result"
    }
   ],
   "source": [
    "id(l)"
   ]
  },
  {
   "cell_type": "code",
   "execution_count": 11,
   "id": "307ee859-4d61-48ff-bc81-ceae9cc94569",
   "metadata": {},
   "outputs": [
    {
     "name": "stdout",
     "output_type": "stream",
     "text": [
      "<class 'list'>\n"
     ]
    }
   ],
   "source": [
    "print(type(l))"
   ]
  },
  {
   "cell_type": "code",
   "execution_count": 12,
   "id": "ed69ab30-8f2b-4639-ae8e-63374695b462",
   "metadata": {},
   "outputs": [
    {
     "data": {
      "text/plain": [
       "[10, 1, 2, 3, 4, 5]"
      ]
     },
     "execution_count": 12,
     "metadata": {},
     "output_type": "execute_result"
    }
   ],
   "source": [
    "l[:]"
   ]
  },
  {
   "cell_type": "code",
   "execution_count": 13,
   "id": "96031b7f-dd87-42ec-899e-7784fa240337",
   "metadata": {},
   "outputs": [
    {
     "data": {
      "text/plain": [
       "4"
      ]
     },
     "execution_count": 13,
     "metadata": {},
     "output_type": "execute_result"
    }
   ],
   "source": [
    "l[-2]"
   ]
  },
  {
   "cell_type": "code",
   "execution_count": 14,
   "id": "53d43414-b02f-459a-ba17-fad89cfbcb52",
   "metadata": {},
   "outputs": [
    {
     "data": {
      "text/plain": [
       "4"
      ]
     },
     "execution_count": 14,
     "metadata": {},
     "output_type": "execute_result"
    }
   ],
   "source": [
    "l[4]"
   ]
  },
  {
   "cell_type": "code",
   "execution_count": 15,
   "id": "311e086b-e1d6-4267-a169-1be58998fdcc",
   "metadata": {},
   "outputs": [
    {
     "data": {
      "text/plain": [
       "[10, 1, 2, 3, 4, 5]"
      ]
     },
     "execution_count": 15,
     "metadata": {},
     "output_type": "execute_result"
    }
   ],
   "source": [
    "l1=l.copy()\n",
    "l1"
   ]
  },
  {
   "cell_type": "code",
   "execution_count": 16,
   "id": "48dba598-b63b-48f9-ae15-fe104c227983",
   "metadata": {},
   "outputs": [
    {
     "data": {
      "text/plain": [
       "True"
      ]
     },
     "execution_count": 16,
     "metadata": {},
     "output_type": "execute_result"
    }
   ],
   "source": [
    "l1==l"
   ]
  },
  {
   "cell_type": "code",
   "execution_count": 18,
   "id": "272803b4-035b-4b94-a9c9-1070cbeb9120",
   "metadata": {},
   "outputs": [
    {
     "name": "stdout",
     "output_type": "stream",
     "text": [
      "6\n",
      "6\n"
     ]
    }
   ],
   "source": [
    " print(len(l))\n",
    " print(len(l1))"
   ]
  },
  {
   "cell_type": "code",
   "execution_count": 19,
   "id": "2c87a769-28e8-475c-9554-b1655c1ebeb1",
   "metadata": {},
   "outputs": [
    {
     "name": "stdout",
     "output_type": "stream",
     "text": [
      "2471590564800\n",
      "2471590711488\n"
     ]
    }
   ],
   "source": [
    " print(id(l))\n",
    " print(id(l1))"
   ]
  },
  {
   "cell_type": "code",
   "execution_count": 20,
   "id": "9dd1a379-2328-44a8-b31a-2b5629030737",
   "metadata": {},
   "outputs": [],
   "source": [
    "l1.append(1+2j)\n",
    "l1.append(8.7)\n",
    "l1.append(True)"
   ]
  },
  {
   "cell_type": "code",
   "execution_count": 22,
   "id": "31f2b466-cfa4-49f4-bb9a-a35f266d874d",
   "metadata": {},
   "outputs": [
    {
     "data": {
      "text/plain": [
       "[10, 1, 2, 3, 4, 5, (1+2j), 8.7, True]"
      ]
     },
     "execution_count": 22,
     "metadata": {},
     "output_type": "execute_result"
    }
   ],
   "source": [
    "l1"
   ]
  },
  {
   "cell_type": "code",
   "execution_count": 23,
   "id": "8553472c-0723-4731-8485-043be4692395",
   "metadata": {},
   "outputs": [
    {
     "data": {
      "text/plain": [
       "0"
      ]
     },
     "execution_count": 23,
     "metadata": {},
     "output_type": "execute_result"
    }
   ],
   "source": [
    "l.count(12)"
   ]
  },
  {
   "cell_type": "code",
   "execution_count": 25,
   "id": "3623c9e7-e29f-4c86-8a27-363c7628b693",
   "metadata": {},
   "outputs": [
    {
     "data": {
      "text/plain": [
       "1"
      ]
     },
     "execution_count": 25,
     "metadata": {},
     "output_type": "execute_result"
    }
   ],
   "source": [
    "l.count(1)"
   ]
  },
  {
   "cell_type": "code",
   "execution_count": 28,
   "id": "d913b85c-ea4e-470c-ad49-ac84187888e8",
   "metadata": {},
   "outputs": [],
   "source": [
    "l1.remove(True)"
   ]
  },
  {
   "cell_type": "code",
   "execution_count": 27,
   "id": "45cee6fe-24a1-4440-b551-a13cbc6be178",
   "metadata": {},
   "outputs": [
    {
     "data": {
      "text/plain": [
       "[10, 2, 3, 4, 5]"
      ]
     },
     "execution_count": 27,
     "metadata": {},
     "output_type": "execute_result"
    }
   ],
   "source": [
    "l"
   ]
  },
  {
   "cell_type": "code",
   "execution_count": 29,
   "id": "f0e0875d-9898-41da-8ae8-f6a7a8245a35",
   "metadata": {},
   "outputs": [
    {
     "data": {
      "text/plain": [
       "[10, 2, 3, 4, 5, (1+2j), 8.7, True]"
      ]
     },
     "execution_count": 29,
     "metadata": {},
     "output_type": "execute_result"
    }
   ],
   "source": [
    "l1"
   ]
  },
  {
   "cell_type": "code",
   "execution_count": 30,
   "id": "619137d3-d30e-4a64-87c3-27b76683be29",
   "metadata": {},
   "outputs": [],
   "source": [
    "l1.remove(True)"
   ]
  },
  {
   "cell_type": "code",
   "execution_count": 32,
   "id": "2bec09de-f079-4ad9-9311-26ba81b4fb68",
   "metadata": {},
   "outputs": [
    {
     "data": {
      "text/plain": [
       "[10, 2, 3, 4, 5, (1+2j), 8.7]"
      ]
     },
     "execution_count": 32,
     "metadata": {},
     "output_type": "execute_result"
    }
   ],
   "source": [
    "l1"
   ]
  },
  {
   "cell_type": "code",
   "execution_count": 33,
   "id": "d5bdb453-5a98-4936-a911-b67147e07646",
   "metadata": {},
   "outputs": [],
   "source": [
    "l1.remove(1+2j)"
   ]
  },
  {
   "cell_type": "code",
   "execution_count": 34,
   "id": "23d8c60b-d3ef-4124-b432-8e7c670a829f",
   "metadata": {},
   "outputs": [
    {
     "data": {
      "text/plain": [
       "[10, 2, 3, 4, 5, 8.7]"
      ]
     },
     "execution_count": 34,
     "metadata": {},
     "output_type": "execute_result"
    }
   ],
   "source": [
    "l1"
   ]
  },
  {
   "cell_type": "code",
   "execution_count": 35,
   "id": "6bf7de83-8b00-490a-8016-da58790f6a53",
   "metadata": {},
   "outputs": [],
   "source": [
    "l1.clear()"
   ]
  },
  {
   "cell_type": "code",
   "execution_count": 36,
   "id": "e9c3a1cf-25c2-4d09-b193-6fa695d3c7f9",
   "metadata": {},
   "outputs": [
    {
     "data": {
      "text/plain": [
       "[]"
      ]
     },
     "execution_count": 36,
     "metadata": {},
     "output_type": "execute_result"
    }
   ],
   "source": [
    "l1"
   ]
  },
  {
   "cell_type": "code",
   "execution_count": 2,
   "id": "41aa70f2-8895-4550-b445-596912386e79",
   "metadata": {},
   "outputs": [
    {
     "data": {
      "text/plain": [
       "[1, 2, 3, 4, 5, 6]"
      ]
     },
     "execution_count": 2,
     "metadata": {},
     "output_type": "execute_result"
    }
   ],
   "source": [
    "l=[1,2,3,4,5,6]\n",
    "l"
   ]
  },
  {
   "cell_type": "raw",
   "id": "bab50d9b-9355-4c6b-8323-f4232b8a9bd1",
   "metadata": {},
   "source": [
    "print (l)\n",
    "print (l1)"
   ]
  },
  {
   "cell_type": "code",
   "execution_count": 4,
   "id": "a2adbbff-2f64-42e9-866f-f40261ea7ee7",
   "metadata": {},
   "outputs": [
    {
     "data": {
      "text/plain": [
       "[1, 2, 3, 4, 5, 6]"
      ]
     },
     "execution_count": 4,
     "metadata": {},
     "output_type": "execute_result"
    }
   ],
   "source": [
    "l"
   ]
  },
  {
   "cell_type": "code",
   "execution_count": 6,
   "id": "cb6bb7df-2851-44af-a075-63828c87f97e",
   "metadata": {},
   "outputs": [
    {
     "data": {
      "text/plain": [
       "[10, 11, 12, 13, 14, 15]"
      ]
     },
     "execution_count": 6,
     "metadata": {},
     "output_type": "execute_result"
    }
   ],
   "source": [
    "l1 = [10,11,12,13,14,15]\n",
    "l1"
   ]
  },
  {
   "cell_type": "code",
   "execution_count": 8,
   "id": "689e9280-1a96-44d4-b431-a3312e415e4f",
   "metadata": {},
   "outputs": [
    {
     "name": "stdout",
     "output_type": "stream",
     "text": [
      "[1, 2, 3, 4, 5, 6]\n",
      "[10, 11, 12, 13, 14, 15]\n"
     ]
    }
   ],
   "source": [
    "print(l)\n",
    "print(l1)"
   ]
  },
  {
   "cell_type": "code",
   "execution_count": 9,
   "id": "995f351e-f9a0-432e-9609-e25c245d1588",
   "metadata": {},
   "outputs": [
    {
     "name": "stdout",
     "output_type": "stream",
     "text": [
      "6\n",
      "6\n"
     ]
    }
   ],
   "source": [
    "print(len(l))\n",
    "print(len(l1))"
   ]
  },
  {
   "cell_type": "code",
   "execution_count": 10,
   "id": "8349de95-a851-4c73-8f6c-7515dd68b1f9",
   "metadata": {},
   "outputs": [
    {
     "name": "stdout",
     "output_type": "stream",
     "text": [
      "1\n",
      "2\n",
      "3\n",
      "4\n",
      "5\n",
      "6\n"
     ]
    }
   ],
   "source": [
    "for i in l:\n",
    "    print(i)"
   ]
  },
  {
   "cell_type": "code",
   "execution_count": 14,
   "id": "56ed811e-8174-4b1a-83b6-8edba52f8705",
   "metadata": {},
   "outputs": [],
   "source": [
    "l.append ([12,13,14,15])"
   ]
  },
  {
   "cell_type": "code",
   "execution_count": 15,
   "id": "67def3fe-41fd-4fa3-9696-f6a27959181f",
   "metadata": {},
   "outputs": [
    {
     "data": {
      "text/plain": [
       "[1, 2, 3, 4, 5, 6, [12, 13, 14, 15]]"
      ]
     },
     "execution_count": 15,
     "metadata": {},
     "output_type": "execute_result"
    }
   ],
   "source": [
    "l"
   ]
  },
  {
   "cell_type": "code",
   "execution_count": 16,
   "id": "ddfef65c-2dc7-4f7f-bbf4-25476cd2a2d6",
   "metadata": {},
   "outputs": [
    {
     "data": {
      "text/plain": [
       "[12, 13, 14, 15]"
      ]
     },
     "execution_count": 16,
     "metadata": {},
     "output_type": "execute_result"
    }
   ],
   "source": [
    "l.pop()"
   ]
  },
  {
   "cell_type": "code",
   "execution_count": 17,
   "id": "cfbd02cf-c7a7-42f1-a16f-28f899dff5d8",
   "metadata": {},
   "outputs": [
    {
     "data": {
      "text/plain": [
       "[1, 2, 3, 4, 5, 6]"
      ]
     },
     "execution_count": 17,
     "metadata": {},
     "output_type": "execute_result"
    }
   ],
   "source": [
    "l"
   ]
  },
  {
   "cell_type": "code",
   "execution_count": 18,
   "id": "306c67e7-b90f-4957-9703-64e48fd32ede",
   "metadata": {},
   "outputs": [
    {
     "data": {
      "text/plain": [
       "6"
      ]
     },
     "execution_count": 18,
     "metadata": {},
     "output_type": "execute_result"
    }
   ],
   "source": [
    "l.pop()"
   ]
  },
  {
   "cell_type": "code",
   "execution_count": 19,
   "id": "96cada8d-139f-4c8c-8fb7-76fdb3f4eb90",
   "metadata": {},
   "outputs": [
    {
     "data": {
      "text/plain": [
       "[1, 2, 3, 4, 5]"
      ]
     },
     "execution_count": 19,
     "metadata": {},
     "output_type": "execute_result"
    }
   ],
   "source": [
    "l"
   ]
  },
  {
   "cell_type": "code",
   "execution_count": 20,
   "id": "205895ad-d3ff-4e58-8d76-ebd6ac4f2626",
   "metadata": {},
   "outputs": [
    {
     "data": {
      "text/plain": [
       "[1, 2, 3, 4]"
      ]
     },
     "execution_count": 20,
     "metadata": {},
     "output_type": "execute_result"
    }
   ],
   "source": [
    "l.pop()\n",
    "l"
   ]
  },
  {
   "cell_type": "code",
   "execution_count": 22,
   "id": "66e8b433-939f-444d-998a-a7d18b5852a9",
   "metadata": {},
   "outputs": [
    {
     "data": {
      "text/plain": [
       "14"
      ]
     },
     "execution_count": 22,
     "metadata": {},
     "output_type": "execute_result"
    }
   ],
   "source": [
    "l1.pop(4)"
   ]
  },
  {
   "cell_type": "code",
   "execution_count": 23,
   "id": "9e353f74-0ed4-47a7-b8c3-935aac09aed7",
   "metadata": {},
   "outputs": [
    {
     "data": {
      "text/plain": [
       "[10, 11, 12, 13, 15]"
      ]
     },
     "execution_count": 23,
     "metadata": {},
     "output_type": "execute_result"
    }
   ],
   "source": [
    "l1"
   ]
  },
  {
   "cell_type": "code",
   "execution_count": 24,
   "id": "d564fb5c-960d-49d8-bee5-c60000bd7584",
   "metadata": {},
   "outputs": [
    {
     "data": {
      "text/plain": [
       "[10, 11, 12, 13]"
      ]
     },
     "execution_count": 24,
     "metadata": {},
     "output_type": "execute_result"
    }
   ],
   "source": [
    "l1.pop(-1)\n",
    "l1"
   ]
  },
  {
   "cell_type": "code",
   "execution_count": 25,
   "id": "34b6a77c-fa2b-48b7-8969-fb93fe45da64",
   "metadata": {},
   "outputs": [
    {
     "name": "stdout",
     "output_type": "stream",
     "text": [
      "[1, 2, 3, 4]\n",
      "[10, 11, 12, 13]\n"
     ]
    }
   ],
   "source": [
    "print(l)\n",
    "print(l1)"
   ]
  },
  {
   "cell_type": "code",
   "execution_count": 26,
   "id": "f7b4a65c-ae10-4e86-a970-b2b5d3980b57",
   "metadata": {},
   "outputs": [
    {
     "data": {
      "text/plain": [
       "[1, 5, 2, 3, 4]"
      ]
     },
     "execution_count": 26,
     "metadata": {},
     "output_type": "execute_result"
    }
   ],
   "source": [
    "l.insert(1,5)\n",
    "l"
   ]
  },
  {
   "cell_type": "code",
   "execution_count": 28,
   "id": "a8403a00-9e83-4cb8-9c54-523def4d2076",
   "metadata": {},
   "outputs": [
    {
     "data": {
      "text/plain": [
       "[1, 5, 2, 3, 6, 4]"
      ]
     },
     "execution_count": 28,
     "metadata": {},
     "output_type": "execute_result"
    }
   ],
   "source": [
    "l.insert(-1,6)\n",
    "l"
   ]
  },
  {
   "cell_type": "code",
   "execution_count": 29,
   "id": "797ac36a-7d14-4c5f-abae-50e573839d03",
   "metadata": {},
   "outputs": [
    {
     "name": "stdout",
     "output_type": "stream",
     "text": [
      "[1, 5, 2, 3, 6, 4]\n",
      "[10, 11, 12, 13]\n"
     ]
    }
   ],
   "source": [
    "print(l)\n",
    "print(l1)"
   ]
  },
  {
   "cell_type": "code",
   "execution_count": 30,
   "id": "da19bd25-9770-4489-bd6f-29d3afad957e",
   "metadata": {},
   "outputs": [
    {
     "data": {
      "text/plain": [
       "[10, 11, 12, 13, 1, 5, 2, 3, 6, 4]"
      ]
     },
     "execution_count": 30,
     "metadata": {},
     "output_type": "execute_result"
    }
   ],
   "source": [
    "l1.extend(l)\n",
    "l1"
   ]
  },
  {
   "cell_type": "code",
   "execution_count": 31,
   "id": "6b222d03-eec8-4583-b2bc-1aa69fd45fc4",
   "metadata": {},
   "outputs": [
    {
     "data": {
      "text/plain": [
       "[1, 5, 2, 3, 6, 4, 10, 11, 12, 13, 1, 5, 2, 3, 6, 4]"
      ]
     },
     "execution_count": 31,
     "metadata": {},
     "output_type": "execute_result"
    }
   ],
   "source": [
    "l.extend(l1)\n",
    "l"
   ]
  },
  {
   "cell_type": "code",
   "execution_count": 32,
   "id": "aa17dfcf-36bc-477c-a7ab-135fca16e2db",
   "metadata": {},
   "outputs": [
    {
     "data": {
      "text/plain": [
       "8"
      ]
     },
     "execution_count": 32,
     "metadata": {},
     "output_type": "execute_result"
    }
   ],
   "source": [
    "l.index(12)"
   ]
  },
  {
   "cell_type": "code",
   "execution_count": 33,
   "id": "3aafe885-9953-4d5e-b565-b40f5e057aa8",
   "metadata": {},
   "outputs": [
    {
     "data": {
      "text/plain": [
       "5"
      ]
     },
     "execution_count": 33,
     "metadata": {},
     "output_type": "execute_result"
    }
   ],
   "source": [
    "l.index(4)"
   ]
  },
  {
   "cell_type": "code",
   "execution_count": 34,
   "id": "af15f576-8de7-4e7e-91e8-14b2d90a1ee5",
   "metadata": {},
   "outputs": [
    {
     "data": {
      "text/plain": [
       "[10, 11, 12, 13, 1, 5, 2, 3, 6, 4]"
      ]
     },
     "execution_count": 34,
     "metadata": {},
     "output_type": "execute_result"
    }
   ],
   "source": [
    "l1"
   ]
  },
  {
   "cell_type": "code",
   "execution_count": 35,
   "id": "b85578aa-6957-4f81-b331-359d64319927",
   "metadata": {},
   "outputs": [
    {
     "data": {
      "text/plain": [
       "[1, 2, 3, 4, 5, 6, 10, 11, 12, 13]"
      ]
     },
     "execution_count": 35,
     "metadata": {},
     "output_type": "execute_result"
    }
   ],
   "source": [
    "l1.sort()\n",
    "l1"
   ]
  },
  {
   "cell_type": "code",
   "execution_count": 36,
   "id": "7dac6186-4c6d-4d6a-ae54-4ff58be5ed05",
   "metadata": {},
   "outputs": [
    {
     "data": {
      "text/plain": [
       "[13, 12, 11, 10, 6, 5, 4, 3, 2, 1]"
      ]
     },
     "execution_count": 36,
     "metadata": {},
     "output_type": "execute_result"
    }
   ],
   "source": [
    "l1.sort(reverse=True)\n",
    "l1"
   ]
  },
  {
   "cell_type": "code",
   "execution_count": 37,
   "id": "7dc3b4c7-fe2a-4aa4-94fb-19ecbb069aff",
   "metadata": {},
   "outputs": [],
   "source": [
    " l1.sort(reverse=False)"
   ]
  },
  {
   "cell_type": "code",
   "execution_count": 38,
   "id": "696c0049-d029-4be4-a989-e6d717e2db21",
   "metadata": {},
   "outputs": [
    {
     "data": {
      "text/plain": [
       "[1, 2, 3, 4, 5, 6, 10, 11, 12, 13]"
      ]
     },
     "execution_count": 38,
     "metadata": {},
     "output_type": "execute_result"
    }
   ],
   "source": [
    "l1"
   ]
  },
  {
   "cell_type": "code",
   "execution_count": 39,
   "id": "3f6e82fa-9ec0-487d-9550-619d7fde9339",
   "metadata": {},
   "outputs": [
    {
     "data": {
      "text/plain": [
       "[13, 12, 11, 10, 6, 5, 4, 3, 2, 1]"
      ]
     },
     "execution_count": 39,
     "metadata": {},
     "output_type": "execute_result"
    }
   ],
   "source": [
    "l1.reverse()\n",
    "l1"
   ]
  },
  {
   "cell_type": "code",
   "execution_count": 1,
   "id": "131645c5-c06d-464c-9bfb-b84bb3481a9d",
   "metadata": {},
   "outputs": [
    {
     "ename": "NameError",
     "evalue": "name 'l' is not defined",
     "output_type": "error",
     "traceback": [
      "\u001b[1;31m---------------------------------------------------------------------------\u001b[0m",
      "\u001b[1;31mNameError\u001b[0m                                 Traceback (most recent call last)",
      "Cell \u001b[1;32mIn[1], line 1\u001b[0m\n\u001b[1;32m----> 1\u001b[0m \u001b[38;5;28mprint\u001b[39m(l)\n\u001b[0;32m      2\u001b[0m \u001b[38;5;28mprint\u001b[39m(l1)\n",
      "\u001b[1;31mNameError\u001b[0m: name 'l' is not defined"
     ]
    }
   ],
   "source": [
    "print(l)\n",
    "print(l1)"
   ]
  },
  {
   "cell_type": "code",
   "execution_count": 2,
   "id": "68cbe35d-cd85-4da7-895f-3c8661262d24",
   "metadata": {},
   "outputs": [
    {
     "data": {
      "text/plain": [
       "[1, 2, 3, 4, 5, 6]"
      ]
     },
     "execution_count": 2,
     "metadata": {},
     "output_type": "execute_result"
    }
   ],
   "source": [
    "l=[1,2,3,4,5,6]\n",
    "l"
   ]
  },
  {
   "cell_type": "code",
   "execution_count": 3,
   "id": "669f1c2d-6228-4f35-bb57-f38cd977396a",
   "metadata": {},
   "outputs": [
    {
     "name": "stdout",
     "output_type": "stream",
     "text": [
      "[1, 2, 3, 4, 5, 6]\n"
     ]
    },
    {
     "ename": "NameError",
     "evalue": "name 'l1' is not defined",
     "output_type": "error",
     "traceback": [
      "\u001b[1;31m---------------------------------------------------------------------------\u001b[0m",
      "\u001b[1;31mNameError\u001b[0m                                 Traceback (most recent call last)",
      "Cell \u001b[1;32mIn[3], line 2\u001b[0m\n\u001b[0;32m      1\u001b[0m \u001b[38;5;28mprint\u001b[39m(l)\n\u001b[1;32m----> 2\u001b[0m \u001b[38;5;28mprint\u001b[39m(l1)\n",
      "\u001b[1;31mNameError\u001b[0m: name 'l1' is not defined"
     ]
    }
   ],
   "source": [
    "print(l)\n",
    "print(l1)"
   ]
  },
  {
   "cell_type": "code",
   "execution_count": 4,
   "id": "ed5e7121-fe37-4407-920f-ba916c60efdc",
   "metadata": {},
   "outputs": [],
   "source": [
    "l1=[10,11,12,13,14,15,16]\n"
   ]
  },
  {
   "cell_type": "code",
   "execution_count": 5,
   "id": "8af8c308-6b8a-4173-bed6-a6355a43a594",
   "metadata": {},
   "outputs": [
    {
     "name": "stdout",
     "output_type": "stream",
     "text": [
      "[1, 2, 3, 4, 5, 6]\n",
      "[10, 11, 12, 13, 14, 15, 16]\n"
     ]
    }
   ],
   "source": [
    "print(l)\n",
    "print(l1)"
   ]
  },
  {
   "cell_type": "code",
   "execution_count": 7,
   "id": "f3082f96-9336-4635-bb85-809f177c8f94",
   "metadata": {},
   "outputs": [
    {
     "ename": "NameError",
     "evalue": "name 'l' is not defined",
     "output_type": "error",
     "traceback": [
      "\u001b[1;31m---------------------------------------------------------------------------\u001b[0m",
      "\u001b[1;31mNameError\u001b[0m                                 Traceback (most recent call last)",
      "Cell \u001b[1;32mIn[7], line 1\u001b[0m\n\u001b[1;32m----> 1\u001b[0m \u001b[38;5;28;01mdel\u001b[39;00m(l)\n",
      "\u001b[1;31mNameError\u001b[0m: name 'l' is not defined"
     ]
    }
   ],
   "source": [
    "del(l)"
   ]
  },
  {
   "cell_type": "code",
   "execution_count": 8,
   "id": "cbb8bd19-f6e8-416b-8dce-a77ce7d38b45",
   "metadata": {},
   "outputs": [
    {
     "ename": "NameError",
     "evalue": "name 'l' is not defined",
     "output_type": "error",
     "traceback": [
      "\u001b[1;31m---------------------------------------------------------------------------\u001b[0m",
      "\u001b[1;31mNameError\u001b[0m                                 Traceback (most recent call last)",
      "Cell \u001b[1;32mIn[8], line 1\u001b[0m\n\u001b[1;32m----> 1\u001b[0m \u001b[38;5;28mprint\u001b[39m(l)\n\u001b[0;32m      2\u001b[0m \u001b[38;5;28mprint\u001b[39m(l1)\n",
      "\u001b[1;31mNameError\u001b[0m: name 'l' is not defined"
     ]
    }
   ],
   "source": [
    "print(l)\n",
    "print(l1)"
   ]
  },
  {
   "cell_type": "code",
   "execution_count": 9,
   "id": "80c95573-26ee-4afb-8a8a-54802105402a",
   "metadata": {},
   "outputs": [],
   "source": [
    "l=[1,2,3,4,5,6]"
   ]
  },
  {
   "cell_type": "code",
   "execution_count": 10,
   "id": "905c9f93-533d-4cfd-956f-aaefeb994123",
   "metadata": {},
   "outputs": [
    {
     "name": "stdout",
     "output_type": "stream",
     "text": [
      "[1, 2, 3, 4, 5, 6]\n",
      "[10, 11, 12, 13, 14, 15, 16]\n"
     ]
    }
   ],
   "source": [
    "print(l)\n",
    "print(l1)"
   ]
  },
  {
   "cell_type": "code",
   "execution_count": 11,
   "id": "0e5e845b-5549-4678-9868-699946e6093f",
   "metadata": {},
   "outputs": [],
   "source": [
    "l3=[10,20,30,40,50,60]"
   ]
  },
  {
   "cell_type": "code",
   "execution_count": 12,
   "id": "cff029c3-2f3b-438a-8369-ae9ee5d728fe",
   "metadata": {},
   "outputs": [
    {
     "name": "stdout",
     "output_type": "stream",
     "text": [
      "[1, 2, 3, 4, 5, 6]\n",
      "[10, 11, 12, 13, 14, 15, 16]\n",
      "[10, 20, 30, 40, 50, 60]\n"
     ]
    }
   ],
   "source": [
    "print(l)\n",
    "print(l1)\n",
    "print(l3)"
   ]
  },
  {
   "cell_type": "markdown",
   "id": "20f9ca13-6d9b-45e1-8e33-eaa024364132",
   "metadata": {},
   "source": [
    "# string list Slicing (datatype)"
   ]
  },
  {
   "cell_type": "code",
   "execution_count": 16,
   "id": "bcfe7184-d08d-41af-8ab6-66de9ca303c8",
   "metadata": {},
   "outputs": [
    {
     "data": {
      "text/plain": [
       "'nit'"
      ]
     },
     "execution_count": 16,
     "metadata": {},
     "output_type": "execute_result"
    }
   ],
   "source": [
    "s1='nit'\n",
    "s1"
   ]
  },
  {
   "cell_type": "code",
   "execution_count": 17,
   "id": "82d2a802-dd8b-4a51-9866-4698567e82ab",
   "metadata": {},
   "outputs": [
    {
     "data": {
      "text/plain": [
       "'n'"
      ]
     },
     "execution_count": 17,
     "metadata": {},
     "output_type": "execute_result"
    }
   ],
   "source": [
    "s1[0]"
   ]
  },
  {
   "cell_type": "markdown",
   "id": "9dc812aa-997a-4704-8c2c-2ea0d7464100",
   "metadata": {},
   "source": [
    "## "
   ]
  },
  {
   "cell_type": "code",
   "execution_count": 18,
   "id": "515e7968-e68c-4352-9b52-2b8831f555d5",
   "metadata": {},
   "outputs": [
    {
     "data": {
      "text/plain": [
       "'i'"
      ]
     },
     "execution_count": 18,
     "metadata": {},
     "output_type": "execute_result"
    }
   ],
   "source": [
    "s1[1]"
   ]
  },
  {
   "cell_type": "code",
   "execution_count": 21,
   "id": "ad52fb7e-60d5-4819-aa2f-c93c0cabbff1",
   "metadata": {},
   "outputs": [
    {
     "data": {
      "text/plain": [
       "'t'"
      ]
     },
     "execution_count": 21,
     "metadata": {},
     "output_type": "execute_result"
    }
   ],
   "source": [
    "s1[2]"
   ]
  },
  {
   "cell_type": "code",
   "execution_count": 22,
   "id": "17c47322-ac82-48e8-8ecc-091720bd0d31",
   "metadata": {},
   "outputs": [
    {
     "data": {
      "text/plain": [
       "'nit'"
      ]
     },
     "execution_count": 22,
     "metadata": {},
     "output_type": "execute_result"
    }
   ],
   "source": [
    "s1"
   ]
  },
  {
   "cell_type": "code",
   "execution_count": 26,
   "id": "6c78d40b-70bc-4742-a42a-ecab99dfd1e9",
   "metadata": {},
   "outputs": [
    {
     "name": "stdout",
     "output_type": "stream",
     "text": [
      "n\n",
      "i\n",
      "t\n"
     ]
    }
   ],
   "source": [
    "for i in s1:\n",
    "     print(i)"
   ]
  },
  {
   "cell_type": "markdown",
   "id": "413c4c75-14fa-43de-b231-d6e44fc4dc76",
   "metadata": {},
   "source": [
    "# List Slicing"
   ]
  },
  {
   "cell_type": "code",
   "execution_count": 27,
   "id": "6ee63594-7244-4cc7-ab8f-5ebf0d5b9488",
   "metadata": {},
   "outputs": [
    {
     "name": "stdout",
     "output_type": "stream",
     "text": [
      "[10, 11, 12, 13, 14, 15, 16]\n"
     ]
    }
   ],
   "source": [
    "print(l1)"
   ]
  },
  {
   "cell_type": "code",
   "execution_count": 29,
   "id": "80d16c16-4bc3-48a6-a1c2-ae8a88f63c51",
   "metadata": {},
   "outputs": [
    {
     "data": {
      "text/plain": [
       "[1, 2, 3, 4, 5, 6, 10, 11, 12, 13, 14, 15, 16]"
      ]
     },
     "execution_count": 29,
     "metadata": {},
     "output_type": "execute_result"
    }
   ],
   "source": [
    "l.extend(l1)\n",
    "l"
   ]
  },
  {
   "cell_type": "code",
   "execution_count": 30,
   "id": "80707f11-41ac-414d-b3c4-68d913bb9f18",
   "metadata": {},
   "outputs": [
    {
     "data": {
      "text/plain": [
       "[1, 2, 3, 4, 5, 6, 10, 11, 12, 13, 14, 15, 16]"
      ]
     },
     "execution_count": 30,
     "metadata": {},
     "output_type": "execute_result"
    }
   ],
   "source": [
    "l[:]\n",
    "l"
   ]
  },
  {
   "cell_type": "code",
   "execution_count": 31,
   "id": "5e1a7a34-ebb9-4639-a23c-744f6de3b1d5",
   "metadata": {},
   "outputs": [
    {
     "data": {
      "text/plain": [
       "[1, 2, 3, 4, 5, 6, 10]"
      ]
     },
     "execution_count": 31,
     "metadata": {},
     "output_type": "execute_result"
    }
   ],
   "source": [
    "l[0:7]"
   ]
  },
  {
   "cell_type": "code",
   "execution_count": 32,
   "id": "ae14f019-4e3d-43c8-aabc-850e4d2844a2",
   "metadata": {},
   "outputs": [
    {
     "data": {
      "text/plain": [
       "[5, 6, 10, 11, 12, 13, 14, 15, 16]"
      ]
     },
     "execution_count": 32,
     "metadata": {},
     "output_type": "execute_result"
    }
   ],
   "source": [
    "l[4:]"
   ]
  },
  {
   "cell_type": "code",
   "execution_count": 33,
   "id": "867283f7-fd18-4b99-a102-1c60f55366f9",
   "metadata": {},
   "outputs": [
    {
     "data": {
      "text/plain": [
       "[1, 2, 3, 4, 5]"
      ]
     },
     "execution_count": 33,
     "metadata": {},
     "output_type": "execute_result"
    }
   ],
   "source": [
    "l[:5]"
   ]
  },
  {
   "cell_type": "code",
   "execution_count": 34,
   "id": "40ffe0fc-0f87-451d-8b7b-bec4bff4db5b",
   "metadata": {},
   "outputs": [
    {
     "data": {
      "text/plain": [
       "[1, 2, 3, 4, 5, 6, 10, 11, 12, 13, 14, 15, 16]"
      ]
     },
     "execution_count": 34,
     "metadata": {},
     "output_type": "execute_result"
    }
   ],
   "source": [
    "l"
   ]
  },
  {
   "cell_type": "code",
   "execution_count": 35,
   "id": "f6b2c6ca-a95d-4c9a-bab4-4d105b85fc79",
   "metadata": {},
   "outputs": [
    {
     "data": {
      "text/plain": [
       "[1, 3, 5, 10, 12, 14]"
      ]
     },
     "execution_count": 35,
     "metadata": {},
     "output_type": "execute_result"
    }
   ],
   "source": [
    "l[0:12:2]"
   ]
  },
  {
   "cell_type": "code",
   "execution_count": 38,
   "id": "32b371c5-6602-4aea-b575-b9e1d8944e08",
   "metadata": {},
   "outputs": [
    {
     "data": {
      "text/plain": [
       "[3, 11, 16]"
      ]
     },
     "execution_count": 38,
     "metadata": {},
     "output_type": "execute_result"
    }
   ],
   "source": [
    "l[2:24:5]"
   ]
  },
  {
   "cell_type": "code",
   "execution_count": 39,
   "id": "ab4121ee-cec9-4352-9c59-6463174fd050",
   "metadata": {},
   "outputs": [
    {
     "data": {
      "text/plain": [
       "[1, 2, 3, 4, 5, 6, 10, 11, 12, 13, 14, 15, 16]"
      ]
     },
     "execution_count": 39,
     "metadata": {},
     "output_type": "execute_result"
    }
   ],
   "source": [
    "l "
   ]
  },
  {
   "cell_type": "code",
   "execution_count": 40,
   "id": "c478a69a-7aa1-4ec1-aea7-0e4e8edaffeb",
   "metadata": {},
   "outputs": [
    {
     "data": {
      "text/plain": [
       "[16, 15, 14, 13, 12, 11, 10, 6, 5, 4, 3, 2, 1]"
      ]
     },
     "execution_count": 40,
     "metadata": {},
     "output_type": "execute_result"
    }
   ],
   "source": [
    "l[::-1]"
   ]
  },
  {
   "cell_type": "code",
   "execution_count": 41,
   "id": "1a71c7c0-1dfe-4bdc-a76e-b0663c1c9617",
   "metadata": {},
   "outputs": [
    {
     "data": {
      "text/plain": [
       "[16, 14, 12, 10, 5, 3, 1]"
      ]
     },
     "execution_count": 41,
     "metadata": {},
     "output_type": "execute_result"
    }
   ],
   "source": [
    "l[::-2]"
   ]
  },
  {
   "cell_type": "code",
   "execution_count": 42,
   "id": "c34232ab-8631-41f5-ab76-c37b676b2760",
   "metadata": {},
   "outputs": [
    {
     "data": {
      "text/plain": [
       "[16, 13, 10, 4, 1]"
      ]
     },
     "execution_count": 42,
     "metadata": {},
     "output_type": "execute_result"
    }
   ],
   "source": [
    "l[::-3]"
   ]
  },
  {
   "cell_type": "code",
   "execution_count": 43,
   "id": "0ea68827-07c4-40bb-9300-8030072594ae",
   "metadata": {},
   "outputs": [
    {
     "data": {
      "text/plain": [
       "[1, 2, 3, 4, 5, 6, 10, 11, 12, 13, 14, 15, 16]"
      ]
     },
     "execution_count": 43,
     "metadata": {},
     "output_type": "execute_result"
    }
   ],
   "source": [
    "l"
   ]
  },
  {
   "cell_type": "code",
   "execution_count": 45,
   "id": "131991e7-aa48-472c-9cba-d6e781a4692e",
   "metadata": {},
   "outputs": [
    {
     "data": {
      "text/plain": [
       "[1, 2, 3, 4, 5, 6, 10, 11, 12, 'yash', 14, 15, 16]"
      ]
     },
     "execution_count": 45,
     "metadata": {},
     "output_type": "execute_result"
    }
   ],
   "source": [
    "l[9]='yash'\n",
    "l"
   ]
  },
  {
   "cell_type": "code",
   "execution_count": 47,
   "id": "7b9a7f3a-abac-4ed1-a27e-246b09a861df",
   "metadata": {},
   "outputs": [
    {
     "data": {
      "text/plain": [
       "[1, 2, 3, 4, 5, 6, 10, 11, 12, 'yash', 'Gupta', 15, 16]"
      ]
     },
     "execution_count": 47,
     "metadata": {},
     "output_type": "execute_result"
    }
   ],
   "source": [
    "l[-3]='Gupta'\n",
    "l"
   ]
  },
  {
   "cell_type": "markdown",
   "id": "1a8cf484-2ca6-4831-9fcb-0113197dd9ee",
   "metadata": {},
   "source": [
    "# ENumerate"
   ]
  },
  {
   "cell_type": "code",
   "execution_count": 48,
   "id": "7d13a3a2-d3c2-4802-bd97-0758aef792ff",
   "metadata": {},
   "outputs": [
    {
     "data": {
      "text/plain": [
       "[1, 2, 3, 4, 5, 6, 10, 11, 12, 'yash', 'Gupta', 15, 16]"
      ]
     },
     "execution_count": 48,
     "metadata": {},
     "output_type": "execute_result"
    }
   ],
   "source": [
    "l"
   ]
  },
  {
   "cell_type": "code",
   "execution_count": 49,
   "id": "7185d879-fe2a-42b8-b48c-54ef335d8aa1",
   "metadata": {},
   "outputs": [
    {
     "name": "stdout",
     "output_type": "stream",
     "text": [
      "1\n",
      "2\n",
      "3\n",
      "4\n",
      "5\n",
      "6\n",
      "10\n",
      "11\n",
      "12\n",
      "yash\n",
      "Gupta\n",
      "15\n",
      "16\n"
     ]
    }
   ],
   "source": [
    "for i in l:\n",
    "    print(i)"
   ]
  },
  {
   "cell_type": "code",
   "execution_count": 51,
   "id": "8024c533-5067-47a2-b576-ff5b67554055",
   "metadata": {},
   "outputs": [
    {
     "name": "stdout",
     "output_type": "stream",
     "text": [
      "(0, 1)\n",
      "(1, 2)\n",
      "(2, 3)\n",
      "(3, 4)\n",
      "(4, 5)\n",
      "(5, 6)\n",
      "(6, 10)\n",
      "(7, 11)\n",
      "(8, 12)\n",
      "(9, 'yash')\n",
      "(10, 'Gupta')\n",
      "(11, 15)\n",
      "(12, 16)\n"
     ]
    }
   ],
   "source": [
    "for i in enumerate(l):\n",
    "    print (i)"
   ]
  },
  {
   "cell_type": "code",
   "execution_count": 52,
   "id": "92f45eff-541a-4558-8eb8-d34a6772f6fe",
   "metadata": {},
   "outputs": [
    {
     "data": {
      "text/plain": [
       "[1, 2, 3, 4, 5, 6, 10, 11, 12, 'yash', 'Gupta', 15, 16]"
      ]
     },
     "execution_count": 52,
     "metadata": {},
     "output_type": "execute_result"
    }
   ],
   "source": [
    "l"
   ]
  },
  {
   "cell_type": "code",
   "execution_count": 53,
   "id": "43ae946f-9b64-4b47-9065-208b91bbd5ff",
   "metadata": {},
   "outputs": [
    {
     "data": {
      "text/plain": [
       "True"
      ]
     },
     "execution_count": 53,
     "metadata": {},
     "output_type": "execute_result"
    }
   ],
   "source": [
    "all(l)"
   ]
  },
  {
   "cell_type": "code",
   "execution_count": 54,
   "id": "7f99ee51-3be4-455d-b668-7ba4c347f9de",
   "metadata": {},
   "outputs": [
    {
     "data": {
      "text/plain": [
       "[1, 2, 3, 4, 5, 6, 10, 11, 12, 'yash', 'Gupta', 15, 16, 0]"
      ]
     },
     "execution_count": 54,
     "metadata": {},
     "output_type": "execute_result"
    }
   ],
   "source": [
    "l.append(0)\n",
    "l"
   ]
  },
  {
   "cell_type": "code",
   "execution_count": 55,
   "id": "127937e0-bda7-483e-abf7-f4bc85d63ed5",
   "metadata": {},
   "outputs": [
    {
     "data": {
      "text/plain": [
       "False"
      ]
     },
     "execution_count": 55,
     "metadata": {},
     "output_type": "execute_result"
    }
   ],
   "source": [
    "all(l)"
   ]
  },
  {
   "cell_type": "code",
   "execution_count": 56,
   "id": "3caff78e-e39a-4a58-8b72-7c6acff7111b",
   "metadata": {},
   "outputs": [
    {
     "data": {
      "text/plain": [
       "True"
      ]
     },
     "execution_count": 56,
     "metadata": {},
     "output_type": "execute_result"
    }
   ],
   "source": [
    "any(l)"
   ]
  },
  {
   "cell_type": "code",
   "execution_count": 60,
   "id": "22b1962f-31e6-414d-b66b-b8bf0c10218c",
   "metadata": {},
   "outputs": [
    {
     "data": {
      "text/plain": [
       "[2, 3, 4, 5, 6, 10, 11, 12, 'yash', 'Gupta', 15, 16]"
      ]
     },
     "execution_count": 60,
     "metadata": {},
     "output_type": "execute_result"
    }
   ],
   "source": [
    "l.pop(-1)\n",
    "l"
   ]
  },
  {
   "cell_type": "code",
   "execution_count": 61,
   "id": "3a8c6b57-8c9f-4fed-b6f5-643281c179ce",
   "metadata": {},
   "outputs": [
    {
     "data": {
      "text/plain": [
       "True"
      ]
     },
     "execution_count": 61,
     "metadata": {},
     "output_type": "execute_result"
    }
   ],
   "source": [
    "all(l)"
   ]
  },
  {
   "cell_type": "code",
   "execution_count": 62,
   "id": "952e3185-db51-43fc-915d-60b92ca2df43",
   "metadata": {},
   "outputs": [
    {
     "data": {
      "text/plain": [
       "True"
      ]
     },
     "execution_count": 62,
     "metadata": {},
     "output_type": "execute_result"
    }
   ],
   "source": [
    "any(l)"
   ]
  },
  {
   "cell_type": "markdown",
   "id": "f7e239f5-78b8-4635-8ff4-8608895df9d7",
   "metadata": {},
   "source": [
    "# Tuple "
   ]
  },
  {
   "cell_type": "code",
   "execution_count": null,
   "id": "dd14bd9c-9247-4c3b-a199-813ea8b47370",
   "metadata": {},
   "outputs": [],
   "source": [
    "# tuple is immuatabale or inhashable ( not changing anything ) "
   ]
  },
  {
   "cell_type": "code",
   "execution_count": 1,
   "id": "19ca3798-f34b-4e15-9e83-b27b60b8006e",
   "metadata": {},
   "outputs": [
    {
     "data": {
      "text/plain": [
       "()"
      ]
     },
     "execution_count": 1,
     "metadata": {},
     "output_type": "execute_result"
    }
   ],
   "source": [
    "t=()\n",
    "t"
   ]
  },
  {
   "cell_type": "raw",
   "id": "15267bec-d6bc-4494-a3a4-ad2bc6a8c6a1",
   "metadata": {},
   "source": [
    "print(type(t))"
   ]
  },
  {
   "cell_type": "code",
   "execution_count": 2,
   "id": "dced2ab7-fcf1-4c17-8d87-a333a9e10541",
   "metadata": {},
   "outputs": [
    {
     "name": "stdout",
     "output_type": "stream",
     "text": [
      "<class 'tuple'>\n"
     ]
    }
   ],
   "source": [
    "print(type(t))"
   ]
  },
  {
   "cell_type": "code",
   "execution_count": 3,
   "id": "55033ebc-7fdc-4e6a-8bb6-fe5274dba20c",
   "metadata": {},
   "outputs": [
    {
     "data": {
      "text/plain": [
       "(10, 20, 30, 40, 50)"
      ]
     },
     "execution_count": 3,
     "metadata": {},
     "output_type": "execute_result"
    }
   ],
   "source": [
    "t1=(10,20,30,40,50)\n",
    "t1"
   ]
  },
  {
   "cell_type": "code",
   "execution_count": 5,
   "id": "bfdad5a3-8610-4bb6-8dd5-89b51344a8cf",
   "metadata": {},
   "outputs": [
    {
     "data": {
      "text/plain": [
       "5"
      ]
     },
     "execution_count": 5,
     "metadata": {},
     "output_type": "execute_result"
    }
   ],
   "source": [
    "len(t1)"
   ]
  },
  {
   "cell_type": "code",
   "execution_count": 6,
   "id": "9739b99b-741d-4687-a34c-9794d79a8900",
   "metadata": {},
   "outputs": [
    {
     "data": {
      "text/plain": [
       "1"
      ]
     },
     "execution_count": 6,
     "metadata": {},
     "output_type": "execute_result"
    }
   ],
   "source": [
    "t1.count(20)"
   ]
  },
  {
   "cell_type": "code",
   "execution_count": 7,
   "id": "91a8a5f9-198f-4d9d-acae-5b49b6574aaf",
   "metadata": {},
   "outputs": [
    {
     "data": {
      "text/plain": [
       "1"
      ]
     },
     "execution_count": 7,
     "metadata": {},
     "output_type": "execute_result"
    }
   ],
   "source": [
    "t1.count(20)"
   ]
  },
  {
   "cell_type": "code",
   "execution_count": 9,
   "id": "b3a27b88-c675-4639-a86d-8e9330cc7e6b",
   "metadata": {},
   "outputs": [
    {
     "data": {
      "text/plain": [
       "1"
      ]
     },
     "execution_count": 9,
     "metadata": {},
     "output_type": "execute_result"
    }
   ],
   "source": [
    "t1.count(40)"
   ]
  },
  {
   "cell_type": "code",
   "execution_count": 10,
   "id": "9d962632-ce5f-407f-a982-fa2e6915f0d3",
   "metadata": {},
   "outputs": [
    {
     "data": {
      "text/plain": [
       "(10, 20, 30, 40, 50)"
      ]
     },
     "execution_count": 10,
     "metadata": {},
     "output_type": "execute_result"
    }
   ],
   "source": [
    "t1"
   ]
  },
  {
   "cell_type": "code",
   "execution_count": 11,
   "id": "9e1b1b5f-964d-4635-adec-a7f77132549a",
   "metadata": {},
   "outputs": [
    {
     "data": {
      "text/plain": [
       "3"
      ]
     },
     "execution_count": 11,
     "metadata": {},
     "output_type": "execute_result"
    }
   ],
   "source": [
    "t1.index(40)"
   ]
  },
  {
   "cell_type": "code",
   "execution_count": 12,
   "id": "e0696c9e-63e6-4532-a0a9-f3eafd20f5f0",
   "metadata": {},
   "outputs": [
    {
     "data": {
      "text/plain": [
       "2"
      ]
     },
     "execution_count": 12,
     "metadata": {},
     "output_type": "execute_result"
    }
   ],
   "source": [
    "t1.index(30)"
   ]
  },
  {
   "cell_type": "code",
   "execution_count": null,
   "id": "88844409-eaef-4baa-8b13-00407dd9ab2a",
   "metadata": {},
   "outputs": [],
   "source": []
  },
  {
   "cell_type": "code",
   "execution_count": 19,
   "id": "c1336f3e-7a6f-4188-8aff-887f0b7c864c",
   "metadata": {},
   "outputs": [
    {
     "data": {
      "text/plain": [
       "(1, 'yash', 3.14, True, 3, [1, 2, 3, 4], (10, 20, 30, 40))"
      ]
     },
     "execution_count": 19,
     "metadata": {},
     "output_type": "execute_result"
    }
   ],
   "source": [
    "t2= (1 ,'yash', 3.14, True, (1+2),[ 1,2,3,4],(10, 20, 30 ,40))\n",
    "t2"
   ]
  },
  {
   "cell_type": "code",
   "execution_count": 20,
   "id": "0258fdd8-5dc8-4b81-90d3-7f8141fbee74",
   "metadata": {},
   "outputs": [
    {
     "name": "stdout",
     "output_type": "stream",
     "text": [
      "()\n",
      "(10, 20, 30, 40, 50)\n",
      "(1, 'yash', 3.14, True, 3, [1, 2, 3, 4], (10, 20, 30, 40))\n"
     ]
    }
   ],
   "source": [
    "print(t)\n",
    "print(t1)\n",
    "print(t2)"
   ]
  },
  {
   "cell_type": "code",
   "execution_count": 22,
   "id": "f5ddf062-9e95-4ec7-95e4-93aa029cb2da",
   "metadata": {},
   "outputs": [
    {
     "data": {
      "text/plain": [
       "(1, 'yash', 3.14, True, 3, [1, 2, 3, 4], (10, 20, 30, 40))"
      ]
     },
     "execution_count": 22,
     "metadata": {},
     "output_type": "execute_result"
    }
   ],
   "source": [
    "t2"
   ]
  },
  {
   "cell_type": "code",
   "execution_count": 23,
   "id": "4ff2b4b2-d305-45b0-bf2e-f37bb1dfccc5",
   "metadata": {},
   "outputs": [
    {
     "data": {
      "text/plain": [
       "(1, 'yash', 3.14, True, 3, [1, 2, 3, 4], (10, 20, 30, 40))"
      ]
     },
     "execution_count": 23,
     "metadata": {},
     "output_type": "execute_result"
    }
   ],
   "source": [
    "t2[:]"
   ]
  },
  {
   "cell_type": "code",
   "execution_count": 24,
   "id": "011bf4b4-d426-43fc-971a-bf3f8c789b86",
   "metadata": {},
   "outputs": [
    {
     "data": {
      "text/plain": [
       "(True, 3, [1, 2, 3, 4], (10, 20, 30, 40))"
      ]
     },
     "execution_count": 24,
     "metadata": {},
     "output_type": "execute_result"
    }
   ],
   "source": [
    "t2[3:9]"
   ]
  },
  {
   "cell_type": "code",
   "execution_count": 25,
   "id": "21e6c040-1fa1-430d-9e09-cc80cf4e109e",
   "metadata": {},
   "outputs": [
    {
     "data": {
      "text/plain": [
       "(1, 'yash', 3.14, True, 3, [1, 2, 3, 4])"
      ]
     },
     "execution_count": 25,
     "metadata": {},
     "output_type": "execute_result"
    }
   ],
   "source": [
    "t2[:6]"
   ]
  },
  {
   "cell_type": "markdown",
   "id": "2d6c0e98-5df7-44d2-8eb0-6fbe7f51cef6",
   "metadata": {},
   "source": [
    "# Set"
   ]
  },
  {
   "cell_type": "code",
   "execution_count": 1,
   "id": "dac414dd-748f-4e25-aced-8c711d50916a",
   "metadata": {},
   "outputs": [
    {
     "data": {
      "text/plain": [
       "{}"
      ]
     },
     "execution_count": 1,
     "metadata": {},
     "output_type": "execute_result"
    }
   ],
   "source": [
    "s={}\n",
    "s"
   ]
  },
  {
   "cell_type": "code",
   "execution_count": 8,
   "id": "5668cea4-bf11-4439-9143-35a9469c3899",
   "metadata": {},
   "outputs": [],
   "source": [
    "del(s1)"
   ]
  },
  {
   "cell_type": "code",
   "execution_count": 9,
   "id": "8b50e750-294f-49d1-94eb-d86c4658e26f",
   "metadata": {},
   "outputs": [],
   "source": [
    "del(s)"
   ]
  },
  {
   "cell_type": "code",
   "execution_count": 10,
   "id": "1390879b-138f-4ee0-94bf-c7fe23186d08",
   "metadata": {},
   "outputs": [
    {
     "data": {
      "text/plain": [
       "{}"
      ]
     },
     "execution_count": 10,
     "metadata": {},
     "output_type": "execute_result"
    }
   ],
   "source": [
    "s={}\n",
    "s"
   ]
  },
  {
   "cell_type": "code",
   "execution_count": 11,
   "id": "bbe7d0e1-2c30-4842-93e9-95042a462c4e",
   "metadata": {},
   "outputs": [
    {
     "ename": "TypeError",
     "evalue": "'dict' object is not callable",
     "output_type": "error",
     "traceback": [
      "\u001b[1;31m---------------------------------------------------------------------------\u001b[0m",
      "\u001b[1;31mTypeError\u001b[0m                                 Traceback (most recent call last)",
      "Cell \u001b[1;32mIn[11], line 1\u001b[0m\n\u001b[1;32m----> 1\u001b[0m \u001b[38;5;28mtype\u001b[39m(s)\n",
      "\u001b[1;31mTypeError\u001b[0m: 'dict' object is not callable"
     ]
    }
   ],
   "source": [
    "type(s)"
   ]
  },
  {
   "cell_type": "code",
   "execution_count": 12,
   "id": "c0612723-8cdd-4534-bc35-02932aec0375",
   "metadata": {},
   "outputs": [
    {
     "data": {
      "text/plain": [
       "{}"
      ]
     },
     "execution_count": 12,
     "metadata": {},
     "output_type": "execute_result"
    }
   ],
   "source": [
    "my_set={}\n",
    "my_set\n"
   ]
  },
  {
   "cell_type": "code",
   "execution_count": 13,
   "id": "c9ba03ff-de59-4a32-b56c-66c828015803",
   "metadata": {},
   "outputs": [
    {
     "ename": "TypeError",
     "evalue": "'dict' object is not callable",
     "output_type": "error",
     "traceback": [
      "\u001b[1;31m---------------------------------------------------------------------------\u001b[0m",
      "\u001b[1;31mTypeError\u001b[0m                                 Traceback (most recent call last)",
      "Cell \u001b[1;32mIn[13], line 1\u001b[0m\n\u001b[1;32m----> 1\u001b[0m \u001b[38;5;28mtype\u001b[39m(my_set)\n",
      "\u001b[1;31mTypeError\u001b[0m: 'dict' object is not callable"
     ]
    }
   ],
   "source": [
    "type(my_set)"
   ]
  },
  {
   "cell_type": "code",
   "execution_count": 14,
   "id": "47f2eef0-e29d-4ecc-9cb1-174a5c00dbb8",
   "metadata": {},
   "outputs": [
    {
     "ename": "TypeError",
     "evalue": "'dict' object is not callable",
     "output_type": "error",
     "traceback": [
      "\u001b[1;31m---------------------------------------------------------------------------\u001b[0m",
      "\u001b[1;31mTypeError\u001b[0m                                 Traceback (most recent call last)",
      "Cell \u001b[1;32mIn[14], line 2\u001b[0m\n\u001b[0;32m      1\u001b[0m my_set \u001b[38;5;241m=\u001b[39m \u001b[38;5;28mset\u001b[39m()\n\u001b[1;32m----> 2\u001b[0m \u001b[38;5;28mtype\u001b[39m(my_set)\n",
      "\u001b[1;31mTypeError\u001b[0m: 'dict' object is not callable"
     ]
    }
   ],
   "source": [
    "my_set = set()\n",
    "type(my_set)"
   ]
  },
  {
   "cell_type": "code",
   "execution_count": 15,
   "id": "a5772d46-fb32-448b-af70-d80a3a5b1bce",
   "metadata": {},
   "outputs": [
    {
     "name": "stdout",
     "output_type": "stream",
     "text": [
      "<class 'dict'>\n"
     ]
    }
   ],
   "source": [
    "print(dict)"
   ]
  },
  {
   "cell_type": "code",
   "execution_count": 17,
   "id": "b21a2129-8e42-4bb6-ba0f-9ed814fbf554",
   "metadata": {},
   "outputs": [
    {
     "ename": "NameError",
     "evalue": "name 'dict' is not defined",
     "output_type": "error",
     "traceback": [
      "\u001b[1;31m---------------------------------------------------------------------------\u001b[0m",
      "\u001b[1;31mNameError\u001b[0m                                 Traceback (most recent call last)",
      "Cell \u001b[1;32mIn[17], line 1\u001b[0m\n\u001b[1;32m----> 1\u001b[0m \u001b[38;5;28;01mdel\u001b[39;00m \u001b[38;5;28mdict\u001b[39m\n\u001b[0;32m      2\u001b[0m \u001b[38;5;28;01mdel\u001b[39;00m \u001b[38;5;28mtype\u001b[39m\n",
      "\u001b[1;31mNameError\u001b[0m: name 'dict' is not defined"
     ]
    }
   ],
   "source": [
    "del dict\n",
    "del type"
   ]
  },
  {
   "cell_type": "code",
   "execution_count": 18,
   "id": "b12bd12d-2b92-48b7-a1b0-66c415fc42e8",
   "metadata": {},
   "outputs": [],
   "source": [
    "del type"
   ]
  },
  {
   "cell_type": "code",
   "execution_count": 19,
   "id": "496e3175-c1ce-4055-b00d-62b083a67957",
   "metadata": {},
   "outputs": [
    {
     "data": {
      "text/plain": [
       "{}"
      ]
     },
     "execution_count": 19,
     "metadata": {},
     "output_type": "execute_result"
    }
   ],
   "source": [
    "s={}\n",
    "s"
   ]
  },
  {
   "cell_type": "code",
   "execution_count": 20,
   "id": "1559b4b7-d124-47e9-b536-d5780da856cb",
   "metadata": {},
   "outputs": [
    {
     "data": {
      "text/plain": [
       "dict"
      ]
     },
     "execution_count": 20,
     "metadata": {},
     "output_type": "execute_result"
    }
   ],
   "source": [
    "type(s)"
   ]
  },
  {
   "cell_type": "code",
   "execution_count": 21,
   "id": "c5baaea9-127f-4230-b3e8-0dfbc598c4d1",
   "metadata": {},
   "outputs": [
    {
     "data": {
      "text/plain": [
       "set"
      ]
     },
     "execution_count": 21,
     "metadata": {},
     "output_type": "execute_result"
    }
   ],
   "source": [
    "s1= set()\n",
    "type(s1)"
   ]
  },
  {
   "cell_type": "code",
   "execution_count": 22,
   "id": "ab2db301-e63b-47fd-8a10-a990eb7640cf",
   "metadata": {},
   "outputs": [
    {
     "data": {
      "text/plain": [
       "set()"
      ]
     },
     "execution_count": 22,
     "metadata": {},
     "output_type": "execute_result"
    }
   ],
   "source": [
    "set()\n"
   ]
  },
  {
   "cell_type": "code",
   "execution_count": 23,
   "id": "b4ee8f6e-7e91-4c69-bd78-87ca251b7c4c",
   "metadata": {},
   "outputs": [
    {
     "data": {
      "text/plain": [
       "set()"
      ]
     },
     "execution_count": 23,
     "metadata": {},
     "output_type": "execute_result"
    }
   ],
   "source": [
    "s1"
   ]
  },
  {
   "cell_type": "code",
   "execution_count": 24,
   "id": "faa43234-cfd1-4d03-8d60-c0fbd436b134",
   "metadata": {},
   "outputs": [
    {
     "data": {
      "text/plain": [
       "{1, 2, 3, 4, 5}"
      ]
     },
     "execution_count": 24,
     "metadata": {},
     "output_type": "execute_result"
    }
   ],
   "source": [
    "s2={1,2,3,4,5}\n",
    "s2"
   ]
  },
  {
   "cell_type": "code",
   "execution_count": 25,
   "id": "9e4f0bed-f648-4d55-93ec-83c9b8646fba",
   "metadata": {},
   "outputs": [
    {
     "data": {
      "text/plain": [
       "{'a', 'h', 'p', 's', 'y', 'z'}"
      ]
     },
     "execution_count": 25,
     "metadata": {},
     "output_type": "execute_result"
    }
   ],
   "source": [
    "s3={'z','y', 'p' , 'a', 's','h'}\n",
    "s3"
   ]
  },
  {
   "cell_type": "code",
   "execution_count": null,
   "id": "5446735a-8b7f-4168-af50-82e5dcd974d4",
   "metadata": {},
   "outputs": [],
   "source": [
    "# in the set they give th orded form if the dT type is same."
   ]
  },
  {
   "cell_type": "code",
   "execution_count": 27,
   "id": "28fcb795-b1b7-4e98-87b0-e3e29b45c699",
   "metadata": {},
   "outputs": [
    {
     "data": {
      "text/plain": [
       "{(5+6j), 1, 3.14, 'yash'}"
      ]
     },
     "execution_count": 27,
     "metadata": {},
     "output_type": "execute_result"
    }
   ],
   "source": [
    "s4={1,3.14,\"yash\",5+6j,True }\n",
    "s4"
   ]
  },
  {
   "cell_type": "code",
   "execution_count": 28,
   "id": "d42d6cbc-8abc-4c71-b7b1-83490f3b4ca6",
   "metadata": {},
   "outputs": [
    {
     "name": "stdout",
     "output_type": "stream",
     "text": [
      "{}\n",
      "set()\n",
      "{1, 2, 3, 4, 5}\n",
      "{'z', 's', 'y', 'a', 'p', 'h'}\n",
      "{'yash', 1, 3.14, (5+6j)}\n"
     ]
    }
   ],
   "source": [
    "print(s)\n",
    "print(s1)\n",
    "print(s2)\n",
    "print(s3)\n",
    "print(s4)"
   ]
  },
  {
   "cell_type": "code",
   "execution_count": 29,
   "id": "b6f5fc72-6e6f-4271-91a9-00be95567f51",
   "metadata": {},
   "outputs": [
    {
     "data": {
      "text/plain": [
       "{12}"
      ]
     },
     "execution_count": 29,
     "metadata": {},
     "output_type": "execute_result"
    }
   ],
   "source": [
    "s1.add(12)\n",
    "s1"
   ]
  },
  {
   "cell_type": "code",
   "execution_count": 32,
   "id": "c8e8bc13-b4cb-4ec8-9578-6102d16c429f",
   "metadata": {},
   "outputs": [
    {
     "data": {
      "text/plain": [
       "{10, 12}"
      ]
     },
     "execution_count": 32,
     "metadata": {},
     "output_type": "execute_result"
    }
   ],
   "source": [
    "s1.add(10)\n",
    "s1"
   ]
  },
  {
   "cell_type": "code",
   "execution_count": 33,
   "id": "acf98e52-dd17-472d-9d2d-cff5a9fc007e",
   "metadata": {},
   "outputs": [],
   "source": [
    "s1.add(500)"
   ]
  },
  {
   "cell_type": "code",
   "execution_count": 34,
   "id": "d26c488f-05f9-4738-aeb1-9ad6903ec332",
   "metadata": {},
   "outputs": [
    {
     "data": {
      "text/plain": [
       "{10, 12, 500}"
      ]
     },
     "execution_count": 34,
     "metadata": {},
     "output_type": "execute_result"
    }
   ],
   "source": [
    "s1"
   ]
  },
  {
   "cell_type": "code",
   "execution_count": 37,
   "id": "9ba93c0c-d88e-4bce-b94b-23d1170f4c9a",
   "metadata": {},
   "outputs": [
    {
     "ename": "TypeError",
     "evalue": "set.copy() takes no arguments (1 given)",
     "output_type": "error",
     "traceback": [
      "\u001b[1;31m---------------------------------------------------------------------------\u001b[0m",
      "\u001b[1;31mTypeError\u001b[0m                                 Traceback (most recent call last)",
      "Cell \u001b[1;32mIn[37], line 1\u001b[0m\n\u001b[1;32m----> 1\u001b[0m s1\u001b[38;5;241m.\u001b[39mcopy(s4)\n\u001b[0;32m      2\u001b[0m s1\n",
      "\u001b[1;31mTypeError\u001b[0m: set.copy() takes no arguments (1 given)"
     ]
    }
   ],
   "source": [
    "s1.copy(s4)\n",
    "s1"
   ]
  },
  {
   "cell_type": "code",
   "execution_count": 38,
   "id": "32acd0fa-2898-4866-851a-963d29bc6589",
   "metadata": {},
   "outputs": [
    {
     "data": {
      "text/plain": [
       "{}"
      ]
     },
     "execution_count": 38,
     "metadata": {},
     "output_type": "execute_result"
    }
   ],
   "source": [
    "s4 =s.copy()\n",
    "s4"
   ]
  },
  {
   "cell_type": "code",
   "execution_count": 39,
   "id": "3854b1de-66fa-4eae-ad76-e5d743f1be60",
   "metadata": {},
   "outputs": [
    {
     "data": {
      "text/plain": [
       "{}"
      ]
     },
     "execution_count": 39,
     "metadata": {},
     "output_type": "execute_result"
    }
   ],
   "source": [
    "s4"
   ]
  },
  {
   "cell_type": "code",
   "execution_count": 40,
   "id": "3e6bf370-6243-449e-9574-1d2529038dc8",
   "metadata": {},
   "outputs": [
    {
     "data": {
      "text/plain": [
       "{'a', 'h', 'p', 's', 'y', 'z'}"
      ]
     },
     "execution_count": 40,
     "metadata": {},
     "output_type": "execute_result"
    }
   ],
   "source": [
    "s4=s3.copy()\n",
    "s4"
   ]
  },
  {
   "cell_type": "code",
   "execution_count": 41,
   "id": "8d229cab-0026-458e-938c-b0eda9af2c05",
   "metadata": {},
   "outputs": [
    {
     "data": {
      "text/plain": [
       "{'a', 'h', 'p', 's', 'y', 'z'}"
      ]
     },
     "execution_count": 41,
     "metadata": {},
     "output_type": "execute_result"
    }
   ],
   "source": [
    "s4"
   ]
  },
  {
   "cell_type": "code",
   "execution_count": 5,
   "id": "6aae40b7-adf8-48a1-9ee1-c7950ec80dd9",
   "metadata": {},
   "outputs": [
    {
     "data": {
      "text/plain": [
       "{}"
      ]
     },
     "execution_count": 5,
     "metadata": {},
     "output_type": "execute_result"
    }
   ],
   "source": [
    "s={}\n",
    "s"
   ]
  },
  {
   "cell_type": "code",
   "execution_count": 6,
   "id": "a923a4b7-7941-4458-b6ee-239ea4a3314b",
   "metadata": {},
   "outputs": [
    {
     "data": {
      "text/plain": [
       "dict"
      ]
     },
     "execution_count": 6,
     "metadata": {},
     "output_type": "execute_result"
    }
   ],
   "source": [
    "type(s)"
   ]
  },
  {
   "cell_type": "code",
   "execution_count": 7,
   "id": "d6f8397a-2eba-48b0-b27c-0a147dffecd7",
   "metadata": {},
   "outputs": [
    {
     "data": {
      "text/plain": [
       "set()"
      ]
     },
     "execution_count": 7,
     "metadata": {},
     "output_type": "execute_result"
    }
   ],
   "source": [
    "s1=set()\n",
    "s1"
   ]
  },
  {
   "cell_type": "code",
   "execution_count": 8,
   "id": "e42921b6-155b-4024-8799-f02081139b9a",
   "metadata": {},
   "outputs": [
    {
     "data": {
      "text/plain": [
       "set"
      ]
     },
     "execution_count": 8,
     "metadata": {},
     "output_type": "execute_result"
    }
   ],
   "source": [
    "type(s1)"
   ]
  },
  {
   "cell_type": "code",
   "execution_count": 9,
   "id": "bd9e8896-f17e-4ea2-be48-f7f954d01682",
   "metadata": {},
   "outputs": [
    {
     "data": {
      "text/plain": [
       "{2, 4, 6, 7, 8, 9}"
      ]
     },
     "execution_count": 9,
     "metadata": {},
     "output_type": "execute_result"
    }
   ],
   "source": [
    "s2={2,4,6,7,8,9}\n",
    "s2"
   ]
  },
  {
   "cell_type": "code",
   "execution_count": 10,
   "id": "76078c44-f6df-4c94-8b71-a77ae7bec4d6",
   "metadata": {},
   "outputs": [
    {
     "data": {
      "text/plain": [
       "{12, 45, 56, 67, 78}"
      ]
     },
     "execution_count": 10,
     "metadata": {},
     "output_type": "execute_result"
    }
   ],
   "source": [
    "s3={56,78,12,45,67}\n",
    "s3"
   ]
  },
  {
   "cell_type": "code",
   "execution_count": 11,
   "id": "6b385642-11ca-4cbd-a625-e4d71f790b4e",
   "metadata": {},
   "outputs": [
    {
     "name": "stdout",
     "output_type": "stream",
     "text": [
      "set()\n",
      "{2, 4, 6, 7, 8, 9}\n",
      "{67, 56, 12, 45, 78}\n"
     ]
    }
   ],
   "source": [
    "print(s1)\n",
    "print(s2)\n",
    "print(s3)"
   ]
  },
  {
   "cell_type": "code",
   "execution_count": 12,
   "id": "17a5d4b3-2207-4f0a-a98d-d80f5b05be74",
   "metadata": {},
   "outputs": [],
   "source": [
    "s2.clear()"
   ]
  },
  {
   "cell_type": "code",
   "execution_count": 13,
   "id": "bf8314b1-990b-48fc-bed1-b7e6f49a3833",
   "metadata": {},
   "outputs": [
    {
     "data": {
      "text/plain": [
       "set()"
      ]
     },
     "execution_count": 13,
     "metadata": {},
     "output_type": "execute_result"
    }
   ],
   "source": [
    "s2"
   ]
  },
  {
   "cell_type": "code",
   "execution_count": 14,
   "id": "d723aa0c-eb24-4cb4-9f34-a0541093cd6c",
   "metadata": {},
   "outputs": [
    {
     "data": {
      "text/plain": [
       "set()"
      ]
     },
     "execution_count": 14,
     "metadata": {},
     "output_type": "execute_result"
    }
   ],
   "source": [
    "s1.clear()\n",
    "s1"
   ]
  },
  {
   "cell_type": "code",
   "execution_count": 15,
   "id": "c002aaf5-41ed-421d-8bd6-9a615f0fb5d1",
   "metadata": {},
   "outputs": [
    {
     "data": {
      "text/plain": [
       "{(5+7j), 2, 3.14, True, 'yash'}"
      ]
     },
     "execution_count": 15,
     "metadata": {},
     "output_type": "execute_result"
    }
   ],
   "source": [
    "s5={'yash' , 2, 3.14 , 5+7j, True}\n",
    "s5"
   ]
  },
  {
   "cell_type": "code",
   "execution_count": 16,
   "id": "1bad95f6-382e-4ebb-b6d2-027e7356b487",
   "metadata": {},
   "outputs": [
    {
     "data": {
      "text/plain": [
       "{(5+7j), 2, True, 'yash'}"
      ]
     },
     "execution_count": 16,
     "metadata": {},
     "output_type": "execute_result"
    }
   ],
   "source": [
    "s5.remove(3.14)\n",
    "s5"
   ]
  },
  {
   "cell_type": "code",
   "execution_count": 17,
   "id": "b14efc23-f149-49a9-b352-dd6c3ad16905",
   "metadata": {},
   "outputs": [
    {
     "data": {
      "text/plain": [
       "{(5+7j), 2, True, 'yash'}"
      ]
     },
     "execution_count": 17,
     "metadata": {},
     "output_type": "execute_result"
    }
   ],
   "source": [
    "s5"
   ]
  },
  {
   "cell_type": "code",
   "execution_count": 18,
   "id": "49727ea8-0fa5-4179-8e79-25ec6acd4036",
   "metadata": {},
   "outputs": [
    {
     "data": {
      "text/plain": [
       "{(5+7j), 2, True, 'yash'}"
      ]
     },
     "execution_count": 18,
     "metadata": {},
     "output_type": "execute_result"
    }
   ],
   "source": [
    "s5.discard('z')\n",
    "s5"
   ]
  },
  {
   "cell_type": "code",
   "execution_count": 20,
   "id": "1e90b0f7-364f-4965-90fd-946316269bc4",
   "metadata": {},
   "outputs": [
    {
     "data": {
      "text/plain": [
       "{(5+7j), True, 'yash'}"
      ]
     },
     "execution_count": 20,
     "metadata": {},
     "output_type": "execute_result"
    }
   ],
   "source": [
    "s5.discard(2)\n",
    "s5"
   ]
  },
  {
   "cell_type": "code",
   "execution_count": 22,
   "id": "6c29f631-0bcd-4717-86e0-9386206c7f99",
   "metadata": {},
   "outputs": [
    {
     "data": {
      "text/plain": [
       "{(5+7j), 7, True, 'yash'}"
      ]
     },
     "execution_count": 22,
     "metadata": {},
     "output_type": "execute_result"
    }
   ],
   "source": [
    "s5.add(7)\n",
    "s5"
   ]
  },
  {
   "cell_type": "code",
   "execution_count": 23,
   "id": "554baa2c-0906-45c2-8db5-7923364abafb",
   "metadata": {},
   "outputs": [
    {
     "data": {
      "text/plain": [
       "{(5+7j), 7, 'yash'}"
      ]
     },
     "execution_count": 23,
     "metadata": {},
     "output_type": "execute_result"
    }
   ],
   "source": [
    "s5.pop()\n",
    "s5"
   ]
  },
  {
   "cell_type": "code",
   "execution_count": 24,
   "id": "f6d82f61-375d-4909-ab65-51a283a1b002",
   "metadata": {},
   "outputs": [
    {
     "name": "stdout",
     "output_type": "stream",
     "text": [
      "7\n",
      "(5+7j)\n",
      "yash\n"
     ]
    }
   ],
   "source": [
    "for i in s5:\n",
    "    print(i)"
   ]
  },
  {
   "cell_type": "code",
   "execution_count": 25,
   "id": "a92cbb5e-beb3-4349-be4d-062056d21065",
   "metadata": {},
   "outputs": [
    {
     "name": "stdout",
     "output_type": "stream",
     "text": [
      "(0, 7)\n",
      "(1, (5+7j))\n",
      "(2, 'yash')\n"
     ]
    }
   ],
   "source": [
    "for i in enumerate (s5):\n",
    "    print(i)"
   ]
  },
  {
   "cell_type": "code",
   "execution_count": null,
   "id": "ed393c9b-17fd-438a-b07f-5fd492c26bc0",
   "metadata": {},
   "outputs": [],
   "source": [
    "# set membership"
   ]
  },
  {
   "cell_type": "code",
   "execution_count": 26,
   "id": "b8dcfb8f-e95f-4b0f-996b-0bd72469a879",
   "metadata": {},
   "outputs": [
    {
     "data": {
      "text/plain": [
       "True"
      ]
     },
     "execution_count": 26,
     "metadata": {},
     "output_type": "execute_result"
    }
   ],
   "source": [
    "7 in s5"
   ]
  },
  {
   "cell_type": "code",
   "execution_count": 27,
   "id": "eed0d4d5-ea5a-4d0e-bddf-fd4da2b0d76e",
   "metadata": {},
   "outputs": [
    {
     "data": {
      "text/plain": [
       "False"
      ]
     },
     "execution_count": 27,
     "metadata": {},
     "output_type": "execute_result"
    }
   ],
   "source": [
    "30  in s5"
   ]
  },
  {
   "cell_type": "code",
   "execution_count": 29,
   "id": "353803d5-3593-4ca7-a4ca-c2da6e4d78e5",
   "metadata": {},
   "outputs": [
    {
     "data": {
      "text/plain": [
       "{1, 2, 3, 4, 5}"
      ]
     },
     "execution_count": 29,
     "metadata": {},
     "output_type": "execute_result"
    }
   ],
   "source": [
    "s6={1,2,3,4,5}\n",
    "s6"
   ]
  },
  {
   "cell_type": "code",
   "execution_count": 31,
   "id": "633d4219-3625-4230-bfec-9121cb82c4c5",
   "metadata": {},
   "outputs": [
    {
     "data": {
      "text/plain": [
       "{(5+7j), 1, 2, 3, 4, 5, 7, 'yash'}"
      ]
     },
     "execution_count": 31,
     "metadata": {},
     "output_type": "execute_result"
    }
   ],
   "source": [
    "s5. update(s6)\n",
    "s5"
   ]
  },
  {
   "cell_type": "markdown",
   "id": "cd75d1fe-7056-490d-9723-300a3846643e",
   "metadata": {},
   "source": [
    "# Set Operations \n",
    "_union\n",
    "_intersection\n",
    "_disjoint\n",
    "_difference\n",
    "_symmentric difference"
   ]
  },
  {
   "cell_type": "code",
   "execution_count": null,
   "id": "6a645bd2-ab79-4e56-b518-922c1186e238",
   "metadata": {},
   "outputs": [],
   "source": [
    "# union"
   ]
  },
  {
   "cell_type": "code",
   "execution_count": null,
   "id": "3e2bd242-7c30-4631-83a5-9c0faa1a4720",
   "metadata": {},
   "outputs": [],
   "source": [
    "s11={1,2,3,4,5}\n",
    "s9={4,5,6,7,8}\n",
    "s10={8,9,10}"
   ]
  },
  {
   "cell_type": "code",
   "execution_count": 2,
   "id": "f5ec89a0-ff12-4d4f-8646-f153e8d15ccc",
   "metadata": {},
   "outputs": [
    {
     "ename": "NameError",
     "evalue": "name 's11' is not defined",
     "output_type": "error",
     "traceback": [
      "\u001b[1;31m---------------------------------------------------------------------------\u001b[0m",
      "\u001b[1;31mNameError\u001b[0m                                 Traceback (most recent call last)",
      "Cell \u001b[1;32mIn[2], line 1\u001b[0m\n\u001b[1;32m----> 1\u001b[0m s11\u001b[38;5;241m.\u001b[39munion(s9)\n",
      "\u001b[1;31mNameError\u001b[0m: name 's11' is not defined"
     ]
    }
   ],
   "source": [
    "s11.union(s9)"
   ]
  },
  {
   "cell_type": "code",
   "execution_count": 3,
   "id": "dfe98f1e-b189-4f7e-bcb9-6f5df43ce2fc",
   "metadata": {},
   "outputs": [],
   "source": [
    "s11={1,2,3,4,5}\n",
    "s9={4,5,6,7,8}\n",
    "s10={8,9,10}"
   ]
  },
  {
   "cell_type": "markdown",
   "id": "92f3a26c-bbea-4993-9477-7ff32050020f",
   "metadata": {},
   "source": [
    "# "
   ]
  },
  {
   "cell_type": "code",
   "execution_count": 4,
   "id": "00ad214f-ad11-4b03-ae29-823dac62ebf4",
   "metadata": {},
   "outputs": [
    {
     "data": {
      "text/plain": [
       "{1, 2, 3, 4, 5}"
      ]
     },
     "execution_count": 4,
     "metadata": {},
     "output_type": "execute_result"
    }
   ],
   "source": [
    "s11"
   ]
  },
  {
   "cell_type": "code",
   "execution_count": 5,
   "id": "b36522d3-81bf-4d35-adcc-56266b225eb3",
   "metadata": {},
   "outputs": [
    {
     "data": {
      "text/plain": [
       "{4, 5, 6, 7, 8}"
      ]
     },
     "execution_count": 5,
     "metadata": {},
     "output_type": "execute_result"
    }
   ],
   "source": [
    "s9"
   ]
  },
  {
   "cell_type": "code",
   "execution_count": 6,
   "id": "5845b006-0855-44db-9d6e-2f897b7aa032",
   "metadata": {},
   "outputs": [
    {
     "data": {
      "text/plain": [
       "{8, 9, 10}"
      ]
     },
     "execution_count": 6,
     "metadata": {},
     "output_type": "execute_result"
    }
   ],
   "source": [
    "s10"
   ]
  },
  {
   "cell_type": "code",
   "execution_count": 7,
   "id": "a642323a-4a69-458c-9d37-8c5d6b5b167b",
   "metadata": {},
   "outputs": [
    {
     "data": {
      "text/plain": [
       "{1, 2, 3, 4, 5, 6, 7, 8}"
      ]
     },
     "execution_count": 7,
     "metadata": {},
     "output_type": "execute_result"
    }
   ],
   "source": [
    "s11.union(s9)"
   ]
  },
  {
   "cell_type": "code",
   "execution_count": 8,
   "id": "6a3a956f-ff1c-405f-8113-963f73d76388",
   "metadata": {},
   "outputs": [
    {
     "data": {
      "text/plain": [
       "{1, 2, 3, 4, 5, 6, 7, 8, 9, 10}"
      ]
     },
     "execution_count": 8,
     "metadata": {},
     "output_type": "execute_result"
    }
   ],
   "source": [
    "s11.union(s9,s10)"
   ]
  },
  {
   "cell_type": "code",
   "execution_count": 10,
   "id": "6b44f40f-cabb-4fa9-8546-1c2f5e61e4e9",
   "metadata": {},
   "outputs": [
    {
     "data": {
      "text/plain": [
       "{1, 2, 3, 4, 5, 6, 7, 8}"
      ]
     },
     "execution_count": 10,
     "metadata": {},
     "output_type": "execute_result"
    }
   ],
   "source": [
    "s11| s9 # that pipe \"|\"are using for union"
   ]
  },
  {
   "cell_type": "markdown",
   "id": "0d662658-64ab-43d0-b172-ac2be830082b",
   "metadata": {},
   "source": [
    "s11|s9|s10"
   ]
  },
  {
   "cell_type": "code",
   "execution_count": 11,
   "id": "712cac30-875a-47e4-b02f-8844030c56b2",
   "metadata": {},
   "outputs": [
    {
     "data": {
      "text/plain": [
       "{1, 2, 3, 4, 5, 6, 7, 8, 9, 10}"
      ]
     },
     "execution_count": 11,
     "metadata": {},
     "output_type": "execute_result"
    }
   ],
   "source": [
    "s11|s9|s10"
   ]
  },
  {
   "cell_type": "code",
   "execution_count": null,
   "id": "2d735464-7318-4beb-9070-345398701887",
   "metadata": {},
   "outputs": [],
   "source": [
    "# intersection "
   ]
  },
  {
   "cell_type": "code",
   "execution_count": 12,
   "id": "a7caca65-df22-4ea8-8f2d-fcec7efcc847",
   "metadata": {},
   "outputs": [
    {
     "name": "stdout",
     "output_type": "stream",
     "text": [
      "{1, 2, 3, 4, 5}\n",
      "{4, 5, 6, 7, 8}\n",
      "{8, 9, 10}\n"
     ]
    }
   ],
   "source": [
    "print(s11)\n",
    "print(s9)\n",
    "print(s10)"
   ]
  },
  {
   "cell_type": "code",
   "execution_count": 13,
   "id": "d8781f3b-2107-48d9-866a-51ca02e900b4",
   "metadata": {},
   "outputs": [
    {
     "data": {
      "text/plain": [
       "{4, 5}"
      ]
     },
     "execution_count": 13,
     "metadata": {},
     "output_type": "execute_result"
    }
   ],
   "source": [
    "s11.intersection(s9)"
   ]
  },
  {
   "cell_type": "code",
   "execution_count": 14,
   "id": "d9fedbda-7051-4918-b275-d193b02cab2f",
   "metadata": {},
   "outputs": [
    {
     "data": {
      "text/plain": [
       "{8}"
      ]
     },
     "execution_count": 14,
     "metadata": {},
     "output_type": "execute_result"
    }
   ],
   "source": [
    "s9.intersection(s10)"
   ]
  },
  {
   "cell_type": "code",
   "execution_count": 15,
   "id": "30901e07-6fa9-4ef3-b86e-300db32e83e0",
   "metadata": {},
   "outputs": [
    {
     "data": {
      "text/plain": [
       "{4, 5}"
      ]
     },
     "execution_count": 15,
     "metadata": {},
     "output_type": "execute_result"
    }
   ],
   "source": [
    "s11&s9 # this\"&\" symbol using to difine intersection"
   ]
  },
  {
   "cell_type": "code",
   "execution_count": null,
   "id": "a49c429d-12dd-4f1b-a603-d2120407abb6",
   "metadata": {},
   "outputs": [],
   "source": [
    "# difference "
   ]
  },
  {
   "cell_type": "code",
   "execution_count": 16,
   "id": "eb26654f-552a-4d6f-a775-2cd2cc683474",
   "metadata": {},
   "outputs": [
    {
     "name": "stdout",
     "output_type": "stream",
     "text": [
      "{1, 2, 3, 4, 5}\n",
      "{4, 5, 6, 7, 8}\n",
      "{8, 9, 10}\n"
     ]
    }
   ],
   "source": [
    "print(s11)\n",
    "print(s9)\n",
    "print(s10)"
   ]
  },
  {
   "cell_type": "code",
   "execution_count": 17,
   "id": "8c128ec7-bfb6-4595-9261-a6f15e39c905",
   "metadata": {},
   "outputs": [
    {
     "data": {
      "text/plain": [
       "{1, 2, 3}"
      ]
     },
     "execution_count": 17,
     "metadata": {},
     "output_type": "execute_result"
    }
   ],
   "source": [
    "s11.difference(s9)"
   ]
  },
  {
   "cell_type": "code",
   "execution_count": 18,
   "id": "f08d51c0-87ce-48e7-9272-3c63418070aa",
   "metadata": {},
   "outputs": [
    {
     "data": {
      "text/plain": [
       "{1, 2, 3}"
      ]
     },
     "execution_count": 18,
     "metadata": {},
     "output_type": "execute_result"
    }
   ],
   "source": [
    "s11 - s9 # minus \"-\" symbol are used there"
   ]
  },
  {
   "cell_type": "code",
   "execution_count": 19,
   "id": "029ba03b-b605-4933-98fe-d3c5d2c0559d",
   "metadata": {},
   "outputs": [
    {
     "data": {
      "text/plain": [
       "{4, 5, 6, 7}"
      ]
     },
     "execution_count": 19,
     "metadata": {},
     "output_type": "execute_result"
    }
   ],
   "source": [
    "s9 - s10"
   ]
  },
  {
   "cell_type": "code",
   "execution_count": 20,
   "id": "fd95c613-93a3-4fcd-b202-972a576fd98f",
   "metadata": {},
   "outputs": [
    {
     "data": {
      "text/plain": [
       "{9, 10}"
      ]
     },
     "execution_count": 20,
     "metadata": {},
     "output_type": "execute_result"
    }
   ],
   "source": [
    "s10 - s9"
   ]
  },
  {
   "cell_type": "code",
   "execution_count": null,
   "id": "f7e9d914-186b-4e35-93a7-a7efb1211c65",
   "metadata": {},
   "outputs": [],
   "source": [
    "# symmentric_difference"
   ]
  },
  {
   "cell_type": "code",
   "execution_count": 21,
   "id": "4961503f-4f14-4893-b084-9ddb2a4f4895",
   "metadata": {},
   "outputs": [
    {
     "data": {
      "text/plain": [
       "{1, 2, 3, 6, 7, 8}"
      ]
     },
     "execution_count": 21,
     "metadata": {},
     "output_type": "execute_result"
    }
   ],
   "source": [
    "s11.symmetric_difference(s9)"
   ]
  },
  {
   "cell_type": "markdown",
   "id": "5fbb4954-3c4e-4727-a01e-e1cc88eed317",
   "metadata": {},
   "source": [
    "- superset (parent class)\n",
    "- subset (child class)\n",
    "- disjoint (neighbour)"
   ]
  },
  {
   "cell_type": "code",
   "execution_count": 1,
   "id": "3ac7d3fa-ce47-4d58-b4ad-ad9ede2bdd34",
   "metadata": {},
   "outputs": [],
   "source": [
    "s15={1,2,3,4,5,6,7,8,9}\n",
    "s16={3,4,5,6,7,8}\n",
    "s17={10,20,30,40}"
   ]
  },
  {
   "cell_type": "code",
   "execution_count": 3,
   "id": "d610a74c-06dc-4dc9-8e90-e97d6dac6ea4",
   "metadata": {},
   "outputs": [
    {
     "data": {
      "text/plain": [
       "True"
      ]
     },
     "execution_count": 3,
     "metadata": {},
     "output_type": "execute_result"
    }
   ],
   "source": [
    "s16.issubset(s15) # subset is a child class "
   ]
  },
  {
   "cell_type": "code",
   "execution_count": 4,
   "id": "d262f831-783f-43e3-a22b-854fc1940bdc",
   "metadata": {},
   "outputs": [
    {
     "data": {
      "text/plain": [
       "False"
      ]
     },
     "execution_count": 4,
     "metadata": {},
     "output_type": "execute_result"
    }
   ],
   "source": [
    "s15.issubset(s16) # in that we have take freist parent class so its give false"
   ]
  },
  {
   "cell_type": "code",
   "execution_count": 5,
   "id": "254908f0-8fa5-4507-89c6-37d9efaabedb",
   "metadata": {},
   "outputs": [
    {
     "data": {
      "text/plain": [
       "True"
      ]
     },
     "execution_count": 5,
     "metadata": {},
     "output_type": "execute_result"
    }
   ],
   "source": [
    "s15.issuperset(s16)"
   ]
  },
  {
   "cell_type": "code",
   "execution_count": null,
   "id": "ad300e6e-d45a-41fa-85cd-a39f60169d50",
   "metadata": {},
   "outputs": [],
   "source": [
    "s15={1,2,3,4,5,6,7,8,9}\n",
    "s16={3,4,5,6,7,8}\n",
    "s17={10,20,30,40}"
   ]
  },
  {
   "cell_type": "code",
   "execution_count": 6,
   "id": "c870c285-a40b-4ec9-b1a9-791134e6e158",
   "metadata": {},
   "outputs": [
    {
     "data": {
      "text/plain": [
       "True"
      ]
     },
     "execution_count": 6,
     "metadata": {},
     "output_type": "execute_result"
    }
   ],
   "source": [
    "s17.isdisjoint(s15)"
   ]
  },
  {
   "cell_type": "code",
   "execution_count": 8,
   "id": "9f65373d-884f-4f02-b4fb-49c0bc91a30a",
   "metadata": {},
   "outputs": [
    {
     "data": {
      "text/plain": [
       "True"
      ]
     },
     "execution_count": 8,
     "metadata": {},
     "output_type": "execute_result"
    }
   ],
   "source": [
    "s17.isdisjoint(s16)"
   ]
  },
  {
   "cell_type": "code",
   "execution_count": 9,
   "id": "797e5055-ed2b-4124-ade8-0b23b3f0b7e1",
   "metadata": {},
   "outputs": [
    {
     "data": {
      "text/plain": [
       "{1, 2, 3, 4, 5, 6, 7, 8, 9}"
      ]
     },
     "execution_count": 9,
     "metadata": {},
     "output_type": "execute_result"
    }
   ],
   "source": [
    "s15"
   ]
  },
  {
   "cell_type": "code",
   "execution_count": 10,
   "id": "7b769679-53b3-4e26-b7ff-affd2870c013",
   "metadata": {},
   "outputs": [
    {
     "name": "stdout",
     "output_type": "stream",
     "text": [
      "1\n",
      "2\n",
      "3\n",
      "4\n",
      "5\n",
      "6\n",
      "7\n",
      "8\n",
      "9\n"
     ]
    }
   ],
   "source": [
    "for i in s15:\n",
    "    print(i)"
   ]
  },
  {
   "cell_type": "code",
   "execution_count": 13,
   "id": "5350bfc0-4796-4cd4-8fdf-e35bb61de59d",
   "metadata": {},
   "outputs": [
    {
     "name": "stdout",
     "output_type": "stream",
     "text": [
      "(0, 1)\n",
      "(1, 2)\n",
      "(2, 3)\n",
      "(3, 4)\n",
      "(4, 5)\n",
      "(5, 6)\n",
      "(6, 7)\n",
      "(7, 8)\n",
      "(8, 9)\n"
     ]
    }
   ],
   "source": [
    "for i in enumerate(s15):\n",
    "     print(i)"
   ]
  },
  {
   "cell_type": "code",
   "execution_count": null,
   "id": "51281580-d80c-40c5-8d82-25632f551b38",
   "metadata": {},
   "outputs": [],
   "source": [
    "# sum function "
   ]
  },
  {
   "cell_type": "code",
   "execution_count": 14,
   "id": "dcb7b200-9d21-4fbb-8c68-c30dc2db4005",
   "metadata": {},
   "outputs": [
    {
     "data": {
      "text/plain": [
       "45"
      ]
     },
     "execution_count": 14,
     "metadata": {},
     "output_type": "execute_result"
    }
   ],
   "source": [
    "sum(s15)"
   ]
  },
  {
   "cell_type": "markdown",
   "id": "5da96270-a7a3-4da4-9354-84a67cf95fca",
   "metadata": {},
   "source": [
    "# Dictionary"
   ]
  },
  {
   "cell_type": "code",
   "execution_count": 15,
   "id": "22ce7d44-0c23-48d9-ac68-d2912ffbbe50",
   "metadata": {},
   "outputs": [
    {
     "data": {
      "text/plain": [
       "{}"
      ]
     },
     "execution_count": 15,
     "metadata": {},
     "output_type": "execute_result"
    }
   ],
   "source": [
    "d = {}\n",
    "d"
   ]
  },
  {
   "cell_type": "code",
   "execution_count": 16,
   "id": "58b53e31-6fe7-4371-bc29-2e79d0a56469",
   "metadata": {},
   "outputs": [
    {
     "data": {
      "text/plain": [
       "dict"
      ]
     },
     "execution_count": 16,
     "metadata": {},
     "output_type": "execute_result"
    }
   ],
   "source": [
    "type(d)"
   ]
  },
  {
   "cell_type": "code",
   "execution_count": 17,
   "id": "0abf7fba-b1cf-4d0e-b850-5884891b7e30",
   "metadata": {},
   "outputs": [],
   "source": [
    "d1 = {1: 'one' , 2: \"two\" ,3: \"three\" , 4: \"four\"}"
   ]
  },
  {
   "cell_type": "code",
   "execution_count": 18,
   "id": "65d06d0e-ae2f-4fb4-9ab4-de580bba39c4",
   "metadata": {},
   "outputs": [
    {
     "data": {
      "text/plain": [
       "dict_keys([1, 2, 3, 4])"
      ]
     },
     "execution_count": 18,
     "metadata": {},
     "output_type": "execute_result"
    }
   ],
   "source": [
    "d1.keys()"
   ]
  },
  {
   "cell_type": "code",
   "execution_count": 19,
   "id": "5aa75591-1dd7-497c-96c1-fe6c4677bbf2",
   "metadata": {},
   "outputs": [
    {
     "data": {
      "text/plain": [
       "dict_values(['one', 'two', 'three', 'four'])"
      ]
     },
     "execution_count": 19,
     "metadata": {},
     "output_type": "execute_result"
    }
   ],
   "source": [
    "d1.values()"
   ]
  },
  {
   "cell_type": "code",
   "execution_count": 21,
   "id": "c3a7efff-6172-4cbe-9191-333978a814ca",
   "metadata": {},
   "outputs": [],
   "source": [
    "d2 = d1.copy()"
   ]
  },
  {
   "cell_type": "code",
   "execution_count": 22,
   "id": "5b47edc1-c159-4ef2-8b33-96e019d4de70",
   "metadata": {},
   "outputs": [
    {
     "data": {
      "text/plain": [
       "{1: 'one', 2: 'two', 3: 'three', 4: 'four'}"
      ]
     },
     "execution_count": 22,
     "metadata": {},
     "output_type": "execute_result"
    }
   ],
   "source": [
    "d2"
   ]
  },
  {
   "cell_type": "code",
   "execution_count": 23,
   "id": "b20b3e23-e13e-46e3-b466-3d3e75d9e84e",
   "metadata": {},
   "outputs": [
    {
     "data": {
      "text/plain": [
       "dict_items([(1, 'one'), (2, 'two'), (3, 'three'), (4, 'four')])"
      ]
     },
     "execution_count": 23,
     "metadata": {},
     "output_type": "execute_result"
    }
   ],
   "source": [
    "d1.items()"
   ]
  },
  {
   "cell_type": "code",
   "execution_count": 25,
   "id": "04988e42-d1d0-4dac-b3c6-7e7d50295431",
   "metadata": {},
   "outputs": [
    {
     "data": {
      "text/plain": [
       "'two'"
      ]
     },
     "execution_count": 25,
     "metadata": {},
     "output_type": "execute_result"
    }
   ],
   "source": [
    "d1[2] # you want the value call the key "
   ]
  },
  {
   "cell_type": "markdown",
   "id": "9a978551-6432-4c26-b100-0e0a3619a190",
   "metadata": {},
   "source": [
    "# basic python completed\n",
    "- python variable\n",
    "- python opertors\n",
    "- pythone data types\n",
    "- type casting\n",
    "- pythone inbuild datastrucutre"
   ]
  },
  {
   "cell_type": "code",
   "execution_count": null,
   "id": "95bd91c9-9883-4e31-8ce9-c919b5bae8ca",
   "metadata": {},
   "outputs": [],
   "source": []
  }
 ],
 "metadata": {
  "kernelspec": {
   "display_name": "Python 3 (ipykernel)",
   "language": "python",
   "name": "python3"
  },
  "language_info": {
   "codemirror_mode": {
    "name": "ipython",
    "version": 3
   },
   "file_extension": ".py",
   "mimetype": "text/x-python",
   "name": "python",
   "nbconvert_exporter": "python",
   "pygments_lexer": "ipython3",
   "version": "3.12.7"
  }
 },
 "nbformat": 4,
 "nbformat_minor": 5
}
