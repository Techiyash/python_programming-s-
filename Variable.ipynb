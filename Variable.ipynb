{
 "cells": [
  {
   "cell_type": "markdown",
   "id": "4ace1838-ab87-4d46-83b4-f47e3babff91",
   "metadata": {},
   "source": [
    "# Today we started th epython programing "
   ]
  },
  {
   "cell_type": "code",
   "execution_count": 2,
   "id": "255c3a61-424c-459e-968f-8966cb9d2cf7",
   "metadata": {},
   "outputs": [
    {
     "data": {
      "text/plain": [
       "'3.12.7 | packaged by Anaconda, Inc. | (main, Oct  4 2024, 13:17:27) [MSC v.1929 64 bit (AMD64)]'"
      ]
     },
     "execution_count": 2,
     "metadata": {},
     "output_type": "execute_result"
    }
   ],
   "source": [
    "import sys\n",
    "sys.version"
   ]
  },
  {
   "cell_type": "code",
   "execution_count": 3,
   "id": "b9adf1d0-92a4-492d-bd5a-e75319225ac6",
   "metadata": {},
   "outputs": [
    {
     "data": {
      "text/plain": [
       "7"
      ]
     },
     "execution_count": 3,
     "metadata": {},
     "output_type": "execute_result"
    }
   ],
   "source": [
    "2+5"
   ]
  },
  {
   "cell_type": "code",
   "execution_count": 4,
   "id": "8fea0ff1-07d9-469a-8a9c-3e82a077ffe1",
   "metadata": {},
   "outputs": [
    {
     "data": {
      "text/plain": [
       "20"
      ]
     },
     "execution_count": 4,
     "metadata": {},
     "output_type": "execute_result"
    }
   ],
   "source": [
    "5*4"
   ]
  },
  {
   "cell_type": "code",
   "execution_count": 5,
   "id": "63902931-9727-4499-94d5-2e0af86419cd",
   "metadata": {},
   "outputs": [
    {
     "data": {
      "text/plain": [
       "-12"
      ]
     },
     "execution_count": 5,
     "metadata": {},
     "output_type": "execute_result"
    }
   ],
   "source": [
    "1-2-2-9"
   ]
  },
  {
   "cell_type": "code",
   "execution_count": 6,
   "id": "8ac2d1c1-0278-4616-b769-61e5af3d3953",
   "metadata": {},
   "outputs": [
    {
     "data": {
      "text/plain": [
       "27"
      ]
     },
     "execution_count": 6,
     "metadata": {},
     "output_type": "execute_result"
    }
   ],
   "source": [
    "3**3"
   ]
  },
  {
   "cell_type": "code",
   "execution_count": 7,
   "id": "2a382868-59ec-4801-85ae-96711312613c",
   "metadata": {},
   "outputs": [
    {
     "data": {
      "text/plain": [
       "74"
      ]
     },
     "execution_count": 7,
     "metadata": {},
     "output_type": "execute_result"
    }
   ],
   "source": [
    "37*2\n"
   ]
  },
  {
   "cell_type": "code",
   "execution_count": 8,
   "id": "7dcda9f9-7996-4c71-8d40-8b8d224f1d96",
   "metadata": {},
   "outputs": [
    {
     "data": {
      "text/plain": [
       "2.5"
      ]
     },
     "execution_count": 8,
     "metadata": {},
     "output_type": "execute_result"
    }
   ],
   "source": [
    "5/2"
   ]
  },
  {
   "cell_type": "code",
   "execution_count": 11,
   "id": "81e7b8d2-50f4-4dd5-bced-d92c415f331d",
   "metadata": {},
   "outputs": [
    {
     "data": {
      "text/plain": [
       "'yash gupta '"
      ]
     },
     "execution_count": 11,
     "metadata": {},
     "output_type": "execute_result"
    }
   ],
   "source": [
    "\"yash gupta \""
   ]
  },
  {
   "cell_type": "code",
   "execution_count": 10,
   "id": "cea46417-b5fe-445a-a285-f1fd2d31084a",
   "metadata": {},
   "outputs": [
    {
     "data": {
      "text/plain": [
       "'varad pendkar'"
      ]
     },
     "execution_count": 10,
     "metadata": {},
     "output_type": "execute_result"
    }
   ],
   "source": [
    "'varad pendkar'\n"
   ]
  },
  {
   "cell_type": "code",
   "execution_count": 12,
   "id": "935c6d10-8d44-4e89-8bf9-3e90fb5444ca",
   "metadata": {},
   "outputs": [
    {
     "data": {
      "text/plain": [
       "'varad pendkar'"
      ]
     },
     "execution_count": 12,
     "metadata": {},
     "output_type": "execute_result"
    }
   ],
   "source": [
    "  "
   ]
  },
  {
   "cell_type": "code",
   "execution_count": 13,
   "id": "c43a2e08-e931-4731-a339-35f3122c6aa9",
   "metadata": {},
   "outputs": [
    {
     "data": {
      "text/plain": [
       "'varad pendkar'"
      ]
     },
     "execution_count": 13,
     "metadata": {},
     "output_type": "execute_result"
    }
   ],
   "source": [
    " 'yash gupta'\n",
    "'varad pendkar'"
   ]
  },
  {
   "cell_type": "code",
   "execution_count": 14,
   "id": "ad11de0e-44b2-4bd9-b246-f76ac57f9f52",
   "metadata": {},
   "outputs": [],
   "source": [
    "a='yash gupta'"
   ]
  },
  {
   "cell_type": "code",
   "execution_count": 15,
   "id": "7919a835-9815-40df-82e2-1fde63fc682c",
   "metadata": {},
   "outputs": [
    {
     "data": {
      "text/plain": [
       "'yash gupta'"
      ]
     },
     "execution_count": 15,
     "metadata": {},
     "output_type": "execute_result"
    }
   ],
   "source": [
    "a\n"
   ]
  },
  {
   "cell_type": "code",
   "execution_count": null,
   "id": "f221c8f5-0e2d-4860-a919-5fd050d62686",
   "metadata": {},
   "outputs": [],
   "source": [
    "a='yash gupta '\n",
    "b='varad pendkar'"
   ]
  },
  {
   "cell_type": "code",
   "execution_count": 20,
   "id": "0f038a4f-bc8a-4eab-934c-890e6854cab4",
   "metadata": {},
   "outputs": [
    {
     "name": "stdout",
     "output_type": "stream",
     "text": [
      "yash gupta varad pendkar\n"
     ]
    }
   ],
   "source": [
    "print('yash gupta', 'varad pendkar')"
   ]
  },
  {
   "cell_type": "code",
   "execution_count": 21,
   "id": "220662d1-4370-48a8-97c1-670884150f1d",
   "metadata": {},
   "outputs": [
    {
     "name": "stdout",
     "output_type": "stream",
     "text": [
      "'yash gupta'\n",
      "'varad pendkar'\n"
     ]
    }
   ],
   "source": [
    "print(\"'yash gupta'\")\n",
    "print (\"'varad pendkar'\")"
   ]
  },
  {
   "cell_type": "code",
   "execution_count": 1,
   "id": "22d9d708-d859-43c1-8aef-71e982cf366c",
   "metadata": {},
   "outputs": [
    {
     "name": "stdout",
     "output_type": "stream",
     "text": [
      "21\n"
     ]
    }
   ],
   "source": [
    "# example 1 \n",
    "age=21\n",
    "print(age)"
   ]
  },
  {
   "cell_type": "code",
   "execution_count": 2,
   "id": "8bfa1d4c-5e31-47b7-b5d1-72c89609c63f",
   "metadata": {},
   "outputs": [
    {
     "data": {
      "text/plain": [
       "21"
      ]
     },
     "execution_count": 2,
     "metadata": {},
     "output_type": "execute_result"
    }
   ],
   "source": [
    "age"
   ]
  },
  {
   "cell_type": "code",
   "execution_count": 4,
   "id": "d8b69bfd-e949-4a14-b652-59b93b9cd514",
   "metadata": {},
   "outputs": [
    {
     "name": "stdout",
     "output_type": "stream",
     "text": [
      "yash gupta\n"
     ]
    }
   ],
   "source": [
    "# example 2\n",
    "name='yash gupta'\n",
    "print(name)"
   ]
  },
  {
   "cell_type": "code",
   "execution_count": 5,
   "id": "1ef84247-8251-45b6-8054-14b84c62fe83",
   "metadata": {},
   "outputs": [
    {
     "data": {
      "text/plain": [
       "'yash gupta'"
      ]
     },
     "execution_count": 5,
     "metadata": {},
     "output_type": "execute_result"
    }
   ],
   "source": [
    "name"
   ]
  },
  {
   "cell_type": "code",
   "execution_count": 6,
   "id": "a61a2aa0-5902-49f7-a05a-2a8c41227d27",
   "metadata": {},
   "outputs": [
    {
     "name": "stdout",
     "output_type": "stream",
     "text": [
      "19.3\n"
     ]
    }
   ],
   "source": [
    "# example 3\n",
    "price=19.3\n",
    "print(price)"
   ]
  },
  {
   "cell_type": "code",
   "execution_count": 15,
   "id": "13b21745-306a-4054-b081-4a29660bab2f",
   "metadata": {},
   "outputs": [
    {
     "name": "stdout",
     "output_type": "stream",
     "text": [
      "True\n"
     ]
    }
   ],
   "source": [
    "\n",
    "is_active = True\n",
    "print(is_active)"
   ]
  },
  {
   "cell_type": "code",
   "execution_count": 17,
   "id": "556594b9-e644-4257-91cf-6b121c4527df",
   "metadata": {},
   "outputs": [
    {
     "name": "stdout",
     "output_type": "stream",
     "text": [
      "10\n"
     ]
    }
   ],
   "source": [
    "x=10\n",
    "print(x)"
   ]
  },
  {
   "cell_type": "code",
   "execution_count": 18,
   "id": "ed0a4d42-2b94-4252-9bb1-59b5bd18f6b4",
   "metadata": {},
   "outputs": [
    {
     "name": "stdout",
     "output_type": "stream",
     "text": [
      "15\n"
     ]
    }
   ],
   "source": [
    "a=5\n",
    "b=10\n",
    "print(a+b)"
   ]
  },
  {
   "cell_type": "code",
   "execution_count": 27,
   "id": "1feb36f2-063c-442f-8a58-0bb775af61cc",
   "metadata": {},
   "outputs": [
    {
     "name": "stdout",
     "output_type": "stream",
     "text": [
      "210\n"
     ]
    }
   ],
   "source": [
    "length = 14\n",
    "width = 15\n",
    "area=   length  *  width \n",
    "print(area)"
   ]
  },
  {
   "cell_type": "code",
   "execution_count": 29,
   "id": "14b459f8-3a52-4fb5-a3bb-928c06e3ce4f",
   "metadata": {},
   "outputs": [
    {
     "name": "stdout",
     "output_type": "stream",
     "text": [
      " yash  gupta\n"
     ]
    }
   ],
   "source": [
    "frist_name = \" yash \"\n",
    "last_name = \"gupta\"\n",
    "full_name = frist_name + \" \" + last_name\n",
    "print(full_name)"
   ]
  },
  {
   "cell_type": "markdown",
   "id": "70fc4899-69d6-4c32-b5ed-1f11a7bdad16",
   "metadata": {},
   "source": [
    "# key words in python"
   ]
  },
  {
   "cell_type": "code",
   "execution_count": 31,
   "id": "64f19871-b8eb-4e7c-8384-2666714e45d8",
   "metadata": {},
   "outputs": [
    {
     "data": {
      "text/plain": [
       "['False',\n",
       " 'None',\n",
       " 'True',\n",
       " 'and',\n",
       " 'as',\n",
       " 'assert',\n",
       " 'async',\n",
       " 'await',\n",
       " 'break',\n",
       " 'class',\n",
       " 'continue',\n",
       " 'def',\n",
       " 'del',\n",
       " 'elif',\n",
       " 'else',\n",
       " 'except',\n",
       " 'finally',\n",
       " 'for',\n",
       " 'from',\n",
       " 'global',\n",
       " 'if',\n",
       " 'import',\n",
       " 'in',\n",
       " 'is',\n",
       " 'lambda',\n",
       " 'nonlocal',\n",
       " 'not',\n",
       " 'or',\n",
       " 'pass',\n",
       " 'raise',\n",
       " 'return',\n",
       " 'try',\n",
       " 'while',\n",
       " 'with',\n",
       " 'yield']"
      ]
     },
     "execution_count": 31,
     "metadata": {},
     "output_type": "execute_result"
    }
   ],
   "source": [
    "\n",
    "import keyword\n",
    "keyword.kwlist"
   ]
  },
  {
   "cell_type": "code",
   "execution_count": 1,
   "id": "0491d497-f738-4c50-a988-32a4689ae615",
   "metadata": {},
   "outputs": [
    {
     "name": "stdout",
     "output_type": "stream",
     "text": [
      "5\n"
     ]
    }
   ],
   "source": [
    "print(3+2)"
   ]
  },
  {
   "cell_type": "code",
   "execution_count": 2,
   "id": "803b2c95-7f6d-4e08-bbe7-45115b59c60e",
   "metadata": {},
   "outputs": [
    {
     "name": "stdout",
     "output_type": "stream",
     "text": [
      "1\n"
     ]
    }
   ],
   "source": [
    "print(3-2)"
   ]
  },
  {
   "cell_type": "code",
   "execution_count": 3,
   "id": "c8729b2d-f6ef-4c79-8b6d-f601ff3e8a95",
   "metadata": {},
   "outputs": [
    {
     "name": "stdout",
     "output_type": "stream",
     "text": [
      "6\n"
     ]
    }
   ],
   "source": [
    "print(3*2)"
   ]
  },
  {
   "cell_type": "code",
   "execution_count": 4,
   "id": "9f747329-ad17-40ef-8dfb-0c7775962ee1",
   "metadata": {},
   "outputs": [
    {
     "name": "stdout",
     "output_type": "stream",
     "text": [
      "1.5\n"
     ]
    }
   ],
   "source": [
    "print (3/2)"
   ]
  },
  {
   "cell_type": "raw",
   "id": "8a175e03-ebd6-4ebd-b7af-09d521b11083",
   "metadata": {},
   "source": []
  },
  {
   "cell_type": "code",
   "execution_count": 5,
   "id": "45df4b05-27d7-4b6c-86a2-ae46aa066cce",
   "metadata": {},
   "outputs": [
    {
     "name": "stdout",
     "output_type": "stream",
     "text": [
      "9\n"
     ]
    }
   ],
   "source": [
    "print(3**2)"
   ]
  },
  {
   "cell_type": "code",
   "execution_count": 6,
   "id": "18fff82d-0a1e-4832-991f-3142b2fd3a08",
   "metadata": {},
   "outputs": [
    {
     "name": "stdout",
     "output_type": "stream",
     "text": [
      "1\n"
     ]
    }
   ],
   "source": [
    "print(3%2)"
   ]
  },
  {
   "cell_type": "code",
   "execution_count": 7,
   "id": "c22cea53-86fb-46a7-856a-984ff0a15ed0",
   "metadata": {},
   "outputs": [
    {
     "name": "stdout",
     "output_type": "stream",
     "text": [
      "1\n"
     ]
    }
   ],
   "source": [
    "print(3//2)"
   ]
  },
  {
   "cell_type": "code",
   "execution_count": 2,
   "id": "b3d5700a-dc57-4145-afd8-085274b6dbe5",
   "metadata": {},
   "outputs": [
    {
     "name": "stdout",
     "output_type": "stream",
     "text": [
      "p\n"
     ]
    }
   ],
   "source": [
    "letter= 'p'\n",
    "print(letter)"
   ]
  },
  {
   "cell_type": "raw",
   "id": "3afd2130-9f2c-4b2a-9251-57e8ae4f305e",
   "metadata": {},
   "source": []
  },
  {
   "cell_type": "code",
   "execution_count": 3,
   "id": "3ee733b1-3902-4fbc-8ee3-8180d038b916",
   "metadata": {},
   "outputs": [
    {
     "name": "stdout",
     "output_type": "stream",
     "text": [
      "1\n"
     ]
    }
   ],
   "source": [
    "print(len(letter))"
   ]
  },
  {
   "cell_type": "raw",
   "id": "0e1f4341-2154-45b5-a246-2c974f62caad",
   "metadata": {},
   "source": []
  },
  {
   "cell_type": "code",
   "execution_count": 4,
   "id": "51fcde37-f641-48ed-9ec8-5a2eb1461759",
   "metadata": {},
   "outputs": [
    {
     "name": "stdout",
     "output_type": "stream",
     "text": [
      "hello python\n"
     ]
    }
   ],
   "source": [
    "Greeting='hello python'\n",
    "print(Greeting)"
   ]
  },
  {
   "cell_type": "raw",
   "id": "2732c3b7-8d4f-49a3-8c72-1c3e86d0b53c",
   "metadata": {},
   "source": []
  },
  {
   "cell_type": "code",
   "execution_count": 5,
   "id": "5b8280ae-2b91-4c0d-b1c6-654cf1e795fd",
   "metadata": {},
   "outputs": [
    {
     "name": "stdout",
     "output_type": "stream",
     "text": [
      "12\n"
     ]
    }
   ],
   "source": [
    "print(len(Greeting))"
   ]
  },
  {
   "cell_type": "code",
   "execution_count": 8,
   "id": "56f46e79-9e68-4445-bc68-d22d4cbb4ad1",
   "metadata": {},
   "outputs": [
    {
     "name": "stdout",
     "output_type": "stream",
     "text": [
      "varad  a cutiya boy bhen ka lavda \n"
     ]
    }
   ],
   "source": [
    "sentence = 'varad  a cutiya boy bhen ka lavda '\n",
    "print(sentence)"
   ]
  },
  {
   "cell_type": "markdown",
   "id": "357c7ad5-4ec9-467a-aeab-b5cd2edafa5f",
   "metadata": {},
   "source": []
  },
  {
   "cell_type": "code",
   "execution_count": 9,
   "id": "b9323f3f-5ab5-49b5-9f4d-1301d17970e3",
   "metadata": {},
   "outputs": [
    {
     "name": "stdout",
     "output_type": "stream",
     "text": [
      "i am yash rajkumkar gupta , i am suduing in gh raisoni college of engg. and mang. pune \n"
     ]
    }
   ],
   "source": [
    "multiple_string=\"i am yash rajkumkar gupta , i am suduing in gh raisoni college of engg. and mang. pune \"\n",
    "print(multiple_string)"
   ]
  },
  {
   "cell_type": "raw",
   "id": "aca2d268-be75-4096-9d6c-978f4c516e58",
   "metadata": {},
   "source": []
  },
  {
   "cell_type": "code",
   "execution_count": 10,
   "id": "7a541ce7-b4b0-4c0b-83bf-b8a55bc59dae",
   "metadata": {},
   "outputs": [
    {
     "name": "stdout",
     "output_type": "stream",
     "text": [
      "87\n"
     ]
    }
   ],
   "source": [
    "print(len(multiple_string))"
   ]
  },
  {
   "cell_type": "code",
   "execution_count": 20,
   "id": "bc236aaa-ab23-42f9-8ccc-16d41709994c",
   "metadata": {},
   "outputs": [
    {
     "name": "stdout",
     "output_type": "stream",
     "text": [
      "yashgupta\n"
     ]
    }
   ],
   "source": [
    "frist_name='yash'\n",
    "last_name='gupta'\n",
    "space = ''\n",
    "full_name = frist_name+ space + last_name\n",
    "print (full_name)"
   ]
  },
  {
   "cell_type": "code",
   "execution_count": 21,
   "id": "8b855f49-5fd3-4253-869b-196ab970840c",
   "metadata": {},
   "outputs": [
    {
     "name": "stdout",
     "output_type": "stream",
     "text": [
      "4\n"
     ]
    }
   ],
   "source": [
    "print(len(frist_name))"
   ]
  },
  {
   "cell_type": "code",
   "execution_count": 22,
   "id": "d99ab47c-2507-4c41-992f-8777a0264e84",
   "metadata": {},
   "outputs": [
    {
     "name": "stdout",
     "output_type": "stream",
     "text": [
      "5\n"
     ]
    }
   ],
   "source": [
    "print(len(last_name))"
   ]
  },
  {
   "cell_type": "code",
   "execution_count": 23,
   "id": "6c560ccc-b9ff-4c7d-aeef-c72dab7012f1",
   "metadata": {},
   "outputs": [
    {
     "name": "stdout",
     "output_type": "stream",
     "text": [
      "9\n"
     ]
    }
   ],
   "source": [
    "print(len(full_name))"
   ]
  },
  {
   "cell_type": "code",
   "execution_count": 25,
   "id": "814fa4c9-c419-49b4-8596-d04c8758c09d",
   "metadata": {},
   "outputs": [
    {
     "name": "stdout",
     "output_type": "stream",
     "text": [
      "False\n"
     ]
    }
   ],
   "source": [
    "print(len(frist_name) >len(last_name))"
   ]
  },
  {
   "cell_type": "code",
   "execution_count": 26,
   "id": "d315bcaa-3b4b-4478-83e6-ddcd7ff8ee2a",
   "metadata": {},
   "outputs": [],
   "source": [
    "language='English'\n",
    "a,b,c,d,e,f,g= language"
   ]
  },
  {
   "cell_type": "code",
   "execution_count": 27,
   "id": "ca77e85b-3c72-4a1b-8aef-6a99278b845f",
   "metadata": {},
   "outputs": [
    {
     "name": "stdout",
     "output_type": "stream",
     "text": [
      "E\n"
     ]
    }
   ],
   "source": [
    "print(a)"
   ]
  },
  {
   "cell_type": "code",
   "execution_count": 28,
   "id": "54087bb0-93eb-49ce-915f-cc3900ba4172",
   "metadata": {},
   "outputs": [
    {
     "name": "stdout",
     "output_type": "stream",
     "text": [
      "n\n"
     ]
    }
   ],
   "source": [
    "print(b)"
   ]
  },
  {
   "cell_type": "code",
   "execution_count": 29,
   "id": "afa0ad7f-11fb-4c63-a8b0-955af264c8d9",
   "metadata": {},
   "outputs": [
    {
     "name": "stdout",
     "output_type": "stream",
     "text": [
      "g\n"
     ]
    }
   ],
   "source": [
    "print(c)"
   ]
  },
  {
   "cell_type": "code",
   "execution_count": 30,
   "id": "a53ce5d0-c504-4aa3-abfe-c4c901147922",
   "metadata": {},
   "outputs": [
    {
     "name": "stdout",
     "output_type": "stream",
     "text": [
      "l\n"
     ]
    }
   ],
   "source": [
    "print(d)"
   ]
  },
  {
   "cell_type": "code",
   "execution_count": 31,
   "id": "9e828a08-99c1-4137-8509-5814a0baa9f1",
   "metadata": {},
   "outputs": [
    {
     "name": "stdout",
     "output_type": "stream",
     "text": [
      "i\n"
     ]
    }
   ],
   "source": [
    "print(e)"
   ]
  },
  {
   "cell_type": "code",
   "execution_count": 32,
   "id": "4480f2fe-bb99-4379-9066-8f4dba78735d",
   "metadata": {},
   "outputs": [
    {
     "name": "stdout",
     "output_type": "stream",
     "text": [
      "s\n"
     ]
    }
   ],
   "source": [
    "print(f)"
   ]
  },
  {
   "cell_type": "code",
   "execution_count": 33,
   "id": "2af14105-10d8-4c60-9f09-77759b8fbe36",
   "metadata": {},
   "outputs": [
    {
     "name": "stdout",
     "output_type": "stream",
     "text": [
      "h\n"
     ]
    }
   ],
   "source": [
    "print(g)"
   ]
  },
  {
   "cell_type": "code",
   "execution_count": 34,
   "id": "a54bb62b-d141-44ce-80d4-4da79bcec0be",
   "metadata": {},
   "outputs": [
    {
     "name": "stdout",
     "output_type": "stream",
     "text": [
      "English\n"
     ]
    }
   ],
   "source": [
    "print(language)"
   ]
  },
  {
   "cell_type": "code",
   "execution_count": 35,
   "id": "fea6038a-dc6a-43bf-99b6-4664131cc3f4",
   "metadata": {},
   "outputs": [
    {
     "name": "stdout",
     "output_type": "stream",
     "text": [
      "False\n"
     ]
    }
   ],
   "source": [
    "print(len(language)> len(full_name))"
   ]
  },
  {
   "cell_type": "code",
   "execution_count": 36,
   "id": "9d3917fc-4e86-4720-a838-3e267520ea49",
   "metadata": {},
   "outputs": [
    {
     "name": "stdout",
     "output_type": "stream",
     "text": [
      "True\n"
     ]
    }
   ],
   "source": [
    "print(len(language)< len(full_name))"
   ]
  },
  {
   "cell_type": "code",
   "execution_count": 39,
   "id": "5705371b-2ac6-44bd-a319-78fe92a24a1f",
   "metadata": {},
   "outputs": [],
   "source": [
    "d='language'"
   ]
  },
  {
   "cell_type": "code",
   "execution_count": 42,
   "id": "25218100-e1ff-46fc-91ad-fd036b864798",
   "metadata": {},
   "outputs": [],
   "source": [
    "frist_letter = [0]\n",
    "print(frist_let)"
   ]
  },
  {
   "cell_type": "code",
   "execution_count": 44,
   "id": "fcc63462-cd97-4150-b641-17ac76d73683",
   "metadata": {},
   "outputs": [],
   "source": [
    "d=[1]"
   ]
  },
  {
   "cell_type": "code",
   "execution_count": 1,
   "id": "ea84b8de-0455-4909-a6ea-68e97ccde2d6",
   "metadata": {},
   "outputs": [
    {
     "name": "stdout",
     "output_type": "stream",
     "text": [
      "Third day of coding python\n"
     ]
    }
   ],
   "source": [
    "challenge='third day of coding python'\n",
    "print(challenge.capitalize())"
   ]
  },
  {
   "cell_type": "code",
   "execution_count": 2,
   "id": "e63910ea-3d18-425d-a19d-ef7d8ad38bb0",
   "metadata": {},
   "outputs": [
    {
     "name": "stdout",
     "output_type": "stream",
     "text": [
      "1\n"
     ]
    }
   ],
   "source": [
    "print(challenge.count('py'))"
   ]
  },
  {
   "cell_type": "code",
   "execution_count": 3,
   "id": "24cca28c-d3cc-42ea-97fd-19c1b57d0d3c",
   "metadata": {},
   "outputs": [
    {
     "name": "stdout",
     "output_type": "stream",
     "text": [
      "False\n"
     ]
    }
   ],
   "source": [
    "print(challenge.endswith('py'))"
   ]
  },
  {
   "cell_type": "code",
   "execution_count": 8,
   "id": "514ea45a-c747-4cb8-ba98-51bca26da9c9",
   "metadata": {},
   "outputs": [
    {
     "name": "stdout",
     "output_type": "stream",
     "text": [
      "i am yash gupta . i am a army.i live in india\n"
     ]
    }
   ],
   "source": [
    "frist_name='yash'\n",
    "last_name='gupta'\n",
    "job='army'\n",
    "country='india'\n",
    "sentence= 'i am {} {} . i am a {}.i live in {}'.format( frist_name, last_name , job , country)\n",
    "print(sentence)"
   ]
  },
  {
   "cell_type": "markdown",
   "id": "b8b14507-6e84-4092-bb24-b559cb754ab7",
   "metadata": {},
   "source": [
    "# type Casting\n"
   ]
  },
  {
   "cell_type": "code",
   "execution_count": 9,
   "id": "13e43cbb-98eb-4685-9442-5ef46294fe22",
   "metadata": {},
   "outputs": [
    {
     "data": {
      "text/plain": [
       "3"
      ]
     },
     "execution_count": 9,
     "metadata": {},
     "output_type": "execute_result"
    }
   ],
   "source": [
    "int(3.4)"
   ]
  },
  {
   "cell_type": "code",
   "execution_count": 10,
   "id": "8bb4d397-cb0a-4240-a902-a61ccad42bf5",
   "metadata": {},
   "outputs": [
    {
     "data": {
      "text/plain": [
       "12"
      ]
     },
     "execution_count": 10,
     "metadata": {},
     "output_type": "execute_result"
    }
   ],
   "source": [
    "int('12')"
   ]
  },
  {
   "cell_type": "code",
   "execution_count": 11,
   "id": "d275649e-b921-4fca-8060-c328edaf75c7",
   "metadata": {},
   "outputs": [
    {
     "ename": "TypeError",
     "evalue": "int() argument must be a string, a bytes-like object or a real number, not 'complex'",
     "output_type": "error",
     "traceback": [
      "\u001b[1;31m---------------------------------------------------------------------------\u001b[0m",
      "\u001b[1;31mTypeError\u001b[0m                                 Traceback (most recent call last)",
      "Cell \u001b[1;32mIn[11], line 1\u001b[0m\n\u001b[1;32m----> 1\u001b[0m \u001b[38;5;28mint\u001b[39m(\u001b[38;5;241m1\u001b[39m\u001b[38;5;241m+\u001b[39m\u001b[38;5;241m3\u001b[39mj)\n",
      "\u001b[1;31mTypeError\u001b[0m: int() argument must be a string, a bytes-like object or a real number, not 'complex'"
     ]
    }
   ],
   "source": [
    "int(1+3j)"
   ]
  },
  {
   "cell_type": "code",
   "execution_count": 12,
   "id": "2d8aa336-5811-41b5-9d8b-aff04daf5fa6",
   "metadata": {},
   "outputs": [
    {
     "data": {
      "text/plain": [
       "23.89"
      ]
     },
     "execution_count": 12,
     "metadata": {},
     "output_type": "execute_result"
    }
   ],
   "source": [
    "float(23.89)"
   ]
  },
  {
   "cell_type": "code",
   "execution_count": 13,
   "id": "e1371df1-005f-4e9b-84b7-9bcef43b9b48",
   "metadata": {},
   "outputs": [
    {
     "data": {
      "text/plain": [
       "34.0"
      ]
     },
     "execution_count": 13,
     "metadata": {},
     "output_type": "execute_result"
    }
   ],
   "source": [
    "float(34)"
   ]
  },
  {
   "cell_type": "code",
   "execution_count": 14,
   "id": "00423fe4-4a34-4cb3-a010-f7939b92401e",
   "metadata": {},
   "outputs": [
    {
     "data": {
      "text/plain": [
       "1.0"
      ]
     },
     "execution_count": 14,
     "metadata": {},
     "output_type": "execute_result"
    }
   ],
   "source": [
    "float(True)"
   ]
  },
  {
   "cell_type": "code",
   "execution_count": 15,
   "id": "59c910a4-006d-46ea-8610-47a44253370c",
   "metadata": {},
   "outputs": [
    {
     "data": {
      "text/plain": [
       "(12+0j)"
      ]
     },
     "execution_count": 15,
     "metadata": {},
     "output_type": "execute_result"
    }
   ],
   "source": [
    "  complex(12)"
   ]
  },
  {
   "cell_type": "code",
   "execution_count": 19,
   "id": "7ec084f5-ccd5-4ad6-a372-2495d38e417d",
   "metadata": {},
   "outputs": [
    {
     "data": {
      "text/plain": [
       "(12+1j)"
      ]
     },
     "execution_count": 19,
     "metadata": {},
     "output_type": "execute_result"
    }
   ],
   "source": [
    " complex (12,1)\n"
   ]
  },
  {
   "cell_type": "code",
   "execution_count": 20,
   "id": "f5531ff1-b081-4e29-a9fd-30a6f0da796c",
   "metadata": {},
   "outputs": [
    {
     "data": {
      "text/plain": [
       "(1.4+0j)"
      ]
     },
     "execution_count": 20,
     "metadata": {},
     "output_type": "execute_result"
    }
   ],
   "source": [
    " complex(1.4)"
   ]
  },
  {
   "cell_type": "code",
   "execution_count": 21,
   "id": "61d47619-37e2-4535-8b03-1214aea5ce0d",
   "metadata": {},
   "outputs": [
    {
     "data": {
      "text/plain": [
       "(1.2+3j)"
      ]
     },
     "execution_count": 21,
     "metadata": {},
     "output_type": "execute_result"
    }
   ],
   "source": [
    " complex(1.2,3)"
   ]
  },
  {
   "cell_type": "code",
   "execution_count": 22,
   "id": "9c81050a-30b5-4c72-894b-995163043a38",
   "metadata": {},
   "outputs": [
    {
     "data": {
      "text/plain": [
       "(2+0j)"
      ]
     },
     "execution_count": 22,
     "metadata": {},
     "output_type": "execute_result"
    }
   ],
   "source": [
    " complex(True+True)"
   ]
  },
  {
   "cell_type": "code",
   "execution_count": 23,
   "id": "08d261f4-e6d8-4f5a-9318-600ab4447241",
   "metadata": {},
   "outputs": [
    {
     "data": {
      "text/plain": [
       "1j"
      ]
     },
     "execution_count": 23,
     "metadata": {},
     "output_type": "execute_result"
    }
   ],
   "source": [
    " complex(False,True)"
   ]
  },
  {
   "cell_type": "code",
   "execution_count": 1,
   "id": "dee82934-a22c-44e4-990e-a458b5132704",
   "metadata": {},
   "outputs": [
    {
     "ename": "TypeError",
     "evalue": "complex() second arg can't be a string",
     "output_type": "error",
     "traceback": [
      "\u001b[1;31m---------------------------------------------------------------------------\u001b[0m",
      "\u001b[1;31mTypeError\u001b[0m                                 Traceback (most recent call last)",
      "Cell \u001b[1;32mIn[1], line 1\u001b[0m\n\u001b[1;32m----> 1\u001b[0m \u001b[38;5;28mcomplex\u001b[39m(\u001b[38;5;241m10\u001b[39m,\u001b[38;5;124m'\u001b[39m\u001b[38;5;124m12\u001b[39m\u001b[38;5;124m'\u001b[39m)\n",
      "\u001b[1;31mTypeError\u001b[0m: complex() second arg can't be a string"
     ]
    }
   ],
   "source": [
    "  complex(10,'12')"
   ]
  },
  {
   "cell_type": "code",
   "execution_count": 2,
   "id": "725f33d4-9a62-4a98-8269-b0e158b90713",
   "metadata": {},
   "outputs": [
    {
     "data": {
      "text/plain": [
       "(10+1.2j)"
      ]
     },
     "execution_count": 2,
     "metadata": {},
     "output_type": "execute_result"
    }
   ],
   "source": [
    "\n",
    "  complex(10, 1.2)"
   ]
  },
  {
   "cell_type": "code",
   "execution_count": 3,
   "id": "fb0bc334-09f5-45c6-953e-0569fbc46bc7",
   "metadata": {},
   "outputs": [
    {
     "data": {
      "text/plain": [
       "True"
      ]
     },
     "execution_count": 3,
     "metadata": {},
     "output_type": "execute_result"
    }
   ],
   "source": [
    "bool(True)"
   ]
  },
  {
   "cell_type": "code",
   "execution_count": 4,
   "id": "40d4e5ad-da20-441f-bc1f-82dc02b771c3",
   "metadata": {},
   "outputs": [
    {
     "data": {
      "text/plain": [
       "True"
      ]
     },
     "execution_count": 4,
     "metadata": {},
     "output_type": "execute_result"
    }
   ],
   "source": [
    "bool(12)"
   ]
  },
  {
   "cell_type": "code",
   "execution_count": 5,
   "id": "227c24ae-15ca-4f33-a7c3-7af9ea222fb1",
   "metadata": {},
   "outputs": [
    {
     "data": {
      "text/plain": [
       "True"
      ]
     },
     "execution_count": 5,
     "metadata": {},
     "output_type": "execute_result"
    }
   ],
   "source": [
    "bool('yash')"
   ]
  },
  {
   "cell_type": "code",
   "execution_count": 6,
   "id": "75efb759-6291-4d58-914d-2b7ce1e092f2",
   "metadata": {},
   "outputs": [
    {
     "data": {
      "text/plain": [
       "True"
      ]
     },
     "execution_count": 6,
     "metadata": {},
     "output_type": "execute_result"
    }
   ],
   "source": [
    "bool(12.8)"
   ]
  },
  {
   "cell_type": "code",
   "execution_count": 7,
   "id": "de716180-cfec-4735-87f4-8846fc72413d",
   "metadata": {},
   "outputs": [
    {
     "data": {
      "text/plain": [
       "False"
      ]
     },
     "execution_count": 7,
     "metadata": {},
     "output_type": "execute_result"
    }
   ],
   "source": [
    "bool(0)"
   ]
  },
  {
   "cell_type": "code",
   "execution_count": 8,
   "id": "c432d314-8d36-46ee-9ff6-2413143922eb",
   "metadata": {},
   "outputs": [
    {
     "data": {
      "text/plain": [
       "False"
      ]
     },
     "execution_count": 8,
     "metadata": {},
     "output_type": "execute_result"
    }
   ],
   "source": [
    "bool()"
   ]
  },
  {
   "cell_type": "code",
   "execution_count": 9,
   "id": "1d344769-124c-4913-8e78-3783d4d026a5",
   "metadata": {},
   "outputs": [
    {
     "data": {
      "text/plain": [
       "'7'"
      ]
     },
     "execution_count": 9,
     "metadata": {},
     "output_type": "execute_result"
    }
   ],
   "source": [
    "str(7)"
   ]
  },
  {
   "cell_type": "code",
   "execution_count": 10,
   "id": "7a457134-87f7-4181-93db-58012f8250a0",
   "metadata": {},
   "outputs": [
    {
     "data": {
      "text/plain": [
       "'2.13'"
      ]
     },
     "execution_count": 10,
     "metadata": {},
     "output_type": "execute_result"
    }
   ],
   "source": [
    "str(2.13)"
   ]
  },
  {
   "cell_type": "code",
   "execution_count": 11,
   "id": "fc4a9e2a-f2a8-44bf-af04-9d195e4e5b12",
   "metadata": {},
   "outputs": [
    {
     "data": {
      "text/plain": [
       "'(12+7j)'"
      ]
     },
     "execution_count": 11,
     "metadata": {},
     "output_type": "execute_result"
    }
   ],
   "source": [
    "str(12+7j)"
   ]
  },
  {
   "cell_type": "code",
   "execution_count": 12,
   "id": "37bf2342-eb2a-41b2-b2af-bc88d9901ce2",
   "metadata": {},
   "outputs": [
    {
     "data": {
      "text/plain": [
       "'24'"
      ]
     },
     "execution_count": 12,
     "metadata": {},
     "output_type": "execute_result"
    }
   ],
   "source": [
    "str(12+12)"
   ]
  },
  {
   "cell_type": "code",
   "execution_count": null,
   "id": "61eff8c6-3f80-4a26-8356-4c77f75e32ad",
   "metadata": {},
   "outputs": [],
   "source": []
  }
 ],
 "metadata": {
  "kernelspec": {
   "display_name": "Python 3 (ipykernel)",
   "language": "python",
   "name": "python3"
  },
  "language_info": {
   "codemirror_mode": {
    "name": "ipython",
    "version": 3
   },
   "file_extension": ".py",
   "mimetype": "text/x-python",
   "name": "python",
   "nbconvert_exporter": "python",
   "pygments_lexer": "ipython3",
   "version": "3.12.7"
  }
 },
 "nbformat": 4,
 "nbformat_minor": 5
}
