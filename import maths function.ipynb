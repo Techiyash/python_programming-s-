{
 "cells": [
  {
   "cell_type": "markdown",
   "id": "5218d15a",
   "metadata": {},
   "source": [
    "# import Maths Functions\n"
   ]
  },
  {
   "cell_type": "code",
   "execution_count": null,
   "id": "0b28b0b5",
   "metadata": {},
   "outputs": [],
   "source": [
    "import math # matsh is a module in python"
   ]
  },
  {
   "cell_type": "code",
   "execution_count": null,
   "id": "3ce7acdb",
   "metadata": {},
   "outputs": [
    {
     "data": {
      "text/plain": [
       "6.0"
      ]
     },
     "execution_count": 3,
     "metadata": {},
     "output_type": "execute_result"
    }
   ],
   "source": [
    "x = math.sqrt(36) # square root of 36\n",
    "x"
   ]
  },
  {
   "cell_type": "code",
   "execution_count": 4,
   "id": "d893e667",
   "metadata": {},
   "outputs": [
    {
     "data": {
      "text/plain": [
       "9.0"
      ]
     },
     "execution_count": 4,
     "metadata": {},
     "output_type": "execute_result"
    }
   ],
   "source": [
    "x = math.sqrt(81)\n",
    "x"
   ]
  },
  {
   "cell_type": "code",
   "execution_count": 5,
   "id": "89094724",
   "metadata": {},
   "outputs": [
    {
     "name": "stdout",
     "output_type": "stream",
     "text": [
      "3\n"
     ]
    }
   ],
   "source": [
    "print(math.floor(3.8)) # floor -- minimum or least value"
   ]
  },
  {
   "cell_type": "code",
   "execution_count": 6,
   "id": "6ae179d5",
   "metadata": {},
   "outputs": [
    {
     "name": "stdout",
     "output_type": "stream",
     "text": [
      "45\n"
     ]
    }
   ],
   "source": [
    "print(math.floor(45))"
   ]
  },
  {
   "cell_type": "code",
   "execution_count": null,
   "id": "1dc11e8a",
   "metadata": {},
   "outputs": [
    {
     "name": "stdout",
     "output_type": "stream",
     "text": [
      "4\n"
     ]
    }
   ],
   "source": [
    "print(math.ceil(3.8)) # ceil -- maximum or greatest value"
   ]
  },
  {
   "cell_type": "code",
   "execution_count": 8,
   "id": "73b748d5",
   "metadata": {},
   "outputs": [
    {
     "name": "stdout",
     "output_type": "stream",
     "text": [
      "40\n"
     ]
    }
   ],
   "source": [
    "print(math.ceil(40))"
   ]
  },
  {
   "cell_type": "code",
   "execution_count": 9,
   "id": "54292704",
   "metadata": {},
   "outputs": [
    {
     "name": "stdout",
     "output_type": "stream",
     "text": [
      "56\n"
     ]
    }
   ],
   "source": [
    "print(math.ceil(56))"
   ]
  },
  {
   "cell_type": "code",
   "execution_count": 10,
   "id": "5ee6f133",
   "metadata": {},
   "outputs": [
    {
     "name": "stdout",
     "output_type": "stream",
     "text": [
      "9.0\n"
     ]
    }
   ],
   "source": [
    "print(math.pow(3, 2))# pow -- that gives the square root"
   ]
  },
  {
   "cell_type": "code",
   "execution_count": 11,
   "id": "8db6bbed",
   "metadata": {},
   "outputs": [
    {
     "name": "stdout",
     "output_type": "stream",
     "text": [
      "8.153216191740279e+192\n"
     ]
    }
   ],
   "source": [
    "print(math.pow(93, 98))"
   ]
  },
  {
   "cell_type": "code",
   "execution_count": 13,
   "id": "8097d531",
   "metadata": {},
   "outputs": [
    {
     "name": "stdout",
     "output_type": "stream",
     "text": [
      "3.141592653589793\n"
     ]
    }
   ],
   "source": [
    "print(math.pi) # pi value"
   ]
  },
  {
   "cell_type": "code",
   "execution_count": 14,
   "id": "127140eb",
   "metadata": {},
   "outputs": [
    {
     "name": "stdout",
     "output_type": "stream",
     "text": [
      "2.718281828459045\n"
     ]
    }
   ],
   "source": [
    "print(math.e) # e -- epsilon value"
   ]
  },
  {
   "cell_type": "code",
   "execution_count": 15,
   "id": "cdc9173d",
   "metadata": {},
   "outputs": [],
   "source": [
    "import math as m # importing math module as m"
   ]
  },
  {
   "cell_type": "code",
   "execution_count": 16,
   "id": "d06265ec",
   "metadata": {},
   "outputs": [
    {
     "data": {
      "text/plain": [
       "9.0"
      ]
     },
     "execution_count": 16,
     "metadata": {},
     "output_type": "execute_result"
    }
   ],
   "source": [
    "m.sqrt(81)"
   ]
  },
  {
   "cell_type": "code",
   "execution_count": 18,
   "id": "94fff43c",
   "metadata": {},
   "outputs": [
    {
     "name": "stdout",
     "output_type": "stream",
     "text": [
      "7.0\n",
      "3\n",
      "4\n",
      "9.0\n",
      "3.141592653589793\n",
      "2.718281828459045\n"
     ]
    }
   ],
   "source": [
    "from math import sqrt,ceil , floor, pow ,pi,e # maths have many functions if you want to import specific functions you can import function then you useed\n",
    "print(sqrt(49))\n",
    "print(floor (3.9))\n",
    "print(ceil(3.9)) \n",
    "print(pow(3, 2))\n",
    "print(pi)   \n",
    "print(e)"
   ]
  },
  {
   "cell_type": "code",
   "execution_count": 20,
   "id": "da1e0bf4",
   "metadata": {},
   "outputs": [
    {
     "name": "stdout",
     "output_type": "stream",
     "text": [
      "8.0\n",
      "279936.0\n"
     ]
    }
   ],
   "source": [
    "from math import sqrt , pow \n",
    "print(sqrt(64))\n",
    "print(pow(6, 7))"
   ]
  },
  {
   "cell_type": "code",
   "execution_count": 21,
   "id": "4dcd90ee",
   "metadata": {},
   "outputs": [],
   "source": [
    "# in that import maths fuction that ge all fuction get online basically we know that where ge get from , and where we have to apply that [we can get this from online source]"
   ]
  },
  {
   "cell_type": "code",
   "execution_count": null,
   "id": "4f575b42",
   "metadata": {},
   "outputs": [],
   "source": []
  }
 ],
 "metadata": {
  "kernelspec": {
   "display_name": "base",
   "language": "python",
   "name": "python3"
  },
  "language_info": {
   "codemirror_mode": {
    "name": "ipython",
    "version": 3
   },
   "file_extension": ".py",
   "mimetype": "text/x-python",
   "name": "python",
   "nbconvert_exporter": "python",
   "pygments_lexer": "ipython3",
   "version": "3.12.7"
  }
 },
 "nbformat": 4,
 "nbformat_minor": 5
}
