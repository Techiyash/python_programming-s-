{
 "cells": [
  {
   "cell_type": "markdown",
   "id": "f2d1de8c-8c89-4864-810a-ce1a3eed7106",
   "metadata": {},
   "source": [
    "# Number system coverstion (bit - binary digit)"
   ]
  },
  {
   "cell_type": "code",
   "execution_count": 1,
   "id": "94f27f25-ff7a-4a4c-aab0-346912777b4d",
   "metadata": {},
   "outputs": [
    {
     "data": {
      "text/plain": [
       "15"
      ]
     },
     "execution_count": 1,
     "metadata": {},
     "output_type": "execute_result"
    }
   ],
   "source": [
    "15"
   ]
  },
  {
   "cell_type": "code",
   "execution_count": 2,
   "id": "bdaf7568-0ad8-4d1d-a5f6-4346aa16682b",
   "metadata": {},
   "outputs": [
    {
     "data": {
      "text/plain": [
       "'0b1111'"
      ]
     },
     "execution_count": 2,
     "metadata": {},
     "output_type": "execute_result"
    }
   ],
   "source": [
    "bin(15)"
   ]
  },
  {
   "cell_type": "code",
   "execution_count": 3,
   "id": "e2b65cc0-8d40-4e2e-9463-b324ec6d7ef5",
   "metadata": {},
   "outputs": [
    {
     "data": {
      "text/plain": [
       "'0b11001'"
      ]
     },
     "execution_count": 3,
     "metadata": {},
     "output_type": "execute_result"
    }
   ],
   "source": [
    "bin(25)"
   ]
  },
  {
   "cell_type": "code",
   "execution_count": 4,
   "id": "5cb83b52-18f5-49b4-a977-1b66b4522d09",
   "metadata": {},
   "outputs": [
    {
     "data": {
      "text/plain": [
       "'0b1010'"
      ]
     },
     "execution_count": 4,
     "metadata": {},
     "output_type": "execute_result"
    }
   ],
   "source": [
    "bin(10)"
   ]
  },
  {
   "cell_type": "code",
   "execution_count": 6,
   "id": "11ed73e5-5d2d-49ab-a5d7-0a171eb71cf3",
   "metadata": {},
   "outputs": [
    {
     "data": {
      "text/plain": [
       "10"
      ]
     },
     "execution_count": 6,
     "metadata": {},
     "output_type": "execute_result"
    }
   ],
   "source": [
    "int(0b1010)"
   ]
  },
  {
   "cell_type": "code",
   "execution_count": 7,
   "id": "4deabfba-67cd-4875-9c88-d3645b3f3b6a",
   "metadata": {},
   "outputs": [
    {
     "data": {
      "text/plain": [
       "15"
      ]
     },
     "execution_count": 7,
     "metadata": {},
     "output_type": "execute_result"
    }
   ],
   "source": [
    "0b1111"
   ]
  },
  {
   "cell_type": "code",
   "execution_count": 8,
   "id": "6f451876-1657-40b1-8bb1-eae13d324c4b",
   "metadata": {},
   "outputs": [
    {
     "data": {
      "text/plain": [
       "'0o17'"
      ]
     },
     "execution_count": 8,
     "metadata": {},
     "output_type": "execute_result"
    }
   ],
   "source": [
    "oct(15)"
   ]
  },
  {
   "cell_type": "code",
   "execution_count": 9,
   "id": "3017d279-750c-469e-a3f4-6f75ebd4c0ef",
   "metadata": {},
   "outputs": [
    {
     "data": {
      "text/plain": [
       "15"
      ]
     },
     "execution_count": 9,
     "metadata": {},
     "output_type": "execute_result"
    }
   ],
   "source": [
    "0o17"
   ]
  },
  {
   "cell_type": "code",
   "execution_count": 10,
   "id": "29a29245-36f5-44ae-8358-fb2812440e97",
   "metadata": {},
   "outputs": [
    {
     "data": {
      "text/plain": [
       "'0x19'"
      ]
     },
     "execution_count": 10,
     "metadata": {},
     "output_type": "execute_result"
    }
   ],
   "source": [
    "hex(25)"
   ]
  },
  {
   "cell_type": "code",
   "execution_count": 11,
   "id": "cfbecd55-70da-42a1-81ce-4860b44aaa07",
   "metadata": {},
   "outputs": [
    {
     "data": {
      "text/plain": [
       "'0o14'"
      ]
     },
     "execution_count": 11,
     "metadata": {},
     "output_type": "execute_result"
    }
   ],
   "source": [
    "oct(12)"
   ]
  },
  {
   "cell_type": "code",
   "execution_count": 13,
   "id": "987d3b03-e19e-411e-8e0b-8a0f63017ceb",
   "metadata": {},
   "outputs": [
    {
     "data": {
      "text/plain": [
       "'0x5b'"
      ]
     },
     "execution_count": 13,
     "metadata": {},
     "output_type": "execute_result"
    }
   ],
   "source": [
    "hex(91)"
   ]
  },
  {
   "cell_type": "markdown",
   "id": "5df98519-ea25-488b-9509-e1a5a07bb289",
   "metadata": {},
   "source": [
    "  # swap 2- variables in \n",
    "  (a,b = 5,6)After swap we should get (a,b = 6,5)"
   ]
  },
  {
   "cell_type": "code",
   "execution_count": 14,
   "id": "6aa9a3fd-c5e5-4783-a6ac-274742e4da9b",
   "metadata": {},
   "outputs": [],
   "source": [
    "a = 5\n",
    "b = 6"
   ]
  },
  {
   "cell_type": "code",
   "execution_count": 15,
   "id": "a3e5a5f8-f86c-4a87-9c51-ae4c252ffb33",
   "metadata": {},
   "outputs": [],
   "source": [
    "a = b\n",
    "b = a\n"
   ]
  },
  {
   "cell_type": "code",
   "execution_count": 17,
   "id": "fcc6f973-676f-475e-a265-63e0042c7b39",
   "metadata": {},
   "outputs": [
    {
     "name": "stdout",
     "output_type": "stream",
     "text": [
      "6\n",
      "6\n"
     ]
    }
   ],
   "source": [
    "print(a) # that shows the wrong output because when we take a = b frist a become 6 then b = a then ist give output 6 ,6  \n",
    "print(b)"
   ]
  },
  {
   "cell_type": "code",
   "execution_count": 21,
   "id": "dd756b54-3085-4cce-9575-bef8c467b15d",
   "metadata": {},
   "outputs": [],
   "source": [
    "a1 = 7\n",
    "b1 = 8"
   ]
  },
  {
   "cell_type": "code",
   "execution_count": 22,
   "id": "1fb87ff7-a3a9-4335-a6fe-3f582204c737",
   "metadata": {},
   "outputs": [],
   "source": [
    "temp = a1 #in that we created the new variable for swaping the elemets \n",
    "a1 = b1 \n",
    "b1 = temp"
   ]
  },
  {
   "cell_type": "code",
   "execution_count": 23,
   "id": "a877f103-c795-4769-adb5-c31785f247ba",
   "metadata": {},
   "outputs": [
    {
     "name": "stdout",
     "output_type": "stream",
     "text": [
      "8\n",
      "7\n"
     ]
    }
   ],
   "source": [
    "print(a1)\n",
    "print(b1)"
   ]
  },
  {
   "cell_type": "code",
   "execution_count": 25,
   "id": "75a5399b-567e-4109-aee3-90b3cc7a5bcb",
   "metadata": {},
   "outputs": [],
   "source": [
    "a2 = 5\n",
    "b2 = 6 "
   ]
  },
  {
   "cell_type": "code",
   "execution_count": 26,
   "id": "58851784-0537-4750-8d2c-7c9efa29e261",
   "metadata": {},
   "outputs": [],
   "source": [
    "# swaping variable formula without usingh 3rd variable\n",
    "a2 = a2 + b2 # 5+5 =11\n",
    "b2 = a2 - b2 # 11-6 =5\n",
    "a2 = a2 - b2 # 11-5 =6"
   ]
  },
  {
   "cell_type": "code",
   "execution_count": 27,
   "id": "f12c39a7-481a-4ef5-969d-902b7bc67ce2",
   "metadata": {},
   "outputs": [
    {
     "name": "stdout",
     "output_type": "stream",
     "text": [
      "6\n",
      "5\n"
     ]
    }
   ],
   "source": [
    "print(a2)\n",
    "print(b2)"
   ]
  },
  {
   "cell_type": "code",
   "execution_count": 28,
   "id": "d33f11f2-43dc-4d46-9b7b-e4a4f19acfe7",
   "metadata": {},
   "outputs": [],
   "source": [
    "a2 , b2  = b2 , a2 # 3rd way  to swsap "
   ]
  },
  {
   "cell_type": "code",
   "execution_count": 29,
   "id": "80d5f021-348f-427d-83f6-d161a7ba9861",
   "metadata": {},
   "outputs": [
    {
     "name": "stdout",
     "output_type": "stream",
     "text": [
      "5\n",
      "6\n"
     ]
    }
   ],
   "source": [
    "print(a2)\n",
    "print(b2)"
   ]
  },
  {
   "cell_type": "code",
   "execution_count": null,
   "id": "9a2978d5-4872-4f55-9919-04a10799bb71",
   "metadata": {},
   "outputs": [],
   "source": []
  },
  {
   "cell_type": "code",
   "execution_count": null,
   "id": "246033e5-0025-4341-83a5-4ced4ed7ea98",
   "metadata": {},
   "outputs": [],
   "source": []
  },
  {
   "cell_type": "code",
   "execution_count": null,
   "id": "4f42116b-61a3-4a60-b32d-6e278b445878",
   "metadata": {},
   "outputs": [],
   "source": []
  }
 ],
 "metadata": {
  "kernelspec": {
   "display_name": "Python 3 (ipykernel)",
   "language": "python",
   "name": "python3"
  },
  "language_info": {
   "codemirror_mode": {
    "name": "ipython",
    "version": 3
   },
   "file_extension": ".py",
   "mimetype": "text/x-python",
   "name": "python",
   "nbconvert_exporter": "python",
   "pygments_lexer": "ipython3",
   "version": "3.12.7"
  }
 },
 "nbformat": 4,
 "nbformat_minor": 5
}
