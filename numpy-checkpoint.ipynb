{
 "cells": [
  {
   "cell_type": "markdown",
   "id": "9a95365f-30eb-4449-8481-dc951eb60995",
   "metadata": {},
   "source": [
    "# Numpy Crash Course "
   ]
  },
  {
   "cell_type": "code",
   "execution_count": 1,
   "id": "23b82430-cd81-46dc-af5b-f660b6d81e84",
   "metadata": {},
   "outputs": [],
   "source": [
    "import numpy as np"
   ]
  },
  {
   "cell_type": "code",
   "execution_count": 2,
   "id": "97c5efd3-7e80-468d-80b7-168d13b44e0a",
   "metadata": {},
   "outputs": [
    {
     "data": {
      "text/plain": [
       "'1.26.4'"
      ]
     },
     "execution_count": 2,
     "metadata": {},
     "output_type": "execute_result"
    }
   ],
   "source": [
    "np.__version__"
   ]
  },
  {
   "cell_type": "code",
   "execution_count": 3,
   "id": "db96c0b2-d68f-44a4-ad89-1a94c57ad4a5",
   "metadata": {},
   "outputs": [
    {
     "data": {
      "text/plain": [
       "'3.12.7 | packaged by Anaconda, Inc. | (main, Oct  4 2024, 13:17:27) [MSC v.1929 64 bit (AMD64)]'"
      ]
     },
     "execution_count": 3,
     "metadata": {},
     "output_type": "execute_result"
    }
   ],
   "source": [
    "import sys\n",
    "sys.version"
   ]
  },
  {
   "cell_type": "markdown",
   "id": "42f71762-c854-425d-8ca5-28042ce18de3",
   "metadata": {},
   "source": [
    "# creating a array "
   ]
  },
  {
   "cell_type": "code",
   "execution_count": 4,
   "id": "39630042-2046-42e2-839f-b792a5244747",
   "metadata": {},
   "outputs": [
    {
     "data": {
      "text/plain": [
       "[0, 1, 2, 3, 4, 5]"
      ]
     },
     "execution_count": 4,
     "metadata": {},
     "output_type": "execute_result"
    }
   ],
   "source": [
    "my_list = [0,1,2,3,4,5]\n",
    "my_list"
   ]
  },
  {
   "cell_type": "code",
   "execution_count": 5,
   "id": "fa074448-6d28-4494-b8a6-432834a5119c",
   "metadata": {},
   "outputs": [
    {
     "data": {
      "text/plain": [
       "list"
      ]
     },
     "execution_count": 5,
     "metadata": {},
     "output_type": "execute_result"
    }
   ],
   "source": [
    "type(my_list)"
   ]
  },
  {
   "cell_type": "markdown",
   "id": "ee6cf839-3da6-4706-9908-dbf516a37ca2",
   "metadata": {},
   "source": [
    "# below code we are converting list to array "
   ]
  },
  {
   "cell_type": "code",
   "execution_count": 6,
   "id": "4b3d4895-9987-4d91-9e91-0d37cb6c6340",
   "metadata": {},
   "outputs": [],
   "source": [
    "# pip installnumpy"
   ]
  },
  {
   "cell_type": "code",
   "execution_count": 7,
   "id": "64bb12d2-14b4-4f2a-839a-c124e01ad450",
   "metadata": {},
   "outputs": [],
   "source": [
    "arr = np.array(my_list)"
   ]
  },
  {
   "cell_type": "code",
   "execution_count": 8,
   "id": "7beeb243-f0bc-4085-a53e-cabbad615b2b",
   "metadata": {},
   "outputs": [
    {
     "data": {
      "text/plain": [
       "array([0, 1, 2, 3, 4, 5])"
      ]
     },
     "execution_count": 8,
     "metadata": {},
     "output_type": "execute_result"
    }
   ],
   "source": [
    "arr"
   ]
  },
  {
   "cell_type": "code",
   "execution_count": 9,
   "id": "ea782572-1643-4977-a835-fc7f034ac9c8",
   "metadata": {},
   "outputs": [
    {
     "data": {
      "text/plain": [
       "numpy.ndarray"
      ]
     },
     "execution_count": 9,
     "metadata": {},
     "output_type": "execute_result"
    }
   ],
   "source": [
    "type(arr)"
   ]
  },
  {
   "cell_type": "code",
   "execution_count": 10,
   "id": "4f220147-bd16-490e-a0e6-f5ba72772f67",
   "metadata": {},
   "outputs": [
    {
     "data": {
      "text/plain": [
       "list"
      ]
     },
     "execution_count": 10,
     "metadata": {},
     "output_type": "execute_result"
    }
   ],
   "source": [
    "type(my_list) "
   ]
  },
  {
   "cell_type": "markdown",
   "id": "741f3a1a-9d59-4c53-a8bb-1e5d370b6809",
   "metadata": {},
   "source": [
    "# np. # we learn important function "
   ]
  },
  {
   "cell_type": "markdown",
   "id": "5a33cc6d-a7a4-4dd9-a7e1-188537f887ec",
   "metadata": {},
   "source": [
    "# np.arange"
   ]
  },
  {
   "cell_type": "code",
   "execution_count": 11,
   "id": "aa553d63-164d-4b98-8c33-d6bedd265434",
   "metadata": {},
   "outputs": [
    {
     "data": {
      "text/plain": [
       "array([0, 1, 2, 3, 4, 5, 6, 7, 8, 9])"
      ]
     },
     "execution_count": 11,
     "metadata": {},
     "output_type": "execute_result"
    }
   ],
   "source": [
    "np.arange(10)"
   ]
  },
  {
   "cell_type": "code",
   "execution_count": 12,
   "id": "e9888bb9-c963-4585-b98b-9be2ef69c557",
   "metadata": {},
   "outputs": [
    {
     "data": {
      "text/plain": [
       "array([0., 1., 2.])"
      ]
     },
     "execution_count": 12,
     "metadata": {},
     "output_type": "execute_result"
    }
   ],
   "source": [
    "np.arange(3.0)"
   ]
  },
  {
   "cell_type": "code",
   "execution_count": 13,
   "id": "abcab142-ad31-4400-87d0-99973c01ea2c",
   "metadata": {},
   "outputs": [
    {
     "data": {
      "text/plain": [
       "array([0, 1, 2, 3, 4, 5, 6])"
      ]
     },
     "execution_count": 13,
     "metadata": {},
     "output_type": "execute_result"
    }
   ],
   "source": [
    "np.arange(7)"
   ]
  },
  {
   "cell_type": "code",
   "execution_count": 14,
   "id": "3a5546d4-0ff6-412e-90b8-22ead40df531",
   "metadata": {},
   "outputs": [
    {
     "data": {
      "text/plain": [
       "array([0, 1, 2, 3, 4])"
      ]
     },
     "execution_count": 14,
     "metadata": {},
     "output_type": "execute_result"
    }
   ],
   "source": [
    "np.arange(0,5)"
   ]
  },
  {
   "cell_type": "code",
   "execution_count": 15,
   "id": "d28f655e-78d0-4752-9a12-df33f0fb7ea5",
   "metadata": {},
   "outputs": [
    {
     "data": {
      "text/plain": [
       "array([10, 11, 12, 13, 14, 15, 16, 17, 18, 19])"
      ]
     },
     "execution_count": 15,
     "metadata": {},
     "output_type": "execute_result"
    }
   ],
   "source": [
    " np.arange(10,20)"
   ]
  },
  {
   "cell_type": "code",
   "execution_count": 16,
   "id": "2b5fce3e-3293-4d5c-84c7-9ed725c5064f",
   "metadata": {},
   "outputs": [
    {
     "data": {
      "text/plain": [
       "array([], dtype=int32)"
      ]
     },
     "execution_count": 16,
     "metadata": {},
     "output_type": "execute_result"
    }
   ],
   "source": [
    "np.arange(20,10) # 1st vale Lareger and 2nd vale samller , so empty array"
   ]
  },
  {
   "cell_type": "code",
   "execution_count": 17,
   "id": "3c83b05d-d6ab-43a4-a306-c95eec57c005",
   "metadata": {},
   "outputs": [
    {
     "data": {
      "text/plain": [
       "array([-20, -19, -18, -17, -16, -15, -14, -13, -12, -11, -10,  -9,  -8,\n",
       "        -7,  -6,  -5,  -4,  -3,  -2,  -1,   0,   1,   2,   3,   4,   5,\n",
       "         6,   7,   8,   9])"
      ]
     },
     "execution_count": 17,
     "metadata": {},
     "output_type": "execute_result"
    }
   ],
   "source": [
    "np.arange(-20,10)"
   ]
  },
  {
   "cell_type": "code",
   "execution_count": 18,
   "id": "b2f0ed83-1ade-4aa1-86a8-c6de3563b72f",
   "metadata": {},
   "outputs": [
    {
     "data": {
      "text/plain": [
       "array([-16, -15, -14, -13, -12, -11, -10,  -9,  -8,  -7,  -6,  -5,  -4,\n",
       "        -3,  -2,  -1,   0,   1,   2,   3,   4,   5,   6,   7,   8,   9])"
      ]
     },
     "execution_count": 18,
     "metadata": {},
     "output_type": "execute_result"
    }
   ],
   "source": [
    "np.arange(-16,10)"
   ]
  },
  {
   "cell_type": "code",
   "execution_count": 19,
   "id": "86d3340d-9891-4f24-9b26-ee6e58aedf5c",
   "metadata": {},
   "outputs": [
    {
     "data": {
      "text/plain": [
       "array([-20, -19, -18, -17, -16, -15, -14, -13, -12, -11])"
      ]
     },
     "execution_count": 19,
     "metadata": {},
     "output_type": "execute_result"
    }
   ],
   "source": [
    "np.arange(-20,-10)"
   ]
  },
  {
   "cell_type": "code",
   "execution_count": 20,
   "id": "f67d54bf-7b20-49bc-aeba-e5b090f8980c",
   "metadata": {},
   "outputs": [
    {
     "ename": "TypeError",
     "evalue": "arange() requires stop to be specified.",
     "output_type": "error",
     "traceback": [
      "\u001b[1;31m---------------------------------------------------------------------------\u001b[0m",
      "\u001b[1;31mTypeError\u001b[0m                                 Traceback (most recent call last)",
      "Cell \u001b[1;32mIn[20], line 1\u001b[0m\n\u001b[1;32m----> 1\u001b[0m np\u001b[38;5;241m.\u001b[39marange()\n",
      "\u001b[1;31mTypeError\u001b[0m: arange() requires stop to be specified."
     ]
    }
   ],
   "source": [
    "np.arange() # in that the stop Argument are mising so thst shows error "
   ]
  },
  {
   "cell_type": "code",
   "execution_count": 21,
   "id": "26a921aa-5ab1-43df-9e9e-c65d2d81fed6",
   "metadata": {},
   "outputs": [
    {
     "data": {
      "text/plain": [
       "array([10, 15, 20, 25])"
      ]
     },
     "execution_count": 21,
     "metadata": {},
     "output_type": "execute_result"
    }
   ],
   "source": [
    "np.arange(10,30,5)"
   ]
  },
  {
   "cell_type": "code",
   "execution_count": 22,
   "id": "45fedc3c-acf7-45aa-a415-8595109fb423",
   "metadata": {},
   "outputs": [
    {
     "ename": "TypeError",
     "evalue": "Cannot interpret '8' as a data type",
     "output_type": "error",
     "traceback": [
      "\u001b[1;31m---------------------------------------------------------------------------\u001b[0m",
      "\u001b[1;31mTypeError\u001b[0m                                 Traceback (most recent call last)",
      "Cell \u001b[1;32mIn[22], line 1\u001b[0m\n\u001b[1;32m----> 1\u001b[0m np\u001b[38;5;241m.\u001b[39marange(\u001b[38;5;241m10\u001b[39m,\u001b[38;5;241m30\u001b[39m,\u001b[38;5;241m5\u001b[39m,\u001b[38;5;241m8\u001b[39m)\n",
      "\u001b[1;31mTypeError\u001b[0m: Cannot interpret '8' as a data type"
     ]
    }
   ],
   "source": [
    "np.arange(10,30,5,8) # only 3 argument are Allowed "
   ]
  },
  {
   "cell_type": "markdown",
   "id": "72a24d8c-308d-4e65-97d1-216ae6575af0",
   "metadata": {},
   "source": [
    "# np.zeros"
   ]
  },
  {
   "cell_type": "code",
   "execution_count": 23,
   "id": "085a0af0-5862-4412-a7ea-7aac41cbe314",
   "metadata": {},
   "outputs": [
    {
     "data": {
      "text/plain": [
       "array([0., 0., 0.])"
      ]
     },
     "execution_count": 23,
     "metadata": {},
     "output_type": "execute_result"
    }
   ],
   "source": [
    "np.zeros(3)"
   ]
  },
  {
   "cell_type": "code",
   "execution_count": 24,
   "id": "d381e4f5-3087-41aa-b9f4-29a2b19abbdb",
   "metadata": {},
   "outputs": [
    {
     "data": {
      "text/plain": [
       "array([0., 0., 0., 0., 0., 0., 0., 0., 0., 0.])"
      ]
     },
     "execution_count": 24,
     "metadata": {},
     "output_type": "execute_result"
    }
   ],
   "source": [
    "\n",
    "\n",
    "np.zeros(10) #1d array , # parameter tunning   (System bydefualt)"
   ]
  },
  {
   "cell_type": "code",
   "execution_count": 25,
   "id": "afa860a9-3693-449a-9bfc-546b8a4445d5",
   "metadata": {},
   "outputs": [
    {
     "data": {
      "text/plain": [
       "array([0, 0, 0, 0, 0, 0, 0, 0, 0, 0])"
      ]
     },
     "execution_count": 25,
     "metadata": {},
     "output_type": "execute_result"
    }
   ],
   "source": [
    "np.zeros(10 , dtype=int) # hyperparameter tunning (user wanted to changes system parameter)"
   ]
  },
  {
   "cell_type": "code",
   "execution_count": 26,
   "id": "3c99784a-c1e7-4006-b1b1-771dc9f2b54a",
   "metadata": {},
   "outputs": [
    {
     "data": {
      "text/plain": [
       "array([[0, 0],\n",
       "       [0, 0]])"
      ]
     },
     "execution_count": 26,
     "metadata": {},
     "output_type": "execute_result"
    }
   ],
   "source": [
    "np.zeros((2,2),dtype=int) #2d array"
   ]
  },
  {
   "cell_type": "code",
   "execution_count": 27,
   "id": "1343081a-e418-42a6-b0c0-bce718aef091",
   "metadata": {},
   "outputs": [
    {
     "data": {
      "text/plain": [
       "array([[0., 0., 0., 0., 0., 0., 0., 0., 0., 0.],\n",
       "       [0., 0., 0., 0., 0., 0., 0., 0., 0., 0.]])"
      ]
     },
     "execution_count": 27,
     "metadata": {},
     "output_type": "execute_result"
    }
   ],
   "source": [
    "np.zeros((2,10))"
   ]
  },
  {
   "cell_type": "code",
   "execution_count": 28,
   "id": "7ca32671-88a3-417c-a52b-5256c598b484",
   "metadata": {},
   "outputs": [
    {
     "data": {
      "text/plain": [
       "array([[0, 0],\n",
       "       [0, 0]])"
      ]
     },
     "execution_count": 28,
     "metadata": {},
     "output_type": "execute_result"
    }
   ],
   "source": [
    "np.zeros((2,2),dtype=int) # 2d array"
   ]
  },
  {
   "cell_type": "code",
   "execution_count": 29,
   "id": "1abf86d3-5176-4911-b63b-6fc8e28eb629",
   "metadata": {},
   "outputs": [
    {
     "data": {
      "text/plain": [
       "array([[0, 0, 0, 0, 0, 0, 0, 0, 0, 0],\n",
       "       [0, 0, 0, 0, 0, 0, 0, 0, 0, 0],\n",
       "       [0, 0, 0, 0, 0, 0, 0, 0, 0, 0],\n",
       "       [0, 0, 0, 0, 0, 0, 0, 0, 0, 0],\n",
       "       [0, 0, 0, 0, 0, 0, 0, 0, 0, 0]])"
      ]
     },
     "execution_count": 29,
     "metadata": {},
     "output_type": "execute_result"
    }
   ],
   "source": [
    "np.zeros((5,10) , dtype=int)"
   ]
  },
  {
   "cell_type": "code",
   "execution_count": 30,
   "id": "fdfbf137-dee3-4d06-b188-f45bad92a3d3",
   "metadata": {},
   "outputs": [
    {
     "data": {
      "text/plain": [
       "array([[0., 0., 0., ..., 0., 0., 0.],\n",
       "       [0., 0., 0., ..., 0., 0., 0.],\n",
       "       [0., 0., 0., ..., 0., 0., 0.],\n",
       "       ...,\n",
       "       [0., 0., 0., ..., 0., 0., 0.],\n",
       "       [0., 0., 0., ..., 0., 0., 0.],\n",
       "       [0., 0., 0., ..., 0., 0., 0.]])"
      ]
     },
     "execution_count": 30,
     "metadata": {},
     "output_type": "execute_result"
    }
   ],
   "source": [
    "np.zeros((50,34)) # N-D Array"
   ]
  },
  {
   "cell_type": "markdown",
   "id": "01b0d886-8a66-4fc4-ab97-2879c77b8562",
   "metadata": {},
   "source": [
    "# np.ones"
   ]
  },
  {
   "cell_type": "code",
   "execution_count": 31,
   "id": "be25f7f0-6bb2-4ea1-b528-23196f1dc20a",
   "metadata": {},
   "outputs": [
    {
     "data": {
      "text/plain": [
       "array([1., 1., 1.])"
      ]
     },
     "execution_count": 31,
     "metadata": {},
     "output_type": "execute_result"
    }
   ],
   "source": [
    "np.ones(3) #1d array"
   ]
  },
  {
   "cell_type": "code",
   "execution_count": 32,
   "id": "d4de169a-7969-4cec-8c5f-e7f266dba5e4",
   "metadata": {},
   "outputs": [
    {
     "data": {
      "text/plain": [
       "array([1, 1, 1, 1])"
      ]
     },
     "execution_count": 32,
     "metadata": {},
     "output_type": "execute_result"
    }
   ],
   "source": [
    "np.ones((4),dtype=int)"
   ]
  },
  {
   "cell_type": "code",
   "execution_count": 33,
   "id": "76560f6e-cbf0-46b3-b872-836d2d1355b2",
   "metadata": {},
   "outputs": [
    {
     "data": {
      "text/plain": [
       "array([[1., 1., 1., 1.],\n",
       "       [1., 1., 1., 1.],\n",
       "       [1., 1., 1., 1.]])"
      ]
     },
     "execution_count": 33,
     "metadata": {},
     "output_type": "execute_result"
    }
   ],
   "source": [
    "np.ones((3,4)) #2d array"
   ]
  },
  {
   "cell_type": "code",
   "execution_count": 34,
   "id": "4ebc0d39-3094-4b2f-8c07-50613df43371",
   "metadata": {},
   "outputs": [
    {
     "data": {
      "text/plain": [
       "array([[1, 1, 1, 1],\n",
       "       [1, 1, 1, 1],\n",
       "       [1, 1, 1, 1],\n",
       "       [1, 1, 1, 1],\n",
       "       [1, 1, 1, 1]])"
      ]
     },
     "execution_count": 34,
     "metadata": {},
     "output_type": "execute_result"
    }
   ],
   "source": [
    "np.ones((5,4),dtype=int) # 5 rows and 4 coloum"
   ]
  },
  {
   "cell_type": "markdown",
   "id": "67a02fac-ee70-48cc-a52d-10c2ec1ef066",
   "metadata": {},
   "source": [
    "# np.random.rand"
   ]
  },
  {
   "cell_type": "code",
   "execution_count": 35,
   "id": "9ad8527b-3279-4323-854d-9660c6ccad69",
   "metadata": {},
   "outputs": [
    {
     "data": {
      "text/plain": [
       "array([0.69848056, 0.06540005, 0.32746476, 0.25831224, 0.05828628])"
      ]
     },
     "execution_count": 35,
     "metadata": {},
     "output_type": "execute_result"
    }
   ],
   "source": [
    "np.random.rand(5)"
   ]
  },
  {
   "cell_type": "code",
   "execution_count": 36,
   "id": "3c492715-75c3-468b-b90e-e95817e91f47",
   "metadata": {},
   "outputs": [
    {
     "data": {
      "text/plain": [
       "array([[0.79962082, 0.62043142, 0.85952791, 0.8223781 , 0.04968723],\n",
       "       [0.65790624, 0.45521732, 0.75904283, 0.49019011, 0.71273811],\n",
       "       [0.82573477, 0.84256808, 0.61108135, 0.65110024, 0.61985031]])"
      ]
     },
     "execution_count": 36,
     "metadata": {},
     "output_type": "execute_result"
    }
   ],
   "source": [
    "np.random.rand(3,5)"
   ]
  },
  {
   "cell_type": "markdown",
   "id": "b56e44b9-d7bf-480b-92dd-ad3d0dd46a1b",
   "metadata": {},
   "source": [
    "# np.random.randint"
   ]
  },
  {
   "cell_type": "code",
   "execution_count": 37,
   "id": "bd4e6375-9a8d-44b8-b0f4-f42ea875016f",
   "metadata": {},
   "outputs": [
    {
     "data": {
      "text/plain": [
       "2"
      ]
     },
     "execution_count": 37,
     "metadata": {},
     "output_type": "execute_result"
    }
   ],
   "source": [
    "np.random.randint(2,10)"
   ]
  },
  {
   "cell_type": "code",
   "execution_count": 38,
   "id": "3c7ebe1b-41fb-415c-bd72-fbea1035caeb",
   "metadata": {},
   "outputs": [
    {
     "data": {
      "text/plain": [
       "0"
      ]
     },
     "execution_count": 38,
     "metadata": {},
     "output_type": "execute_result"
    }
   ],
   "source": [
    "np.random.randint(0,1)"
   ]
  },
  {
   "cell_type": "code",
   "execution_count": 39,
   "id": "4240eaa4-7367-46d8-9109-228d2ba1ba89",
   "metadata": {},
   "outputs": [
    {
     "data": {
      "text/plain": [
       "array([ 5,  9, 19, 11, 19])"
      ]
     },
     "execution_count": 39,
     "metadata": {},
     "output_type": "execute_result"
    }
   ],
   "source": [
    "np.random.randint(1,20,5)\n",
    "\n"
   ]
  },
  {
   "cell_type": "code",
   "execution_count": 40,
   "id": "4c37c1ca-55e9-4866-90bf-50ffe8c2768e",
   "metadata": {},
   "outputs": [
    {
     "data": {
      "text/plain": [
       "array([5, 2, 2, 1])"
      ]
     },
     "execution_count": 40,
     "metadata": {},
     "output_type": "execute_result"
    }
   ],
   "source": [
    "np.random.randint(1,6,4)"
   ]
  },
  {
   "cell_type": "code",
   "execution_count": 41,
   "id": "e7397be5-dbcd-4b7a-85d7-1a41e7572308",
   "metadata": {},
   "outputs": [
    {
     "data": {
      "text/plain": [
       "array([], shape=(0, 10, 4), dtype=float64)"
      ]
     },
     "execution_count": 41,
     "metadata": {},
     "output_type": "execute_result"
    }
   ],
   "source": [
    "np.random.rand(0,10,4)"
   ]
  },
  {
   "cell_type": "markdown",
   "id": "61d9a946-0d63-4503-982e-0ff7433ef0c2",
   "metadata": {},
   "source": [
    "# .reshape"
   ]
  },
  {
   "cell_type": "code",
   "execution_count": 42,
   "id": "e1e003a6-8d24-4d47-acca-41675e8f7c03",
   "metadata": {},
   "outputs": [
    {
     "data": {
      "text/plain": [
       "array([ 1,  2,  3,  4,  5,  6,  7,  8,  9, 10, 11, 12])"
      ]
     },
     "execution_count": 42,
     "metadata": {},
     "output_type": "execute_result"
    }
   ],
   "source": [
    "np.arange(1,13)"
   ]
  },
  {
   "cell_type": "code",
   "execution_count": 43,
   "id": "f0ed66c2-f901-4f34-ad05-ab55bb84113d",
   "metadata": {},
   "outputs": [
    {
     "data": {
      "text/plain": [
       "array([[ 1,  2,  3,  4],\n",
       "       [ 5,  6,  7,  8],\n",
       "       [ 9, 10, 11, 12]])"
      ]
     },
     "execution_count": 43,
     "metadata": {},
     "output_type": "execute_result"
    }
   ],
   "source": [
    "np.arange(1,13).reshape(3,4)"
   ]
  },
  {
   "cell_type": "code",
   "execution_count": 44,
   "id": "b22567b6-a85f-4020-a161-3f4ec6fdf106",
   "metadata": {},
   "outputs": [
    {
     "data": {
      "text/plain": [
       "array([[ 1,  2],\n",
       "       [ 3,  4],\n",
       "       [ 5,  6],\n",
       "       [ 7,  8],\n",
       "       [ 9, 10],\n",
       "       [11, 12]])"
      ]
     },
     "execution_count": 44,
     "metadata": {},
     "output_type": "execute_result"
    }
   ],
   "source": [
    "np.arange(1,13).reshape(6,2)"
   ]
  },
  {
   "cell_type": "code",
   "execution_count": 45,
   "id": "6d1bde5c-8107-4051-a7db-eaaedc924c28",
   "metadata": {},
   "outputs": [
    {
     "data": {
      "text/plain": [
       "array([[ 1],\n",
       "       [ 2],\n",
       "       [ 3],\n",
       "       [ 4],\n",
       "       [ 5],\n",
       "       [ 6],\n",
       "       [ 7],\n",
       "       [ 8],\n",
       "       [ 9],\n",
       "       [10],\n",
       "       [11],\n",
       "       [12]])"
      ]
     },
     "execution_count": 45,
     "metadata": {},
     "output_type": "execute_result"
    }
   ],
   "source": [
    "np.arange(1,13).reshape(12,1)"
   ]
  },
  {
   "cell_type": "code",
   "execution_count": 46,
   "id": "9adffdcc-25e2-4863-9854-4fa9ef564028",
   "metadata": {},
   "outputs": [
    {
     "ename": "ValueError",
     "evalue": "cannot reshape array of size 12 into shape (6,3)",
     "output_type": "error",
     "traceback": [
      "\u001b[1;31m---------------------------------------------------------------------------\u001b[0m",
      "\u001b[1;31mValueError\u001b[0m                                Traceback (most recent call last)",
      "Cell \u001b[1;32mIn[46], line 1\u001b[0m\n\u001b[1;32m----> 1\u001b[0m np\u001b[38;5;241m.\u001b[39marange(\u001b[38;5;241m1\u001b[39m,\u001b[38;5;241m13\u001b[39m)\u001b[38;5;241m.\u001b[39mreshape(\u001b[38;5;241m6\u001b[39m,\u001b[38;5;241m3\u001b[39m)\n",
      "\u001b[1;31mValueError\u001b[0m: cannot reshape array of size 12 into shape (6,3)"
     ]
    }
   ],
   "source": [
    "\n",
    "np.arange(1,13).reshape(6,3) # we need the more item to fullfil the reshape "
   ]
  },
  {
   "cell_type": "code",
   "execution_count": 47,
   "id": "36211e4b-0ff1-4501-a129-8f9d65e7dda4",
   "metadata": {},
   "outputs": [
    {
     "data": {
      "text/plain": [
       "array([[ 1,  2,  3,  4,  5,  6],\n",
       "       [ 7,  8,  9, 10, 11, 12]])"
      ]
     },
     "execution_count": 47,
     "metadata": {},
     "output_type": "execute_result"
    }
   ],
   "source": [
    "np.arange(1,13).reshape(2,6)"
   ]
  },
  {
   "cell_type": "code",
   "execution_count": 48,
   "id": "edd04580-f42c-4b0f-a3e3-deced60e7334",
   "metadata": {},
   "outputs": [
    {
     "data": {
      "text/plain": [
       "array([[ 1,  2],\n",
       "       [ 3,  4],\n",
       "       [ 5,  6],\n",
       "       [ 7,  8],\n",
       "       [ 9, 10]])"
      ]
     },
     "execution_count": 48,
     "metadata": {},
     "output_type": "execute_result"
    }
   ],
   "source": [
    "np.arange(1,11).reshape(5,2)"
   ]
  },
  {
   "cell_type": "code",
   "execution_count": 49,
   "id": "dd513181-443f-4458-bbba-16763514c2c3",
   "metadata": {},
   "outputs": [
    {
     "data": {
      "text/plain": [
       "array([[22, 23, 15, 24, 25, 36, 28, 31, 22, 16],\n",
       "       [21, 18, 28, 37, 18, 26, 13, 12, 30, 16],\n",
       "       [36, 34, 13, 23, 26, 24, 25, 29, 23, 16],\n",
       "       [35, 32, 23, 30, 15, 19, 39, 15, 15, 21],\n",
       "       [19, 11, 30, 25, 32, 16, 14, 36, 20, 24],\n",
       "       [12, 14, 26, 28, 27, 21, 39, 33, 14, 14],\n",
       "       [12, 23, 34, 11, 26, 11, 22, 14, 16, 37],\n",
       "       [38, 12, 26, 37, 22, 14, 15, 27, 27, 32],\n",
       "       [35, 22, 19, 12, 36, 39, 28, 31, 28, 25],\n",
       "       [19, 15, 22, 15, 17, 12, 37, 22, 24, 14]])"
      ]
     },
     "execution_count": 49,
     "metadata": {},
     "output_type": "execute_result"
    }
   ],
   "source": [
    "np.random.randint(10,40,(10,10))# 10x10 matrix between 10 to 40 "
   ]
  },
  {
   "cell_type": "code",
   "execution_count": 50,
   "id": "d1e88be2-1a72-4a8b-a499-bc2ca601fbec",
   "metadata": {},
   "outputs": [
    {
     "data": {
      "text/plain": [
       "array([ 1,  2,  3,  4,  5,  6,  7,  8,  9, 10, 11, 12])"
      ]
     },
     "execution_count": 50,
     "metadata": {},
     "output_type": "execute_result"
    }
   ],
   "source": [
    "np.arange(1,13)"
   ]
  },
  {
   "cell_type": "code",
   "execution_count": 51,
   "id": "0f64fc2b-fbc3-43bd-9ab5-d18f6f5a7a60",
   "metadata": {},
   "outputs": [
    {
     "data": {
      "text/plain": [
       "array([[ 1,  2,  3,  4],\n",
       "       [ 5,  6,  7,  8],\n",
       "       [ 9, 10, 11, 12]])"
      ]
     },
     "execution_count": 51,
     "metadata": {},
     "output_type": "execute_result"
    }
   ],
   "source": [
    "np.arange(1,13).reshape(3,4)"
   ]
  },
  {
   "cell_type": "code",
   "execution_count": 52,
   "id": "fea5927c-fe81-4d52-9156-7e93512e1ba5",
   "metadata": {},
   "outputs": [],
   "source": [
    "b=np.random.randint(10,20,(4,5))"
   ]
  },
  {
   "cell_type": "code",
   "execution_count": 53,
   "id": "5b41ebab-7233-44a6-81e5-81e45b9fcb69",
   "metadata": {},
   "outputs": [
    {
     "data": {
      "text/plain": [
       "array([[16, 18, 14, 10, 18],\n",
       "       [11, 13, 10, 12, 12],\n",
       "       [16, 10, 11, 10, 16],\n",
       "       [12, 11, 10, 11, 14]])"
      ]
     },
     "execution_count": 53,
     "metadata": {},
     "output_type": "execute_result"
    }
   ],
   "source": [
    "b"
   ]
  },
  {
   "cell_type": "code",
   "execution_count": 54,
   "id": "4b99fe5c-d8ad-4660-84eb-c44b532a670e",
   "metadata": {},
   "outputs": [
    {
     "data": {
      "text/plain": [
       "numpy.ndarray"
      ]
     },
     "execution_count": 54,
     "metadata": {},
     "output_type": "execute_result"
    }
   ],
   "source": [
    "type(b)"
   ]
  },
  {
   "cell_type": "code",
   "execution_count": 55,
   "id": "5b1eedfa-a9d3-4909-87e5-22234b6c72b7",
   "metadata": {},
   "outputs": [
    {
     "data": {
      "text/plain": [
       "array([[16, 18, 14, 10, 18],\n",
       "       [11, 13, 10, 12, 12],\n",
       "       [16, 10, 11, 10, 16],\n",
       "       [12, 11, 10, 11, 14]])"
      ]
     },
     "execution_count": 55,
     "metadata": {},
     "output_type": "execute_result"
    }
   ],
   "source": [
    "b[:]"
   ]
  },
  {
   "cell_type": "code",
   "execution_count": 56,
   "id": "cbb2e684-45c8-4e7f-beaa-31c64d66e3a5",
   "metadata": {},
   "outputs": [
    {
     "data": {
      "text/plain": [
       "array([[11, 13, 10, 12, 12],\n",
       "       [16, 10, 11, 10, 16]])"
      ]
     },
     "execution_count": 56,
     "metadata": {},
     "output_type": "execute_result"
    }
   ],
   "source": [
    "b[1:3]"
   ]
  },
  {
   "cell_type": "code",
   "execution_count": 57,
   "id": "0808645c-f2d4-4f69-b223-2b14e2d2a3dd",
   "metadata": {},
   "outputs": [
    {
     "data": {
      "text/plain": [
       "10"
      ]
     },
     "execution_count": 57,
     "metadata": {},
     "output_type": "execute_result"
    }
   ],
   "source": [
    "b[1,2]"
   ]
  },
  {
   "cell_type": "code",
   "execution_count": 58,
   "id": "a38cb31d-8b02-4df3-9fcd-257d37254597",
   "metadata": {},
   "outputs": [
    {
     "data": {
      "text/plain": [
       "12"
      ]
     },
     "execution_count": 58,
     "metadata": {},
     "output_type": "execute_result"
    }
   ],
   "source": [
    "b[1,3]"
   ]
  },
  {
   "cell_type": "code",
   "execution_count": 59,
   "id": "cb81f356-d414-44a6-8d19-7605e184437f",
   "metadata": {},
   "outputs": [
    {
     "data": {
      "text/plain": [
       "12"
      ]
     },
     "execution_count": 59,
     "metadata": {},
     "output_type": "execute_result"
    }
   ],
   "source": [
    "b[1,-1]"
   ]
  },
  {
   "cell_type": "code",
   "execution_count": 60,
   "id": "061b12b8-ba46-44d0-bd17-6ef967f6812c",
   "metadata": {},
   "outputs": [
    {
     "data": {
      "text/plain": [
       "array([[16, 10, 11, 10, 16]])"
      ]
     },
     "execution_count": 60,
     "metadata": {},
     "output_type": "execute_result"
    }
   ],
   "source": [
    "b[2:3]"
   ]
  },
  {
   "cell_type": "code",
   "execution_count": 61,
   "id": "2d49e7b6-3ce8-4c6e-89ac-4380f3c0d9c4",
   "metadata": {},
   "outputs": [
    {
     "data": {
      "text/plain": [
       "array([[16, 18, 14, 10, 18],\n",
       "       [11, 13, 10, 12, 12]])"
      ]
     },
     "execution_count": 61,
     "metadata": {},
     "output_type": "execute_result"
    }
   ],
   "source": [
    "b[0:-2]"
   ]
  },
  {
   "cell_type": "code",
   "execution_count": 62,
   "id": "c8ebaeac-9e08-4d14-90da-d00a853a30f4",
   "metadata": {},
   "outputs": [
    {
     "data": {
      "text/plain": [
       "array([[16, 18, 14, 10, 18],\n",
       "       [11, 13, 10, 12, 12],\n",
       "       [16, 10, 11, 10, 16],\n",
       "       [12, 11, 10, 11, 14]])"
      ]
     },
     "execution_count": 62,
     "metadata": {},
     "output_type": "execute_result"
    }
   ],
   "source": [
    "b"
   ]
  },
  {
   "cell_type": "markdown",
   "id": "7fe84529-5c2c-4d90-9c75-bcaaed7e71dd",
   "metadata": {},
   "source": [
    "# operations"
   ]
  },
  {
   "cell_type": "code",
   "execution_count": 65,
   "id": "134a6125-ef0c-4c6b-9110-c82a9d937728",
   "metadata": {},
   "outputs": [
    {
     "data": {
      "text/plain": [
       "array([17, 12, 17, 17, 10, 18, 10, 13, 13, 10])"
      ]
     },
     "execution_count": 65,
     "metadata": {},
     "output_type": "execute_result"
    }
   ],
   "source": [
    "a = np.random.randint(10,20,10)\n",
    "a"
   ]
  },
  {
   "cell_type": "code",
   "execution_count": 66,
   "id": "327bb59b-7369-4bc7-a02e-5f30eb99a34e",
   "metadata": {},
   "outputs": [
    {
     "data": {
      "text/plain": [
       "1818638962576"
      ]
     },
     "execution_count": 66,
     "metadata": {},
     "output_type": "execute_result"
    }
   ],
   "source": [
    "id(a)"
   ]
  },
  {
   "cell_type": "code",
   "execution_count": 67,
   "id": "6e3fae87-8530-4c84-a29f-ff20f22435a9",
   "metadata": {},
   "outputs": [
    {
     "data": {
      "text/plain": [
       "array([0, 1, 2, 3, 4, 5])"
      ]
     },
     "execution_count": 67,
     "metadata": {},
     "output_type": "execute_result"
    }
   ],
   "source": [
    "arr"
   ]
  },
  {
   "cell_type": "code",
   "execution_count": 68,
   "id": "08bb659b-47a3-43b6-9c62-3d565da2e540",
   "metadata": {},
   "outputs": [],
   "source": [
    "arr2 = np.random.randint(0,100,(10,10))"
   ]
  },
  {
   "cell_type": "code",
   "execution_count": 69,
   "id": "cd2c88e1-3cc4-4e57-b16d-bae503b093a2",
   "metadata": {},
   "outputs": [
    {
     "data": {
      "text/plain": [
       "array([[87, 81, 94, 10, 52, 24, 58, 71, 51, 26],\n",
       "       [19, 84, 97, 25, 26, 80, 66, 75, 16, 99],\n",
       "       [51, 14, 59, 20,  1, 58, 41, 59,  6, 78],\n",
       "       [84, 97, 57, 98, 31, 53, 19, 12, 64, 58],\n",
       "       [54,  5, 58, 60, 86, 74, 38, 75, 38, 88],\n",
       "       [93, 20, 60,  3, 29, 88, 74, 41, 92, 46],\n",
       "       [84, 85, 22, 40, 36, 81, 88, 29, 78, 39],\n",
       "       [90, 67, 59, 17,  6, 75, 13, 49, 71, 78],\n",
       "       [34, 35, 54, 97, 54, 23, 54, 30, 48, 79],\n",
       "       [45,  1, 81, 16, 67, 84,  7, 63, 42, 84]])"
      ]
     },
     "execution_count": 69,
     "metadata": {},
     "output_type": "execute_result"
    }
   ],
   "source": [
    "arr2"
   ]
  },
  {
   "cell_type": "code",
   "execution_count": 70,
   "id": "f65edc37-893e-4c35-9b44-797ad7f7e390",
   "metadata": {},
   "outputs": [
    {
     "data": {
      "text/plain": [
       "array([[87, 81, 94, 10, 52, 24, 58, 71, 51, 26],\n",
       "       [19, 84, 97, 25, 26, 80, 66, 75, 16, 99],\n",
       "       [51, 14, 59, 20,  1, 58, 41, 59,  6, 78],\n",
       "       [84, 97, 57, 98, 31, 53, 19, 12, 64, 58],\n",
       "       [54,  5, 58, 60, 86, 74, 38, 75, 38, 88],\n",
       "       [93, 20, 60,  3, 29, 88, 74, 41, 92, 46],\n",
       "       [84, 85, 22, 40, 36, 81, 88, 29, 78, 39],\n",
       "       [90, 67, 59, 17,  6, 75, 13, 49, 71, 78],\n",
       "       [34, 35, 54, 97, 54, 23, 54, 30, 48, 79],\n",
       "       [45,  1, 81, 16, 67, 84,  7, 63, 42, 84]])"
      ]
     },
     "execution_count": 70,
     "metadata": {},
     "output_type": "execute_result"
    }
   ],
   "source": [
    "arr2"
   ]
  },
  {
   "cell_type": "code",
   "execution_count": 72,
   "id": "2af2e6d7-d7ed-46d3-aea1-2ba9db8159cf",
   "metadata": {},
   "outputs": [
    {
     "data": {
      "text/plain": [
       "array([[45,  1, 81, 16, 67, 84,  7, 63, 42, 84],\n",
       "       [34, 35, 54, 97, 54, 23, 54, 30, 48, 79],\n",
       "       [90, 67, 59, 17,  6, 75, 13, 49, 71, 78],\n",
       "       [84, 85, 22, 40, 36, 81, 88, 29, 78, 39],\n",
       "       [93, 20, 60,  3, 29, 88, 74, 41, 92, 46],\n",
       "       [54,  5, 58, 60, 86, 74, 38, 75, 38, 88],\n",
       "       [84, 97, 57, 98, 31, 53, 19, 12, 64, 58],\n",
       "       [51, 14, 59, 20,  1, 58, 41, 59,  6, 78],\n",
       "       [19, 84, 97, 25, 26, 80, 66, 75, 16, 99],\n",
       "       [87, 81, 94, 10, 52, 24, 58, 71, 51, 26]])"
      ]
     },
     "execution_count": 72,
     "metadata": {},
     "output_type": "execute_result"
    }
   ],
   "source": [
    "arr2[::-1]"
   ]
  },
  {
   "cell_type": "code",
   "execution_count": 73,
   "id": "a33c10ac-fb43-43f6-bd36-c64fa2efd05c",
   "metadata": {},
   "outputs": [
    {
     "data": {
      "text/plain": [
       "array([[45,  1, 81, 16, 67, 84,  7, 63, 42, 84],\n",
       "       [90, 67, 59, 17,  6, 75, 13, 49, 71, 78],\n",
       "       [93, 20, 60,  3, 29, 88, 74, 41, 92, 46],\n",
       "       [84, 97, 57, 98, 31, 53, 19, 12, 64, 58],\n",
       "       [19, 84, 97, 25, 26, 80, 66, 75, 16, 99]])"
      ]
     },
     "execution_count": 73,
     "metadata": {},
     "output_type": "execute_result"
    }
   ],
   "source": [
    "arr2[::-2]# IN THAT WE HAVE TO PRINT (-2) INDEXING AFTER -1 , PRINT ALL -2 VALUES"
   ]
  },
  {
   "cell_type": "code",
   "execution_count": 74,
   "id": "361f3012-ed0a-4ec0-abf3-f9a858bae1b5",
   "metadata": {},
   "outputs": [
    {
     "data": {
      "text/plain": [
       "array([[45,  1, 81, 16, 67, 84,  7, 63, 42, 84],\n",
       "       [84, 85, 22, 40, 36, 81, 88, 29, 78, 39],\n",
       "       [84, 97, 57, 98, 31, 53, 19, 12, 64, 58],\n",
       "       [87, 81, 94, 10, 52, 24, 58, 71, 51, 26]])"
      ]
     },
     "execution_count": 74,
     "metadata": {},
     "output_type": "execute_result"
    }
   ],
   "source": [
    "arr2[::-3]"
   ]
  },
  {
   "cell_type": "code",
   "execution_count": 75,
   "id": "b37be4d9-c8d4-48d4-9e00-a4d6ca2e22f8",
   "metadata": {},
   "outputs": [
    {
     "data": {
      "text/plain": [
       "array([[87, 81, 94, 10, 52, 24, 58, 71, 51, 26],\n",
       "       [19, 84, 97, 25, 26, 80, 66, 75, 16, 99],\n",
       "       [51, 14, 59, 20,  1, 58, 41, 59,  6, 78],\n",
       "       [84, 97, 57, 98, 31, 53, 19, 12, 64, 58],\n",
       "       [54,  5, 58, 60, 86, 74, 38, 75, 38, 88],\n",
       "       [93, 20, 60,  3, 29, 88, 74, 41, 92, 46],\n",
       "       [84, 85, 22, 40, 36, 81, 88, 29, 78, 39]])"
      ]
     },
     "execution_count": 75,
     "metadata": {},
     "output_type": "execute_result"
    }
   ],
   "source": [
    "arr2[:-3]"
   ]
  },
  {
   "cell_type": "code",
   "execution_count": 76,
   "id": "5728dc40-cbf7-4125-94d4-e77057210df3",
   "metadata": {},
   "outputs": [
    {
     "data": {
      "text/plain": [
       "array([[84, 97, 57, 98, 31, 53, 19, 12, 64, 58],\n",
       "       [54,  5, 58, 60, 86, 74, 38, 75, 38, 88],\n",
       "       [93, 20, 60,  3, 29, 88, 74, 41, 92, 46],\n",
       "       [84, 85, 22, 40, 36, 81, 88, 29, 78, 39],\n",
       "       [90, 67, 59, 17,  6, 75, 13, 49, 71, 78],\n",
       "       [34, 35, 54, 97, 54, 23, 54, 30, 48, 79],\n",
       "       [45,  1, 81, 16, 67, 84,  7, 63, 42, 84]])"
      ]
     },
     "execution_count": 76,
     "metadata": {},
     "output_type": "execute_result"
    }
   ],
   "source": [
    "arr2[3:]"
   ]
  },
  {
   "cell_type": "code",
   "execution_count": 77,
   "id": "f4cd9962-f352-4793-a797-22e2c32df823",
   "metadata": {},
   "outputs": [
    {
     "data": {
      "text/plain": [
       "array([[87, 81, 94, 10, 52, 24, 58, 71, 51, 26],\n",
       "       [19, 84, 97, 25, 26, 80, 66, 75, 16, 99],\n",
       "       [51, 14, 59, 20,  1, 58, 41, 59,  6, 78],\n",
       "       [84, 97, 57, 98, 31, 53, 19, 12, 64, 58],\n",
       "       [54,  5, 58, 60, 86, 74, 38, 75, 38, 88],\n",
       "       [93, 20, 60,  3, 29, 88, 74, 41, 92, 46],\n",
       "       [84, 85, 22, 40, 36, 81, 88, 29, 78, 39],\n",
       "       [90, 67, 59, 17,  6, 75, 13, 49, 71, 78],\n",
       "       [34, 35, 54, 97, 54, 23, 54, 30, 48, 79],\n",
       "       [45,  1, 81, 16, 67, 84,  7, 63, 42, 84]])"
      ]
     },
     "execution_count": 77,
     "metadata": {},
     "output_type": "execute_result"
    }
   ],
   "source": [
    "arr2"
   ]
  },
  {
   "cell_type": "code",
   "execution_count": 78,
   "id": "42f850ea-7c46-4adf-9f9e-028122f37a10",
   "metadata": {},
   "outputs": [
    {
     "data": {
      "text/plain": [
       "0"
      ]
     },
     "execution_count": 78,
     "metadata": {},
     "output_type": "execute_result"
    }
   ],
   "source": [
    "arr.min() # shows theh minimum number of array"
   ]
  },
  {
   "cell_type": "code",
   "execution_count": 79,
   "id": "dbcf087b-c2f0-42fd-b5e8-49576626d155",
   "metadata": {},
   "outputs": [
    {
     "data": {
      "text/plain": [
       "5"
      ]
     },
     "execution_count": 79,
     "metadata": {},
     "output_type": "execute_result"
    }
   ],
   "source": [
    "arr.max() #shows the maxium number of array"
   ]
  },
  {
   "cell_type": "code",
   "execution_count": 81,
   "id": "c795b57c-e92b-4a7e-b992-82202ffa0cd4",
   "metadata": {},
   "outputs": [
    {
     "data": {
      "text/plain": [
       "2.5"
      ]
     },
     "execution_count": 81,
     "metadata": {},
     "output_type": "execute_result"
    }
   ],
   "source": [
    " arr.mean()#shows theh midal number of array"
   ]
  },
  {
   "cell_type": "code",
   "execution_count": 83,
   "id": "666b3b0d-a6d4-4d5b-8775-8bc342556e58",
   "metadata": {},
   "outputs": [
    {
     "data": {
      "text/plain": [
       "3.0"
      ]
     },
     "execution_count": 83,
     "metadata": {},
     "output_type": "execute_result"
    }
   ],
   "source": [
    "from numpy import*   # in that we have to call all the numpy function with using of \"from numpy import* \"\n",
    "a = array([1,2,3,4,9])\n",
    "median(a)"
   ]
  },
  {
   "cell_type": "code",
   "execution_count": 84,
   "id": "972fe302-804d-473d-9c77-fe293a9994ac",
   "metadata": {},
   "outputs": [
    {
     "data": {
      "text/plain": [
       "array([[87, 81, 94, 10, 52, 24, 58, 71, 51, 26],\n",
       "       [19, 84, 97, 25, 26, 80, 66, 75, 16, 99],\n",
       "       [51, 14, 59, 20,  1, 58, 41, 59,  6, 78],\n",
       "       [84, 97, 57, 98, 31, 53, 19, 12, 64, 58],\n",
       "       [54,  5, 58, 60, 86, 74, 38, 75, 38, 88],\n",
       "       [93, 20, 60,  3, 29, 88, 74, 41, 92, 46],\n",
       "       [84, 85, 22, 40, 36, 81, 88, 29, 78, 39],\n",
       "       [90, 67, 59, 17,  6, 75, 13, 49, 71, 78],\n",
       "       [34, 35, 54, 97, 54, 23, 54, 30, 48, 79],\n",
       "       [45,  1, 81, 16, 67, 84,  7, 63, 42, 84]])"
      ]
     },
     "execution_count": 84,
     "metadata": {},
     "output_type": "execute_result"
    }
   ],
   "source": [
    "arr2"
   ]
  },
  {
   "cell_type": "code",
   "execution_count": 85,
   "id": "46c2c8ff-b60e-4d9a-81ff-bc1b4385bd44",
   "metadata": {},
   "outputs": [
    {
     "data": {
      "text/plain": [
       "array([54,  5, 58, 60, 86, 74, 38, 75, 38, 88])"
      ]
     },
     "execution_count": 85,
     "metadata": {},
     "output_type": "execute_result"
    }
   ],
   "source": [
    "arr2[4] # in taht we have to print the specific row"
   ]
  },
  {
   "cell_type": "code",
   "execution_count": 88,
   "id": "179a6e42-113d-404f-bc2d-98b486773825",
   "metadata": {},
   "outputs": [
    {
     "data": {
      "text/plain": [
       "array([10, 25, 20, 98, 60,  3, 40, 17, 97, 16])"
      ]
     },
     "execution_count": 88,
     "metadata": {},
     "output_type": "execute_result"
    }
   ],
   "source": [
    "arr2[:,3]# in taht we have to print the specific coloum"
   ]
  },
  {
   "cell_type": "code",
   "execution_count": 89,
   "id": "718b76ab-318f-4b32-b0ee-dce6fd3bb352",
   "metadata": {},
   "outputs": [
    {
     "data": {
      "text/plain": [
       "array([[87, 81, 94, 10, 52, 24, 58, 71, 51, 26],\n",
       "       [19, 84, 97, 25, 26, 80, 66, 75, 16, 99],\n",
       "       [51, 14, 59, 20,  1, 58, 41, 59,  6, 78],\n",
       "       [84, 97, 57, 98, 31, 53, 19, 12, 64, 58],\n",
       "       [54,  5, 58, 60, 86, 74, 38, 75, 38, 88],\n",
       "       [93, 20, 60,  3, 29, 88, 74, 41, 92, 46],\n",
       "       [84, 85, 22, 40, 36, 81, 88, 29, 78, 39],\n",
       "       [90, 67, 59, 17,  6, 75, 13, 49, 71, 78],\n",
       "       [34, 35, 54, 97, 54, 23, 54, 30, 48, 79],\n",
       "       [45,  1, 81, 16, 67, 84,  7, 63, 42, 84]])"
      ]
     },
     "execution_count": 89,
     "metadata": {},
     "output_type": "execute_result"
    }
   ],
   "source": [
    "arr2[0:10] # in that to print 0 to 9 row"
   ]
  },
  {
   "cell_type": "code",
   "execution_count": 90,
   "id": "146bc4f5-4356-4d8f-a387-bc2a78c90a70",
   "metadata": {},
   "outputs": [
    {
     "data": {
      "text/plain": [
       "array([[87, 81, 94, 10, 52, 24, 58, 71, 51, 26],\n",
       "       [84, 97, 57, 98, 31, 53, 19, 12, 64, 58],\n",
       "       [84, 85, 22, 40, 36, 81, 88, 29, 78, 39],\n",
       "       [45,  1, 81, 16, 67, 84,  7, 63, 42, 84]])"
      ]
     },
     "execution_count": 90,
     "metadata": {},
     "output_type": "execute_result"
    }
   ],
   "source": [
    "arr2[0:10:3] # step indexing it prints afters every 3rd index or row"
   ]
  },
  {
   "cell_type": "code",
   "execution_count": 93,
   "id": "5874d84d-dc65-48b2-8bb3-508763a85c54",
   "metadata": {},
   "outputs": [
    {
     "data": {
      "text/plain": [
       "array([[59, 20],\n",
       "       [57, 98],\n",
       "       [58, 60],\n",
       "       [60,  3]])"
      ]
     },
     "execution_count": 93,
     "metadata": {},
     "output_type": "execute_result"
    }
   ],
   "source": [
    "arr2 [2:6,2:4]#in that 2:6 shows row part , 2:4 shows coloum"
   ]
  },
  {
   "cell_type": "code",
   "execution_count": 94,
   "id": "bf6ab11e-b30c-42fb-9577-e0468a9ecacc",
   "metadata": {},
   "outputs": [
    {
     "data": {
      "text/plain": [
       "array([[97, 25],\n",
       "       [59, 20],\n",
       "       [57, 98]])"
      ]
     },
     "execution_count": 94,
     "metadata": {},
     "output_type": "execute_result"
    }
   ],
   "source": [
    "arr2 [1:4,2:4]"
   ]
  },
  {
   "cell_type": "markdown",
   "id": "c6d1e1e5-3bfd-426b-bfb5-881ff62b98eb",
   "metadata": {},
   "source": [
    "# numpy masking or numpy filters"
   ]
  },
  {
   "cell_type": "code",
   "execution_count": 95,
   "id": "28959966-4b54-4bb7-8d28-aa64dda297c8",
   "metadata": {},
   "outputs": [
    {
     "data": {
      "text/plain": [
       "array([[False, False, False,  True, False,  True, False, False, False,\n",
       "         True],\n",
       "       [ True, False, False,  True,  True, False, False, False,  True,\n",
       "        False],\n",
       "       [False,  True, False,  True,  True, False,  True, False,  True,\n",
       "        False],\n",
       "       [False, False, False, False,  True, False,  True,  True, False,\n",
       "        False],\n",
       "       [False,  True, False, False, False, False,  True, False,  True,\n",
       "        False],\n",
       "       [False,  True, False,  True,  True, False, False,  True, False,\n",
       "         True],\n",
       "       [False, False,  True,  True,  True, False, False,  True, False,\n",
       "         True],\n",
       "       [False, False, False,  True,  True, False,  True,  True, False,\n",
       "        False],\n",
       "       [ True,  True, False, False, False,  True, False,  True,  True,\n",
       "        False],\n",
       "       [ True,  True, False,  True, False, False,  True, False,  True,\n",
       "        False]])"
      ]
     },
     "execution_count": 95,
     "metadata": {},
     "output_type": "execute_result"
    }
   ],
   "source": [
    "arr2<50"
   ]
  },
  {
   "cell_type": "code",
   "execution_count": 96,
   "id": "60391bfc-089c-4131-9223-a1a5d2ddb6c4",
   "metadata": {},
   "outputs": [
    {
     "data": {
      "text/plain": [
       "array([[87, 81, 94, 10, 52, 24, 58, 71, 51, 26],\n",
       "       [19, 84, 97, 25, 26, 80, 66, 75, 16, 99],\n",
       "       [51, 14, 59, 20,  1, 58, 41, 59,  6, 78],\n",
       "       [84, 97, 57, 98, 31, 53, 19, 12, 64, 58],\n",
       "       [54,  5, 58, 60, 86, 74, 38, 75, 38, 88],\n",
       "       [93, 20, 60,  3, 29, 88, 74, 41, 92, 46],\n",
       "       [84, 85, 22, 40, 36, 81, 88, 29, 78, 39],\n",
       "       [90, 67, 59, 17,  6, 75, 13, 49, 71, 78],\n",
       "       [34, 35, 54, 97, 54, 23, 54, 30, 48, 79],\n",
       "       [45,  1, 81, 16, 67, 84,  7, 63, 42, 84]])"
      ]
     },
     "execution_count": 96,
     "metadata": {},
     "output_type": "execute_result"
    }
   ],
   "source": [
    "arr2"
   ]
  },
  {
   "cell_type": "code",
   "execution_count": 98,
   "id": "51b25860-50ea-42c9-94ce-d9b6f76c3aa5",
   "metadata": {},
   "outputs": [
    {
     "data": {
      "text/plain": [
       "array([10, 24, 26, 19, 25, 26, 16, 14, 20,  1, 41,  6, 31, 19, 12,  5, 38,\n",
       "       38, 20,  3, 29, 41, 46, 22, 40, 36, 29, 39, 17,  6, 13, 49, 34, 35,\n",
       "       23, 30, 48, 45,  1, 16,  7, 42])"
      ]
     },
     "execution_count": 98,
     "metadata": {},
     "output_type": "execute_result"
    }
   ],
   "source": [
    "arr2[arr2<50] # print less that 50 but not 50"
   ]
  },
  {
   "cell_type": "code",
   "execution_count": 99,
   "id": "119055be-c77b-4d2b-bdd6-72dd65d2f059",
   "metadata": {},
   "outputs": [
    {
     "data": {
      "text/plain": [
       "array([10, 24, 26, 19, 25, 26, 16, 14, 20,  1, 41,  6, 31, 19, 12,  5, 38,\n",
       "       38, 20,  3, 29, 41, 46, 22, 40, 36, 29, 39, 17,  6, 13, 49, 34, 35,\n",
       "       23, 30, 48, 45,  1, 16,  7, 42])"
      ]
     },
     "execution_count": 99,
     "metadata": {},
     "output_type": "execute_result"
    }
   ],
   "source": [
    "arr2[arr2<=50] # print less than 50 and 50 also "
   ]
  },
  {
   "cell_type": "code",
   "execution_count": 100,
   "id": "d0a25421-2d9a-4448-8d75-7e0acf9959da",
   "metadata": {},
   "outputs": [
    {
     "data": {
      "text/plain": [
       "array([87, 81, 94, 10, 52, 24, 58, 71, 51, 26, 19, 84, 97, 25, 26, 80, 66,\n",
       "       75, 16, 99, 51, 14, 59, 20,  1, 58, 41, 59,  6, 78, 84, 97, 57, 98,\n",
       "       31, 53, 19, 12, 64, 58, 54,  5, 58, 60, 86, 74, 38, 75, 38, 88, 93,\n",
       "       20, 60,  3, 29, 88, 74, 41, 92, 46, 84, 85, 22, 40, 36, 81, 88, 29,\n",
       "       78, 39, 90, 67, 59, 17,  6, 75, 13, 49, 71, 78, 34, 35, 54, 97, 54,\n",
       "       23, 54, 30, 48, 79, 45,  1, 81, 16, 67, 84,  7, 63, 42, 84])"
      ]
     },
     "execution_count": 100,
     "metadata": {},
     "output_type": "execute_result"
    }
   ],
   "source": [
    "arr2[arr2!=50] # in that 50 is missisng and all numvbers ARE PRINT "
   ]
  },
  {
   "cell_type": "code",
   "execution_count": 101,
   "id": "d0898500-f70b-430c-bd22-84a79cfeb983",
   "metadata": {},
   "outputs": [
    {
     "data": {
      "text/plain": [
       "array([], dtype=int32)"
      ]
     },
     "execution_count": 101,
     "metadata": {},
     "output_type": "execute_result"
    }
   ],
   "source": [
    "arr2[arr2==50]"
   ]
  },
  {
   "cell_type": "code",
   "execution_count": 102,
   "id": "f6dff9ca-6960-4df4-8c54-6c88e117c653",
   "metadata": {},
   "outputs": [
    {
     "data": {
      "text/plain": [
       "array([87, 81, 94, 52, 58, 71, 51, 84, 97, 80, 66, 75, 99, 51, 59, 58, 59,\n",
       "       78, 84, 97, 57, 98, 53, 64, 58, 54, 58, 60, 86, 74, 75, 88, 93, 60,\n",
       "       88, 74, 92, 84, 85, 81, 88, 78, 90, 67, 59, 75, 71, 78, 54, 97, 54,\n",
       "       54, 79, 81, 67, 84, 63, 84])"
      ]
     },
     "execution_count": 102,
     "metadata": {},
     "output_type": "execute_result"
    }
   ],
   "source": [
    "arr2[arr2>=50]"
   ]
  },
  {
   "cell_type": "code",
   "execution_count": 103,
   "id": "3443f504-4645-473d-92d3-88a8c8062bf8",
   "metadata": {},
   "outputs": [
    {
     "data": {
      "text/plain": [
       "array([87, 81, 94, 10, 52, 24, 58, 71, 51, 26, 19, 84, 97, 25, 26, 80, 66,\n",
       "       75, 16, 99, 51, 14, 59, 20,  1, 58, 41, 59,  6, 78, 84, 97, 57, 98,\n",
       "       31, 53, 19, 12, 64, 58, 54,  5, 58, 60, 86, 74, 38, 75, 38, 88, 93,\n",
       "       20, 60,  3, 29, 88, 74, 41, 92, 46, 84, 85, 22, 40, 36, 81, 88, 29,\n",
       "       78, 39, 90, 67, 59, 17,  6, 75, 13, 49, 71, 78, 34, 35, 54, 97, 54,\n",
       "       23, 54, 30, 48, 79, 45,  1, 81, 16, 67, 84,  7, 63, 42, 84])"
      ]
     },
     "execution_count": 103,
     "metadata": {},
     "output_type": "execute_result"
    }
   ],
   "source": [
    "arr2[arr2!=50]"
   ]
  }
 ],
 "metadata": {
  "kernelspec": {
   "display_name": "Python 3 (ipykernel)",
   "language": "python",
   "name": "python3"
  },
  "language_info": {
   "codemirror_mode": {
    "name": "ipython",
    "version": 3
   },
   "file_extension": ".py",
   "mimetype": "text/x-python",
   "name": "python",
   "nbconvert_exporter": "python",
   "pygments_lexer": "ipython3",
   "version": "3.12.7"
  }
 },
 "nbformat": 4,
 "nbformat_minor": 5
}
