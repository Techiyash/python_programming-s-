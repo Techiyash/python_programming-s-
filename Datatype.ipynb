{
 "cells": [
  {
   "cell_type": "markdown",
   "id": "f7fdc668-3a59-458e-a170-6344ee836867",
   "metadata": {},
   "source": [
    "# DATA TYPE \n"
   ]
  },
  {
   "cell_type": "code",
   "execution_count": 2,
   "id": "f9eaff33-6eb8-49e2-9dc2-0d64a01b8df4",
   "metadata": {},
   "outputs": [
    {
     "data": {
      "text/plain": [
       "23"
      ]
     },
     "execution_count": 2,
     "metadata": {},
     "output_type": "execute_result"
    }
   ],
   "source": [
    " # interger data type\n",
    "i=23\n",
    "i"
   ]
  },
  {
   "cell_type": "code",
   "execution_count": 4,
   "id": "51a6a2e9-050a-4e9d-b4cc-e802d8b8a7fc",
   "metadata": {},
   "outputs": [
    {
     "data": {
      "text/plain": [
       "int"
      ]
     },
     "execution_count": 4,
     "metadata": {},
     "output_type": "execute_result"
    }
   ],
   "source": [
    "type(i)"
   ]
  },
  {
   "cell_type": "code",
   "execution_count": 6,
   "id": "8be25252-390b-4389-94e3-4b23c8965602",
   "metadata": {},
   "outputs": [
    {
     "data": {
      "text/plain": [
       "float"
      ]
     },
     "execution_count": 6,
     "metadata": {},
     "output_type": "execute_result"
    }
   ],
   "source": [
    "# float datatype\n",
    "petrol=103.55\n",
    "petrol\n",
    "type (petrol)"
   ]
  },
  {
   "cell_type": "code",
   "execution_count": 7,
   "id": "81288f03-1f00-4519-b896-97afc272f457",
   "metadata": {},
   "outputs": [
    {
     "data": {
      "text/plain": [
       "True"
      ]
     },
     "execution_count": 7,
     "metadata": {},
     "output_type": "execute_result"
    }
   ],
   "source": [
    "# Boolian data type\n",
    "b= True\n",
    "b"
   ]
  },
  {
   "cell_type": "code",
   "execution_count": 8,
   "id": "a142383f-e3d1-4601-abfb-bca6721eb4b3",
   "metadata": {},
   "outputs": [
    {
     "data": {
      "text/plain": [
       "False"
      ]
     },
     "execution_count": 8,
     "metadata": {},
     "output_type": "execute_result"
    }
   ],
   "source": [
    "b1=False\n",
    "b1"
   ]
  },
  {
   "cell_type": "code",
   "execution_count": 9,
   "id": "b2eb9231-11d3-4e57-abf7-b2e7aba68d8a",
   "metadata": {},
   "outputs": [
    {
     "data": {
      "text/plain": [
       "1"
      ]
     },
     "execution_count": 9,
     "metadata": {},
     "output_type": "execute_result"
    }
   ],
   "source": [
    "True+ False"
   ]
  },
  {
   "cell_type": "code",
   "execution_count": 10,
   "id": "5cbd6143-fdf6-4474-8baf-3b1b4c6082f6",
   "metadata": {},
   "outputs": [
    {
     "data": {
      "text/plain": [
       "-1"
      ]
     },
     "execution_count": 10,
     "metadata": {},
     "output_type": "execute_result"
    }
   ],
   "source": [
    "False-True"
   ]
  },
  {
   "cell_type": "code",
   "execution_count": 11,
   "id": "a78ef2cc-dffc-4d6d-8c17-ec09fed15f11",
   "metadata": {},
   "outputs": [
    {
     "ename": "ZeroDivisionError",
     "evalue": "division by zero",
     "output_type": "error",
     "traceback": [
      "\u001b[1;31m---------------------------------------------------------------------------\u001b[0m",
      "\u001b[1;31mZeroDivisionError\u001b[0m                         Traceback (most recent call last)",
      "Cell \u001b[1;32mIn[11], line 1\u001b[0m\n\u001b[1;32m----> 1\u001b[0m \u001b[38;5;28;01mTrue\u001b[39;00m\u001b[38;5;241m/\u001b[39m\u001b[38;5;28;01mFalse\u001b[39;00m\n",
      "\u001b[1;31mZeroDivisionError\u001b[0m: division by zero"
     ]
    }
   ],
   "source": [
    "True/False"
   ]
  },
  {
   "cell_type": "code",
   "execution_count": 12,
   "id": "58475ac0-c983-41d1-8f64-b162c5d082f1",
   "metadata": {},
   "outputs": [
    {
     "data": {
      "text/plain": [
       "0.0"
      ]
     },
     "execution_count": 12,
     "metadata": {},
     "output_type": "execute_result"
    }
   ],
   "source": [
    "False/True"
   ]
  },
  {
   "cell_type": "code",
   "execution_count": 13,
   "id": "9d5a8399-3124-4331-8908-485ee235058c",
   "metadata": {},
   "outputs": [
    {
     "data": {
      "text/plain": [
       "0"
      ]
     },
     "execution_count": 13,
     "metadata": {},
     "output_type": "execute_result"
    }
   ],
   "source": [
    "False//True"
   ]
  },
  {
   "cell_type": "code",
   "execution_count": 14,
   "id": "4cc4ec3e-286a-45ef-b21d-d83ba5716eed",
   "metadata": {},
   "outputs": [
    {
     "data": {
      "text/plain": [
       "(10+20j)"
      ]
     },
     "execution_count": 14,
     "metadata": {},
     "output_type": "execute_result"
    }
   ],
   "source": [
    "# complex Datatype\n",
    "c1= 10 + 20j\n",
    "c1"
   ]
  },
  {
   "cell_type": "code",
   "execution_count": 15,
   "id": "bb21de74-c53e-45a6-86dc-e21a8a38f973",
   "metadata": {},
   "outputs": [
    {
     "data": {
      "text/plain": [
       "10.0"
      ]
     },
     "execution_count": 15,
     "metadata": {},
     "output_type": "execute_result"
    }
   ],
   "source": [
    "c1.real"
   ]
  },
  {
   "cell_type": "code",
   "execution_count": 16,
   "id": "d46a302d-737f-4d19-ac96-7ae177c7c475",
   "metadata": {},
   "outputs": [
    {
     "data": {
      "text/plain": [
       "20.0"
      ]
     },
     "execution_count": 16,
     "metadata": {},
     "output_type": "execute_result"
    }
   ],
   "source": [
    "c1.imag"
   ]
  },
  {
   "cell_type": "code",
   "execution_count": 17,
   "id": "8fa8a82e-38f5-4751-885e-529da6a40da0",
   "metadata": {},
   "outputs": [
    {
     "data": {
      "text/plain": [
       "(20+30j)"
      ]
     },
     "execution_count": 17,
     "metadata": {},
     "output_type": "execute_result"
    }
   ],
   "source": [
    "c2= 20+30j\n",
    "c2"
   ]
  },
  {
   "cell_type": "markdown",
   "id": "ac696144-4312-48cc-827f-65cad24cd9c1",
   "metadata": {},
   "source": []
  },
  {
   "cell_type": "code",
   "execution_count": 18,
   "id": "df3a7410-91b9-4473-975f-9c1188d8c1dd",
   "metadata": {},
   "outputs": [
    {
     "data": {
      "text/plain": [
       "(30+50j)"
      ]
     },
     "execution_count": 18,
     "metadata": {},
     "output_type": "execute_result"
    }
   ],
   "source": [
    "c1+c2"
   ]
  },
  {
   "cell_type": "markdown",
   "id": "526b2824-3012-4c1e-811a-7ecd69c92a50",
   "metadata": {},
   "source": [
    "# "
   ]
  },
  {
   "cell_type": "code",
   "execution_count": 19,
   "id": "18bff667-ed2f-4d3a-b74a-a46a863d1b46",
   "metadata": {},
   "outputs": [
    {
     "data": {
      "text/plain": [
       "(-10-10j)"
      ]
     },
     "execution_count": 19,
     "metadata": {},
     "output_type": "execute_result"
    }
   ],
   "source": [
    "c1-c2"
   ]
  },
  {
   "cell_type": "code",
   "execution_count": 20,
   "id": "a3f86c3d-fd78-4010-be26-3b29585f1e02",
   "metadata": {},
   "outputs": [
    {
     "data": {
      "text/plain": [
       "(-400+700j)"
      ]
     },
     "execution_count": 20,
     "metadata": {},
     "output_type": "execute_result"
    }
   ],
   "source": [
    "c1*c2"
   ]
  },
  {
   "cell_type": "code",
   "execution_count": 21,
   "id": "a4029570-8a20-4a68-9667-c8308989a8d9",
   "metadata": {},
   "outputs": [
    {
     "data": {
      "text/plain": [
       "'yash gupta0'"
      ]
     },
     "execution_count": 21,
     "metadata": {},
     "output_type": "execute_result"
    }
   ],
   "source": [
    "# string datatype\n",
    "a1= \"yash gupta0\"\n",
    "a1"
   ]
  },
  {
   "cell_type": "code",
   "execution_count": 23,
   "id": "00270407-4994-4c6f-90fb-3a298cbc0bf2",
   "metadata": {},
   "outputs": [
    {
     "data": {
      "text/plain": [
       "'yash '"
      ]
     },
     "execution_count": 23,
     "metadata": {},
     "output_type": "execute_result"
    }
   ],
   "source": [
    "q='yash '\n",
    "q"
   ]
  },
  {
   "cell_type": "code",
   "execution_count": 24,
   "id": "af96b7ad-0a6d-43c3-9ed5-ea0328087e75",
   "metadata": {},
   "outputs": [
    {
     "data": {
      "text/plain": [
       "'yash_gupta'"
      ]
     },
     "execution_count": 24,
     "metadata": {},
     "output_type": "execute_result"
    }
   ],
   "source": [
    "# string slicing\n",
    "s = \"yash_gupta\"\n",
    "s"
   ]
  },
  {
   "cell_type": "code",
   "execution_count": 25,
   "id": "cb57ba6d-8442-4f1d-8739-4052120d1286",
   "metadata": {},
   "outputs": [
    {
     "data": {
      "text/plain": [
       "'yash_gupta'"
      ]
     },
     "execution_count": 25,
     "metadata": {},
     "output_type": "execute_result"
    }
   ],
   "source": [
    "s[:]"
   ]
  },
  {
   "cell_type": "code",
   "execution_count": 26,
   "id": "af103e4b-4a2a-4338-b6fe-3b1027ab890a",
   "metadata": {},
   "outputs": [
    {
     "data": {
      "text/plain": [
       "'h'"
      ]
     },
     "execution_count": 26,
     "metadata": {},
     "output_type": "execute_result"
    }
   ],
   "source": [
    "s[3] #forward index in slicing"
   ]
  },
  {
   "cell_type": "code",
   "execution_count": 27,
   "id": "3bc5829b-0169-4184-bce1-56b071181f85",
   "metadata": {},
   "outputs": [
    {
     "data": {
      "text/plain": [
       "'y'"
      ]
     },
     "execution_count": 27,
     "metadata": {},
     "output_type": "execute_result"
    }
   ],
   "source": [
    "s[0]"
   ]
  },
  {
   "cell_type": "code",
   "execution_count": 28,
   "id": "d53a20d9-a2e9-4706-a6e2-edc413c117a5",
   "metadata": {},
   "outputs": [
    {
     "data": {
      "text/plain": [
       "'yash_gupta'"
      ]
     },
     "execution_count": 28,
     "metadata": {},
     "output_type": "execute_result"
    }
   ],
   "source": [
    "s[:]"
   ]
  },
  {
   "cell_type": "code",
   "execution_count": 31,
   "id": "b019584c-fe91-4107-8762-15329a1930c6",
   "metadata": {},
   "outputs": [
    {
     "data": {
      "text/plain": [
       "'a'"
      ]
     },
     "execution_count": 31,
     "metadata": {},
     "output_type": "execute_result"
    }
   ],
   "source": [
    "s[-9] #backward index in slicing"
   ]
  },
  {
   "cell_type": "code",
   "execution_count": 30,
   "id": "9b382efc-18f7-4f0c-808d-846930c97864",
   "metadata": {},
   "outputs": [
    {
     "data": {
      "text/plain": [
       "'h'"
      ]
     },
     "execution_count": 30,
     "metadata": {},
     "output_type": "execute_result"
    }
   ],
   "source": [
    "s[-7]"
   ]
  },
  {
   "cell_type": "code",
   "execution_count": 32,
   "id": "2f7fe079-4278-41a2-8818-0f3e1a42b5c3",
   "metadata": {},
   "outputs": [
    {
     "data": {
      "text/plain": [
       "'ash_gupt'"
      ]
     },
     "execution_count": 32,
     "metadata": {},
     "output_type": "execute_result"
    }
   ],
   "source": [
    "s[1:9] # in that (n-1) formula are appplied means 9-1 =8 that started with 1 and end with 8 take 8 index from 1 to 8"
   ]
  },
  {
   "cell_type": "code",
   "execution_count": 33,
   "id": "48bfb236-e4b9-4bb8-bf0e-2475d830d2fa",
   "metadata": {},
   "outputs": [
    {
     "data": {
      "text/plain": [
       "'_gu'"
      ]
     },
     "execution_count": 33,
     "metadata": {},
     "output_type": "execute_result"
    }
   ],
   "source": [
    "s[4:7]"
   ]
  },
  {
   "cell_type": "code",
   "execution_count": 1,
   "id": "53756e27-dbcf-4462-8fbe-421a91153631",
   "metadata": {},
   "outputs": [
    {
     "name": "stdout",
     "output_type": "stream",
     "text": [
      "<class 'int'>\n"
     ]
    }
   ],
   "source": [
    "print(type(10))"
   ]
  },
  {
   "cell_type": "code",
   "execution_count": 2,
   "id": "1d46c46f-324a-4347-8958-c347d05f4cea",
   "metadata": {},
   "outputs": [
    {
     "name": "stdout",
     "output_type": "stream",
     "text": [
      "<class 'float'>\n"
     ]
    }
   ],
   "source": [
    "print(type(3.14))"
   ]
  },
  {
   "cell_type": "code",
   "execution_count": 3,
   "id": "07e08f0b-74e3-45df-a4c5-528a3f3db426",
   "metadata": {},
   "outputs": [
    {
     "name": "stdout",
     "output_type": "stream",
     "text": [
      "<class 'complex'>\n"
     ]
    }
   ],
   "source": [
    "print(type(1+8j))"
   ]
  },
  {
   "cell_type": "code",
   "execution_count": 4,
   "id": "9e71ba56-f6f7-4d51-a250-35b5155b8ba2",
   "metadata": {},
   "outputs": [
    {
     "name": "stdout",
     "output_type": "stream",
     "text": [
      "<class 'str'>\n"
     ]
    }
   ],
   "source": [
    "print(type('yash gupta'))"
   ]
  },
  {
   "cell_type": "code",
   "execution_count": 5,
   "id": "e620e8d9-6b05-4445-baf3-a0cb078a7663",
   "metadata": {},
   "outputs": [
    {
     "name": "stdout",
     "output_type": "stream",
     "text": [
      "<class 'list'>\n"
     ]
    }
   ],
   "source": [
    "print(type([1,2,3]))"
   ]
  },
  {
   "cell_type": "code",
   "execution_count": 6,
   "id": "b409b8af-e2b3-4f27-959c-b9fe5151d823",
   "metadata": {},
   "outputs": [
    {
     "name": "stdout",
     "output_type": "stream",
     "text": [
      "<class 'dict'>\n"
     ]
    }
   ],
   "source": [
    "print(type({'yash':'gupta'}))"
   ]
  },
  {
   "cell_type": "code",
   "execution_count": 7,
   "id": "c31ca5f8-3666-4ce9-8251-d68c7ab1a044",
   "metadata": {},
   "outputs": [
    {
     "name": "stdout",
     "output_type": "stream",
     "text": [
      "<class 'set'>\n"
     ]
    }
   ],
   "source": [
    "print(type({2.3,1.2,3.1}))"
   ]
  },
  {
   "cell_type": "code",
   "execution_count": 9,
   "id": "4dac4b83-c8a2-4e8b-a657-361e0548617c",
   "metadata": {},
   "outputs": [
    {
     "name": "stdout",
     "output_type": "stream",
     "text": [
      "<class 'tuple'>\n"
     ]
    }
   ],
   "source": [
    "print(type( (2.3,4.3,4.1 )))"
   ]
  },
  {
   "cell_type": "code",
   "execution_count": 10,
   "id": "17d35424-e5f0-4bfe-846a-ec7fe7d8168f",
   "metadata": {},
   "outputs": [
    {
     "name": "stdout",
     "output_type": "stream",
     "text": [
      "<class 'bool'>\n"
     ]
    }
   ],
   "source": [
    "print(type(3==3))"
   ]
  },
  {
   "cell_type": "code",
   "execution_count": 11,
   "id": "a849ecc8-e14a-46f9-ae7f-8d847a52534c",
   "metadata": {},
   "outputs": [
    {
     "name": "stdout",
     "output_type": "stream",
     "text": [
      "<class 'bool'>\n"
     ]
    }
   ],
   "source": [
    "print(type(3>=3))"
   ]
  },
  {
   "cell_type": "code",
   "execution_count": null,
   "id": "acecf947-5ee3-45b8-80cd-ff173a64ded1",
   "metadata": {},
   "outputs": [],
   "source": []
  }
 ],
 "metadata": {
  "kernelspec": {
   "display_name": "Python 3 (ipykernel)",
   "language": "python",
   "name": "python3"
  },
  "language_info": {
   "codemirror_mode": {
    "name": "ipython",
    "version": 3
   },
   "file_extension": ".py",
   "mimetype": "text/x-python",
   "name": "python",
   "nbconvert_exporter": "python",
   "pygments_lexer": "ipython3",
   "version": "3.12.7"
  }
 },
 "nbformat": 4,
 "nbformat_minor": 5
}
